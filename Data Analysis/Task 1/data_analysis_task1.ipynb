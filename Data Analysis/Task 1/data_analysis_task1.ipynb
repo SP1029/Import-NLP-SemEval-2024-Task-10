{
 "cells": [
  {
   "cell_type": "code",
   "execution_count": 1,
   "metadata": {},
   "outputs": [],
   "source": [
    "import json\n",
    "from collections import Counter\n",
    "import pandas as pd"
   ]
  },
  {
   "cell_type": "code",
   "execution_count": 2,
   "metadata": {},
   "outputs": [],
   "source": [
    "# Read File\n",
    "\n",
    "file_name = \"MaSaC_train_erc.json\"\n",
    "with open(file_name, 'r') as file:\n",
    "        dataset = json.load(file)"
   ]
  },
  {
   "cell_type": "code",
   "execution_count": 3,
   "metadata": {},
   "outputs": [
    {
     "name": "stdout",
     "output_type": "stream",
     "text": [
      "343\n"
     ]
    }
   ],
   "source": [
    "# Number of episodes in dataset\n",
    "\n",
    "N = len(dataset)\n",
    "print(N)"
   ]
  },
  {
   "cell_type": "code",
   "execution_count": 4,
   "metadata": {},
   "outputs": [
    {
     "data": {
      "text/plain": [
       "{'episode': 'roseshantstobeadopted.wmv',\n",
       " 'speakers': ['maya',\n",
       "  'indu',\n",
       "  'rosesh',\n",
       "  'indu',\n",
       "  'maya',\n",
       "  'indu',\n",
       "  'rosesh',\n",
       "  'indu',\n",
       "  'sahil',\n",
       "  'rosesh',\n",
       "  'maya',\n",
       "  'indu',\n",
       "  'sahil',\n",
       "  'monish',\n",
       "  'maya',\n",
       "  'indu',\n",
       "  'maya',\n",
       "  'indu',\n",
       "  'indu',\n",
       "  'maya',\n",
       "  'rosesh',\n",
       "  'maya'],\n",
       " 'utterances': ['kya kya bhar ke rakha hai indravadan ne is ghar mein indravadan please tum sari bekar ki chijen bahar kyon nahin fekte?',\n",
       "  'ok, chalo rosesh chalo bahar',\n",
       "  'momma! hath chhodiye dad!',\n",
       "  'dekho maya ya na bol raha hai! fir tum hi kahogi faltu chijen jama karte ho fekte nahin ho, chalo',\n",
       "  'indravadan, tum kitne salo se ye joke maar rahe ho. koi hota hai aaj tak?',\n",
       "  'kaikai pe joke maroge to manthra thodi na hasegi',\n",
       "  'very funny',\n",
       "  'maya, monisha aur sahil aa rahe hain, dekhna yahi jo un per istemal karta hun aur dekhna vah kitna haste hain',\n",
       "  'hi guys',\n",
       "  'hi',\n",
       "  'hi darling. achcha indravadan, please ya kachra bahar fenko!',\n",
       "  'ok maya, chalo rosesh tumhen bahar fenk au',\n",
       "  'mom! diwali ka lunch hamare ghar pe',\n",
       "  'aur mein khana fresh banane wali hun',\n",
       "  'i rest my case indravadan. hase donon, huh? achcha ab to please kachra bahar fenk do',\n",
       "  'ok maya, chalo monisha tumhe bahar fenk aau',\n",
       "  'ha ha ha, indravadan you are so funny',\n",
       "  'haila, sahil! tumhare diwali lunch per hai na maiya ko keede, makode aur mukhiya khilana',\n",
       "  'kyunki jab maine wahi joke rosesh pe mara to bilkul nahin hasi lekin vahi joke jab maine monisha per mara to dekho kaise has rahi hai!',\n",
       "  'acha now cut it out huh indravadan. rosesh sweety tumhi nikalo na sara kachra bahar',\n",
       "  'ok chaliye dad, mein aapko bahar fenk kar aata hun!',\n",
       "  'haha, you asked for that one. sahil darling tumhi madad kar do please meri. mera ghar to ekadam monisha ka ghar ban gaya hai!'],\n",
       " 'emotions': ['disgust',\n",
       "  'contempt',\n",
       "  'anger',\n",
       "  'neutral',\n",
       "  'neutral',\n",
       "  'contempt',\n",
       "  'contempt',\n",
       "  'neutral',\n",
       "  'joy',\n",
       "  'joy',\n",
       "  'neutral',\n",
       "  'neutral',\n",
       "  'joy',\n",
       "  'joy',\n",
       "  'neutral',\n",
       "  'neutral',\n",
       "  'joy',\n",
       "  'neutral',\n",
       "  'contempt',\n",
       "  'neutral',\n",
       "  'joy',\n",
       "  'contempt']}"
      ]
     },
     "execution_count": 4,
     "metadata": {},
     "output_type": "execute_result"
    }
   ],
   "source": [
    "# Sample Episode\n",
    "\n",
    "dataset[0]"
   ]
  },
  {
   "cell_type": "code",
   "execution_count": 5,
   "metadata": {},
   "outputs": [],
   "source": [
    "# Reading the data\n",
    "\n",
    "episodes_list = []\n",
    "speakers_list = []\n",
    "utterances_list = []\n",
    "emotions_list = []\n",
    "\n",
    "for i in range(len(dataset)):\n",
    "        episodes_list.append(dataset[i]['episode'])\n",
    "        speakers_list.append(dataset[i]['speakers'])\n",
    "        utterances_list.append(dataset[i]['utterances'])\n",
    "        emotions_list.append(dataset[i]['emotions'])  \n",
    "    "
   ]
  },
  {
   "cell_type": "code",
   "execution_count": 6,
   "metadata": {},
   "outputs": [
    {
     "name": "stdout",
     "output_type": "stream",
     "text": [
      "112\n"
     ]
    }
   ],
   "source": [
    "c = Counter()\n",
    "for i in range(N):\n",
    "    c.update(speakers_list[i])\n",
    "    \n",
    "print(len(list(c.keys())))"
   ]
  },
  {
   "cell_type": "code",
   "execution_count": 7,
   "metadata": {},
   "outputs": [
    {
     "name": "stdout",
     "output_type": "stream",
     "text": [
      "Average Number of Utterances one person performs in an episode is 6.88\n",
      "Average Number of Speakers in an episode is 3.61\n"
     ]
    }
   ],
   "source": [
    "# Speaker Data Analysis\n",
    "\n",
    "# Data Processing\n",
    "speakers_data = [None] * N\n",
    "\n",
    "for i in range(N):\n",
    "    c = Counter()\n",
    "    c.update(speakers_list[i])\n",
    "    speakers_data[i] = c.items()\n",
    "\n",
    "# Finding Average\n",
    "instance_count = 0\n",
    "total_count = 0\n",
    "for i in range(N):\n",
    "    for person, utt_count in speakers_data[i]:\n",
    "        total_count += utt_count\n",
    "        instance_count += 1\n",
    "\n",
    "avg_utt_per_person = total_count / instance_count\n",
    "print(\"Average Number of Utterances one person performs in an episode is {:.2f}\".format( avg_utt_per_person))\n",
    "\n",
    "# Speaker Count Data Analysis\n",
    "person_count = 0\n",
    "for i in range(N):\n",
    "    for person, utt_count in speakers_data[i]:\n",
    "        person_count += 1\n",
    "    \n",
    "print(\"Average Number of Speakers in an episode is {:.2f}\".format(person_count / N))"
   ]
  },
  {
   "cell_type": "code",
   "execution_count": 8,
   "metadata": {},
   "outputs": [
    {
     "data": {
      "text/plain": [
       "8506"
      ]
     },
     "execution_count": 8,
     "metadata": {},
     "output_type": "execute_result"
    }
   ],
   "source": [
    "total_count"
   ]
  },
  {
   "cell_type": "code",
   "execution_count": 9,
   "metadata": {},
   "outputs": [
    {
     "name": "stdout",
     "output_type": "stream",
     "text": [
      "Average Number of Utterances in an episode is 24.80\n"
     ]
    }
   ],
   "source": [
    "# Utterance Count Data Analysis\n",
    "utterances_count = [None] * N\n",
    "\n",
    "for i in range(N):\n",
    "    utterances_count[i] = len(utterances_list[i])\n",
    "   \n",
    "sum = 0\n",
    "for i in range(N):\n",
    "    sum += utterances_count[i]\n",
    "    \n",
    "print(\"Average Number of Utterances in an episode is {:.2f}\".format(sum / N))"
   ]
  },
  {
   "cell_type": "code",
   "execution_count": 10,
   "metadata": {},
   "outputs": [
    {
     "name": "stdout",
     "output_type": "stream",
     "text": [
      "Utterances with label neutral is 3909\n",
      "Utterances with label joy is 1596\n",
      "Utterances with label anger is 819\n",
      "Utterances with label sadness is 558\n",
      "Utterances with label contempt is 542\n",
      "Utterances with label fear is 514\n",
      "Utterances with label surprise is 441\n",
      "Utterances with label disgust is 127\n"
     ]
    }
   ],
   "source": [
    "# Emotion Count Data Analysis\n",
    "emotions_data = [None] * N\n",
    "\n",
    "for i in range(N):\n",
    "    c = Counter()\n",
    "    c.update(emotions_list[i])\n",
    "    emotions_data[i] = c.items()\n",
    "    \n",
    "c = Counter()\n",
    "for i in range(N):\n",
    "    c.update(emotions_list[i])\n",
    "\n",
    "for count, label in sorted( ((v,k) for k,v in c.items()), reverse=True):\n",
    "    print(f\"Utterances with label {label} is {count}\")"
   ]
  },
  {
   "cell_type": "code",
   "execution_count": 11,
   "metadata": {},
   "outputs": [
    {
     "name": "stdout",
     "output_type": "stream",
     "text": [
      "Count Statistics\n",
      "Row Labels are emotion FLIP FROM EMOTION and Column Labels are FLIP TO EMOTION\n",
      "          neutral  anger  surprise  fear  joy  contempt  sadness  disgust\n",
      "neutral         0    247       154   164  554       210      148       48\n",
      "anger         260      0        40    38   48        54       44       18\n",
      "surprise      193     30         0    27   58        25       17        3\n",
      "fear          170     34        22     0   68        17       33        8\n",
      "joy           568     46        55    41    0        63       47        6\n",
      "contempt      202     64        32    17   64         0       21       14\n",
      "sadness       164     34        20    32   51        16        0        7\n",
      "disgust        38     21         9     6    4        13        6        0\n",
      "\n",
      "\n",
      "\n",
      "Distance between utterances of the flip\n",
      "Row Labels are emotion FLIP FROM EMOTION and Column Labels are FLIP TO EMOTION\n",
      "         neutral anger surprise  fear   joy contempt sadness disgust\n",
      "neutral        0  3.14     3.90  2.96  3.09     2.83    3.12    4.88\n",
      "anger       3.15     0     3.05  3.16  2.85     3.06    2.20    2.33\n",
      "surprise    2.94   3.3        0  2.93  4.47      3.2    2.65       2\n",
      "fear        3.31  2.59     2.73     0  3.34     4.76    3.30       3\n",
      "joy         3.40  4.13     3.49  3.73     0     3.19    3.28    4.83\n",
      "contempt    2.76  3.38     3.84  2.29  3.52        0    2.38     3.5\n",
      "sadness     3.58  2.62      3.4  2.19  3.35     2.56       0    2.71\n",
      "disgust     3.39  2.76        4  2.17   2.5     1.92       2       0\n"
     ]
    }
   ],
   "source": [
    "# Emotion Flip Analysis\n",
    "labels = [\"neutral\", \"anger\", \"surprise\", \"fear\", \"joy\", \"contempt\", \"sadness\", \"disgust\"]\n",
    "\n",
    "# Defining the variables\n",
    "is_flip = [None] * N\n",
    "flip_from_emotion = [None] * N\n",
    "flip_from_index = [None] * N\n",
    "flip_to_emotion = [None] * N\n",
    "flip_to_index = [None] * N\n",
    "for i in range(N):\n",
    "    k = len(utterances_list[i])\n",
    "    is_flip[i] = [0] * k\n",
    "    flip_from_emotion[i] = [None] * k\n",
    "    flip_from_index[i] = [None] * k\n",
    "    flip_to_emotion[i] = [None] * k\n",
    "    flip_to_index[i] = [None] * k\n",
    "\n",
    "# Filling the variables\n",
    "for i in range(N):\n",
    "    speakers = set(speakers_list[i])\n",
    "    state_dict = {}\n",
    "    for sp in speakers:\n",
    "        state_dict[sp] = (None, None)   # (ix, emotion)\n",
    "    \n",
    "    for j in range(len(utterances_list[i])):\n",
    "        sp = speakers_list[i][j]\n",
    "        sp_emotion = emotions_list[i][j]\n",
    "        if state_dict[sp][0]==None:\n",
    "            state_dict[sp] = (j, sp_emotion)\n",
    "        else:\n",
    "            if state_dict[sp][1]!=sp_emotion:\n",
    "                is_flip[i][j] = 1\n",
    "                flip_from_emotion[i][j] = state_dict[sp][1]\n",
    "                flip_from_index[i][j] = state_dict[sp][0]\n",
    "                flip_to_emotion[i][j] = sp_emotion\n",
    "                flip_to_index[i][j] = j\n",
    "            \n",
    "            state_dict[sp] = (j, sp_emotion)          \n",
    "            \n",
    "# Data Analysis\n",
    "flip_pair_dict = {}\n",
    "for label1 in labels:\n",
    "    for label2 in labels:\n",
    "        flip_pair_dict[(label1, label2)] = [0, 0]\n",
    "        \n",
    "for i in range(N):\n",
    "    for j in range(len(utterances_list[i])):\n",
    "        if is_flip[i][j]==1:\n",
    "            flip_pair_dict[(flip_from_emotion[i][j], flip_to_emotion[i][j])][0] += 1\n",
    "            flip_pair_dict[(flip_from_emotion[i][j], flip_to_emotion[i][j])][1] += flip_to_index[i][j] - flip_from_index[i][j]\n",
    "\n",
    "# Formatting\n",
    "from decimal import Decimal, getcontext\n",
    "getcontext().prec = 3\n",
    "\n",
    "# Displaying Results\n",
    "count_result = {}\n",
    "for label1 in labels:\n",
    "    count_result[label1] = [0] * len(labels)\n",
    "\n",
    "for i, label1 in enumerate(labels):\n",
    "    for j, label2 in enumerate(labels):\n",
    "        count_result[label1][j] = flip_pair_dict[(label1, label2)][0]\n",
    "        \n",
    "dist_result = {}\n",
    "for label1 in labels:\n",
    "    dist_result[label1] = [0] * len(labels)\n",
    "\n",
    "for i, label1 in enumerate(labels):\n",
    "    for j, label2 in enumerate(labels):\n",
    "        if flip_pair_dict[(label1, label2)][0]!=0:\n",
    "            dist_result[label1][j] = Decimal(flip_pair_dict[(label1, label2)][1]) / Decimal(flip_pair_dict[(label1, label2)][0])\n",
    "        else:\n",
    "            dist_result[label1][j] = 0\n",
    "\n",
    "print(\"Count Statistics\")       \n",
    "print(\"Row Labels are emotion FLIP FROM EMOTION and Column Labels are FLIP TO EMOTION\")\n",
    "df_count = pd.DataFrame(count_result, pd.Index(labels))\n",
    "print(df_count)\n",
    "print(\"\\n\\n\")\n",
    "print(\"Distance between utterances of the flip\")\n",
    "print(\"Row Labels are emotion FLIP FROM EMOTION and Column Labels are FLIP TO EMOTION\")\n",
    "df_dist = pd.DataFrame(dist_result, pd.Index(labels))\n",
    "print(df_dist)"
   ]
  },
  {
   "cell_type": "code",
   "execution_count": null,
   "metadata": {},
   "outputs": [],
   "source": []
  }
 ],
 "metadata": {
  "kernelspec": {
   "display_name": "env",
   "language": "python",
   "name": "python3"
  },
  "language_info": {
   "codemirror_mode": {
    "name": "ipython",
    "version": 3
   },
   "file_extension": ".py",
   "mimetype": "text/x-python",
   "name": "python",
   "nbconvert_exporter": "python",
   "pygments_lexer": "ipython3",
   "version": "3.10.11"
  },
  "orig_nbformat": 4
 },
 "nbformat": 4,
 "nbformat_minor": 2
}
