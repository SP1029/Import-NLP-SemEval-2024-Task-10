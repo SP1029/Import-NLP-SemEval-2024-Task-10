{
 "cells": [
  {
   "cell_type": "code",
   "execution_count": 1,
   "metadata": {},
   "outputs": [],
   "source": [
    "import json\n",
    "from collections import Counter\n",
    "import pandas as pd"
   ]
  },
  {
   "cell_type": "code",
   "execution_count": 2,
   "metadata": {},
   "outputs": [],
   "source": [
    "# Read File\n",
    "\n",
    "file_name = \"MaSaC_train_efr.json\"\n",
    "with open(file_name, 'r') as file:\n",
    "        dataset = json.load(file)"
   ]
  },
  {
   "cell_type": "code",
   "execution_count": 3,
   "metadata": {},
   "outputs": [
    {
     "name": "stdout",
     "output_type": "stream",
     "text": [
      "4893\n"
     ]
    }
   ],
   "source": [
    "# Number of episodes in dataset\n",
    "\n",
    "N = len(dataset)\n",
    "print(N)"
   ]
  },
  {
   "cell_type": "code",
   "execution_count": 4,
   "metadata": {},
   "outputs": [
    {
     "data": {
      "text/plain": [
       "{'episode': 'lease1.wmv',\n",
       " 'speakers': ['monisha', 'sahil', 'monisha', 'sahil', 'monisha'],\n",
       " 'utterances': ['theek se wajan karana',\n",
       "  'monisha',\n",
       "  'abhi ayi. yeh, ye bhi rakho.',\n",
       "  'monisha, iss churidaar me nara nhi hai.',\n",
       "  'to kisee aur churidaar ka nara nikalke dalo na isme sahil.'],\n",
       " 'triggers': ['0', '0', '0', '1', '0'],\n",
       " 'emotions': ['neutral', 'neutral', 'anger', 'neutral', 'neutral']}"
      ]
     },
     "execution_count": 4,
     "metadata": {},
     "output_type": "execute_result"
    }
   ],
   "source": [
    "# Sample Episode\n",
    "\n",
    "dataset[0]"
   ]
  },
  {
   "cell_type": "code",
   "execution_count": 5,
   "metadata": {},
   "outputs": [],
   "source": [
    "# Emotion Flip Analysis\n",
    "\n",
    "# Read File\n",
    "\n",
    "file_name = \"MaSaC_train_efr.json\"\n",
    "with open(file_name, 'r') as file:\n",
    "        dataset = json.load(file)\n",
    "\n",
    "# Reading the data\n",
    "\n",
    "episodes_list = []\n",
    "speakers_list = []\n",
    "utterances_list = []\n",
    "triggers_list = []\n",
    "emotions_list = []\n",
    "\n",
    "for i in range(len(dataset)):\n",
    "        episodes_list.append(dataset[i]['episode'])\n",
    "        speakers_list.append(dataset[i]['speakers'])\n",
    "        utterances_list.append(dataset[i]['utterances'])\n",
    "        triggers_list.append(dataset[i]['triggers'])\n",
    "        emotions_list.append(dataset[i]['emotions'])  \n",
    "\n",
    "N = len(dataset)   \n",
    "\n",
    "data = [[],[],[],[],[]]\n",
    "# prev_first_sen = utterances_list[0][0]\n",
    "d_id = -1\n",
    "for i in range(N):\n",
    "    if i==N-1 or utterances_list[i][0]!=utterances_list[i+1][0]:\n",
    "        d_id+=1\n",
    "        # if i!=N-1:\n",
    "        #         prev_first_sen = utterances_list[i+1][0]\n",
    "        data_temp = [[],[],[],[],[]]\n",
    "        \n",
    "        for j in range(len(utterances_list[i])):\n",
    "            data_temp[0].append(d_id)\n",
    "            data_temp[1].append(speakers_list[i][j])\n",
    "            data_temp[2].append(emotions_list[i][j])\n",
    "            data_temp[3].append(utterances_list[i][j])\n",
    "            data_temp[4].append(triggers_list[i][j])\n",
    "        \n",
    "        data[0].append(data_temp[0])\n",
    "        data[1].append(data_temp[1])\n",
    "        data[2].append(data_temp[2])\n",
    "        data[3].append(data_temp[3])\n",
    "        data[4].append(data_temp[4])\n",
    "                       \n",
    "speakers_list_uq = data[1]\n",
    "emotions_list_uq = data[2]\n",
    "utterances_list_uq = data[3]\n",
    "triggers_list_uq = data[4]\n",
    "\n",
    "N_uq = len(utterances_list_uq)"
   ]
  },
  {
   "cell_type": "code",
   "execution_count": 6,
   "metadata": {},
   "outputs": [
    {
     "name": "stdout",
     "output_type": "stream",
     "text": [
      "4893\n",
      "452\n"
     ]
    }
   ],
   "source": [
    "print(N)\n",
    "print(N_uq)"
   ]
  },
  {
   "cell_type": "code",
   "execution_count": 7,
   "metadata": {},
   "outputs": [
    {
     "name": "stdout",
     "output_type": "stream",
     "text": [
      "Total Utterances  11260\n",
      "Average Number of Utterances one person performs in an episode is 6.96\n",
      "Average Number of Speakers in an episode is 3.58\n"
     ]
    }
   ],
   "source": [
    "# Speaker Data Analysis\n",
    "\n",
    "# Data Processing\n",
    "speakers_data_uq = [None] * N_uq\n",
    "\n",
    "for i in range(N_uq):\n",
    "    c_uq = Counter()\n",
    "    c_uq.update(speakers_list_uq[i])\n",
    "    speakers_data_uq[i] = c_uq.items()\n",
    "\n",
    "# Finding Average\n",
    "instance_count_uq = 0\n",
    "total_count_uq = 0\n",
    "for i in range(N_uq):\n",
    "    for person, utt_count in speakers_data_uq[i]:\n",
    "        total_count_uq += utt_count\n",
    "        instance_count_uq += 1\n",
    "\n",
    "print(\"Total Utterances \", total_count_uq)\n",
    "avg_utt_per_person_uq = total_count_uq / instance_count_uq\n",
    "print(\"Average Number of Utterances one person performs in an episode is {:.2f}\".format( avg_utt_per_person_uq))\n",
    "\n",
    "# Speaker Count Data Analysis\n",
    "person_count_uq = 0\n",
    "for i in range(N_uq):\n",
    "    for person, utt_count in speakers_data_uq[i]:\n",
    "        person_count_uq += 1\n",
    "        \n",
    "print(\"Average Number of Speakers in an episode is {:.2f}\".format(person_count_uq / N_uq))"
   ]
  },
  {
   "cell_type": "code",
   "execution_count": 8,
   "metadata": {},
   "outputs": [
    {
     "data": {
      "text/plain": [
       "11260"
      ]
     },
     "execution_count": 8,
     "metadata": {},
     "output_type": "execute_result"
    }
   ],
   "source": [
    "total_count_uq"
   ]
  },
  {
   "cell_type": "code",
   "execution_count": 9,
   "metadata": {},
   "outputs": [
    {
     "name": "stdout",
     "output_type": "stream",
     "text": [
      "Average Number of Utterances in an episode is 24.91\n"
     ]
    }
   ],
   "source": [
    "# Utterance Count Data Analysis\n",
    "utterances_count_uq = [None] * N_uq\n",
    "\n",
    "for i in range(N_uq):\n",
    "    utterances_count_uq[i] = len(utterances_list_uq[i])\n",
    "   \n",
    "total_count_uq = 0\n",
    "for i in range(N_uq):\n",
    "    total_count_uq += utterances_count_uq[i]\n",
    "    \n",
    "print(\"Average Number of Utterances in an episode is {:.2f}\".format(total_count_uq / N_uq))"
   ]
  },
  {
   "cell_type": "code",
   "execution_count": 10,
   "metadata": {},
   "outputs": [
    {
     "name": "stdout",
     "output_type": "stream",
     "text": [
      "Data Error: In episode 775 the utterance 26 has trigger label Curiosity\n",
      "Data Error: In episode 1449 the utterance 18 has trigger label Annoyance\n",
      "Average Number of triggers in an episode is 1.34\n"
     ]
    }
   ],
   "source": [
    "# Trigger Count Data Analysis\n",
    "triggers_count = [None] * N\n",
    "\n",
    "for i in range(N):\n",
    "    for j in range(len(triggers_list[i])):\n",
    "        try:\n",
    "            triggers_list[i][j] = int(float(triggers_list[i][j]))\n",
    "        except:\n",
    "            print(f\"Data Error: In episode {i} the utterance {j} has trigger label {triggers_list[i][j]}\")  \n",
    "            triggers_list[i][j] = 0\n",
    "            \n",
    "    triggers_count[i] = sum(triggers_list[i])\n",
    "   \n",
    "total_count = 0\n",
    "for i in range(N):\n",
    "    total_count += triggers_count[i]\n",
    "    \n",
    "print(\"Average Number of triggers in an episode is {:.2f}\".format(total_count / N))"
   ]
  },
  {
   "cell_type": "code",
   "execution_count": 11,
   "metadata": {},
   "outputs": [
    {
     "name": "stdout",
     "output_type": "stream",
     "text": [
      "Utterances with label neutral is 5107\n",
      "Utterances with label joy is 2138\n",
      "Utterances with label anger is 1052\n",
      "Utterances with label sadness is 845\n",
      "Utterances with label fear is 707\n",
      "Utterances with label contempt is 693\n",
      "Utterances with label surprise is 556\n",
      "Utterances with label disgust is 162\n"
     ]
    }
   ],
   "source": [
    "# Emotion Count Data Analysis\n",
    "emotions_data_uq = [None] * N_uq\n",
    "\n",
    "for i in range(N_uq):\n",
    "    c_uq = Counter()\n",
    "    c_uq.update(emotions_list_uq[i])\n",
    "    emotions_data_uq[i] = c_uq.items()\n",
    "    \n",
    "c_uq = Counter()\n",
    "for i in range(N_uq):\n",
    "    c_uq.update(emotions_list_uq[i])\n",
    "\n",
    "for count, label in sorted( ((v,k) for k,v in c_uq.items()), reverse=True):\n",
    "    print(f\"Utterances with label {label} is {count}\")"
   ]
  },
  {
   "cell_type": "code",
   "execution_count": 12,
   "metadata": {},
   "outputs": [
    {
     "name": "stdout",
     "output_type": "stream",
     "text": [
      "Number of Triggers which had emotion neutral are 2960\n",
      "Number of Triggers which had emotion joy are 1216\n",
      "Number of Triggers which had emotion anger are 575\n",
      "Number of Triggers which had emotion sadness are 566\n",
      "Number of Triggers which had emotion fear are 408\n",
      "Number of Triggers which had emotion contempt are 369\n",
      "Number of Triggers which had emotion surprise are 334\n",
      "Number of Triggers which had emotion disgust are 114\n"
     ]
    }
   ],
   "source": [
    "# Trigger Detailed Analysis\n",
    "\n",
    "labels = [\"neutral\", \"anger\", \"surprise\", \"fear\", \"joy\", \"sadness\", \"disgust\", \"contempt\"]\n",
    "\n",
    "count_dict = {}\n",
    "for l in labels:\n",
    "    count_dict[l] = 0\n",
    "\n",
    "dist_counter = Counter()\n",
    "\n",
    "for i in range(N):\n",
    "    for j in range(len(triggers_list[i])):\n",
    "        if triggers_list[i][j]==1:\n",
    "            to_emotion = emotions_list[i][j]\n",
    "            count_dict[to_emotion] += 1\n",
    "            dist_counter.update([len(triggers_list[i])-1 - j])\n",
    "            \n",
    "for count, label in sorted( ((v,k) for k,v in count_dict.items()), reverse=True):\n",
    "    print(f\"Number of Triggers which had emotion {label} are {count}\")"
   ]
  },
  {
   "cell_type": "code",
   "execution_count": 13,
   "metadata": {},
   "outputs": [
    {
     "data": {
      "text/plain": [
       "{'neutral': 2960,\n",
       " 'anger': 575,\n",
       " 'surprise': 334,\n",
       " 'fear': 408,\n",
       " 'joy': 1216,\n",
       " 'sadness': 566,\n",
       " 'disgust': 114,\n",
       " 'contempt': 369}"
      ]
     },
     "execution_count": 13,
     "metadata": {},
     "output_type": "execute_result"
    }
   ],
   "source": [
    "count_dict"
   ]
  },
  {
   "cell_type": "code",
   "execution_count": 14,
   "metadata": {},
   "outputs": [
    {
     "name": "stderr",
     "output_type": "stream",
     "text": [
      "c:\\Shubham\\B-Tech\\Study\\Academics\\Semester_5\\CS779\\Practical\\env\\lib\\site-packages\\seaborn\\axisgrid.py:118: UserWarning: The figure layout has changed to tight\n",
      "  self._figure.tight_layout(*args, **kwargs)\n"
     ]
    },
    {
     "data": {
      "image/png": "[encoded data removed]",
      "text/plain": [
       "<Figure size 500x500 with 1 Axes>"
      ]
     },
     "metadata": {},
     "output_type": "display_data"
    }
   ],
   "source": [
    "utt_label = pd.DataFrame(columns=['emotion', 'count'], data=count_dict.items())\n",
    "utt_label = utt_label.rename(columns={'emotion': 'Emotion', 'count': 'Utterance count'})\n",
    "import seaborn as sns\n",
    "import matplotlib.pyplot as plt\n",
    "sns.set_theme('paper')\n",
    "sns.catplot(data=utt_label.sort_values(by='Utterance count', ascending=False), kind='bar', y='Emotion', x='Utterance count')\\\n",
    "    .set(title='Emotion counts')\n",
    "plt.savefig('task2_emotion_counts.svg')"
   ]
  },
  {
   "cell_type": "code",
   "execution_count": 15,
   "metadata": {},
   "outputs": [
    {
     "data": {
      "image/png": "[encoded data removed]",
      "text/plain": [
       "<Figure size 640x480 with 1 Axes>"
      ]
     },
     "metadata": {},
     "output_type": "display_data"
    }
   ],
   "source": [
    "dist_counter\n",
    "\n",
    "x = dict(dist_counter)\n",
    "\n",
    "import numpy as np\n",
    "labels, values = zip(*dist_counter.items())\n",
    "labels = np.array(labels)\n",
    "values = np.array(values)\n",
    "ind = np.argsort(labels)\n",
    "labels = labels[ind]\n",
    "values = values[ind]\n",
    "\n",
    "import matplotlib.pyplot as plt\n",
    "\n",
    "indexes = np.arange(len(labels[:10]))\n",
    "width = 1\n",
    "import seaborn as sns\n",
    "sns.set_theme('paper')\n",
    "plt.bar(indexes[:10], values[:10], width)\n",
    "plt.xticks(indexes)\n",
    "plt.xlabel(\"Frequency\")\n",
    "plt.ylabel(\"Distance\")\n",
    "# plt.show()\n",
    "plt.savefig('MaSaC_dist_stats.svg')"
   ]
  },
  {
   "cell_type": "code",
   "execution_count": 16,
   "metadata": {},
   "outputs": [
    {
     "name": "stdout",
     "output_type": "stream",
     "text": [
      "Count Statistics\n",
      "Row Labels are emotion FLIP FROM EMOTION and Column Labels are FLIP TO EMOTION\n",
      "          neutral  anger  surprise  fear  joy  sadness  disgust  contempt\n",
      "neutral         0    298       203   208  746      211       54       262\n",
      "anger         308      0        52    60   69       61       23        71\n",
      "surprise      240     41         0    29   73       24        7        30\n",
      "fear          232     45        30     0   85       47       11        23\n",
      "joy           742     62        73    62    0       76       10        79\n",
      "sadness       230     59        28    51   65        0        9        19\n",
      "disgust        49     24        10     8    9       12        0        17\n",
      "contempt      254     82        39    26   77       28       16         0\n",
      "\n",
      "\n",
      "\n",
      "Distance between utterances of the flip\n",
      "Row Labels are emotion FLIP FROM EMOTION and Column Labels are FLIP TO EMOTION\n",
      "         neutral anger surprise  fear   joy sadness disgust contempt\n",
      "neutral        0  3.31     3.84  3.12  3.12    3.14    4.61     2.97\n",
      "anger       3.14     0     3.15  3.23  3.09    2.31    2.39     3.14\n",
      "surprise    3.08  3.49        0  3.10  3.81    2.75    2.86      3.6\n",
      "fear        3.69   2.6     2.67     0  4.01    3.21    3.73     4.39\n",
      "joy         3.54  3.69     3.66  3.60     0    3.54     4.3     3.51\n",
      "sadness     3.24  2.75     3.14  2.82  3.29       0    3.33     2.42\n",
      "disgust     3.53  2.79      3.7  2.12  2.22    2.25       0     2.29\n",
      "contempt    2.81  3.39     3.77  3.04  3.66    2.64    3.38        0\n"
     ]
    }
   ],
   "source": [
    "labels = [\"neutral\", \"anger\", \"surprise\", \"fear\", \"joy\", \"sadness\", \"disgust\", \"contempt\"]\n",
    "\n",
    "# Defining the variables\n",
    "is_flip = [None] * N_uq\n",
    "flip_from_emotion = [None] * N_uq\n",
    "flip_from_index = [None] * N_uq\n",
    "flip_to_emotion = [None] * N_uq\n",
    "flip_to_index = [None] * N_uq\n",
    "for i in range(N_uq):\n",
    "    k = len(utterances_list_uq[i])\n",
    "    is_flip[i] = [0] * k\n",
    "    flip_from_emotion[i] = [None] * k\n",
    "    flip_from_index[i] = [None] * k\n",
    "    flip_to_emotion[i] = [None] * k\n",
    "    flip_to_index[i] = [None] * k\n",
    "\n",
    "# Filling the variables\n",
    "for i in range(N_uq):\n",
    "    speakers = set(speakers_list_uq[i])\n",
    "    state_dict = {}\n",
    "    for sp in speakers:\n",
    "        state_dict[sp] = (None, None)   # (ix, emotion)\n",
    "    \n",
    "    for j in range(len(utterances_list_uq[i])):\n",
    "        sp = speakers_list_uq[i][j]\n",
    "        sp_emotion = emotions_list_uq[i][j]\n",
    "        if state_dict[sp][0]==None:\n",
    "            state_dict[sp] = (j, sp_emotion)\n",
    "        else:\n",
    "            if state_dict[sp][1]!=sp_emotion:\n",
    "                is_flip[i][j] = 1\n",
    "                flip_from_emotion[i][j] = state_dict[sp][1]\n",
    "                flip_from_index[i][j] = state_dict[sp][0]\n",
    "                flip_to_emotion[i][j] = sp_emotion\n",
    "                flip_to_index[i][j] = j\n",
    "            \n",
    "            state_dict[sp] = (j, sp_emotion)          \n",
    "            \n",
    "# Data Analysis\n",
    "flip_pair_dict = {}\n",
    "for label1 in labels:\n",
    "    for label2 in labels:\n",
    "        flip_pair_dict[(label1, label2)] = [0, 0]\n",
    "       \n",
    "dist_counter= Counter()\n",
    "for i in range(N_uq):\n",
    "    for j in range(len(utterances_list_uq[i])):\n",
    "        if is_flip[i][j]==1:\n",
    "            flip_pair_dict[(flip_from_emotion[i][j], flip_to_emotion[i][j])][0] += 1\n",
    "            flip_pair_dict[(flip_from_emotion[i][j], flip_to_emotion[i][j])][1] += flip_to_index[i][j] - flip_from_index[i][j]\n",
    "            dist_counter.update([flip_to_index[i][j] - flip_from_index[i][j]])\n",
    "\n",
    "# Formatting\n",
    "from decimal import Decimal, getcontext\n",
    "getcontext().prec = 3\n",
    "\n",
    "# Displaying Results\n",
    "count_result = {}\n",
    "for label1 in labels:\n",
    "    count_result[label1] = [0] * len(labels)\n",
    "\n",
    "for i, label1 in enumerate(labels):\n",
    "    for j, label2 in enumerate(labels):\n",
    "        count_result[label1][j] = flip_pair_dict[(label1, label2)][0]\n",
    "        \n",
    "dist_result = {}\n",
    "\n",
    "for label1 in labels:\n",
    "    dist_result[label1] = [0] * len(labels)\n",
    "\n",
    "for i, label1 in enumerate(labels):\n",
    "    for j, label2 in enumerate(labels):\n",
    "        if flip_pair_dict[(label1, label2)][0]!=0:\n",
    "            dist_result[label1][j] = Decimal(flip_pair_dict[(label1, label2)][1]) / Decimal(flip_pair_dict[(label1, label2)][0])\n",
    "        else:\n",
    "            dist_result[label1][j] = 0\n",
    "\n",
    "print(\"Count Statistics\")       \n",
    "print(\"Row Labels are emotion FLIP FROM EMOTION and Column Labels are FLIP TO EMOTION\")\n",
    "df_count = pd.DataFrame(count_result, pd.Index(labels))\n",
    "print(df_count)\n",
    "print(\"\\n\\n\")\n",
    "print(\"Distance between utterances of the flip\")\n",
    "print(\"Row Labels are emotion FLIP FROM EMOTION and Column Labels are FLIP TO EMOTION\")\n",
    "df_dist = pd.DataFrame(dist_result, pd.Index(labels))\n",
    "print(df_dist)"
   ]
  },
  {
   "cell_type": "code",
   "execution_count": 17,
   "metadata": {},
   "outputs": [
    {
     "data": {
      "image/png": "[encoded data removed]",
      "text/plain": [
       "<Figure size 900x600 with 2 Axes>"
      ]
     },
     "metadata": {},
     "output_type": "display_data"
    }
   ],
   "source": [
    "import matplotlib.pyplot as plt\n",
    "import seaborn as sns\n",
    "fig, ax = plt.subplots(figsize=(9,6))\n",
    "ax = sns.heatmap(df_count, annot=True, fmt='.0f', cmap='Blues', square=True)\n",
    "ax.set_title('Flip Count Statistics')\n",
    "ax.set_xlabel('From Emotion')\n",
    "ax.set_ylabel('To Emotion')\n",
    "plt.savefig('task2_flip_count_stats.svg')"
   ]
  },
  {
   "cell_type": "code",
   "execution_count": null,
   "metadata": {},
   "outputs": [],
   "source": []
  }
 ],
 "metadata": {
  "kernelspec": {
   "display_name": "env",
   "language": "python",
   "name": "python3"
  },
  "language_info": {
   "codemirror_mode": {
    "name": "ipython",
    "version": 3
   },
   "file_extension": ".py",
   "mimetype": "text/x-python",
   "name": "python",
   "nbconvert_exporter": "python",
   "pygments_lexer": "ipython3",
   "version": "3.10.11"
  },
  "orig_nbformat": 4
 },
 "nbformat": 4,
 "nbformat_minor": 2
}
