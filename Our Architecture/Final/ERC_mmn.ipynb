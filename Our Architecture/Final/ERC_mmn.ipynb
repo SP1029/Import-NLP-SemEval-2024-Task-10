{
  "nbformat": 4,
  "nbformat_minor": 0,
  "metadata": {
    "colab": {
      "provenance": [],
      "gpuType": "T4"
    },
    "kernelspec": {
      "name": "python3",
      "display_name": "Python 3"
    },
    "language_info": {
      "name": "python"
    },
    "accelerator": "GPU"
  },
  "cells": [
    {
      "cell_type": "code",
      "source": [
        "!ls drive"
      ],
      "metadata": {
        "colab": {
          "base_uri": "https://localhost:8080/"
        },
        "id": "65M1LDk19a-T",
        "outputId": "3f53a0cf-0d70-41b7-f81a-088829c1c0fa"
      },
      "execution_count": null,
      "outputs": [
        {
          "output_type": "stream",
          "name": "stdout",
          "text": [
            "MyDrive\n"
          ]
        }
      ]
    },
    {
      "cell_type": "code",
      "source": [
        "import pickle\n",
        "import os\n",
        "\n",
        "def load_erc(file_dir):\n",
        "    with open(os.path.join(file_dir, \"idx2utt.pickle\"),\"rb\") as f:\n",
        "        idx2utt = pickle.load(f)\n",
        "    with open(os.path.join(file_dir, \"utt2idx.pickle\"),\"rb\") as f:\n",
        "        utt2idx = pickle.load(f)\n",
        "\n",
        "    with open(os.path.join(file_dir, \"idx2emo.pickle\"),\"rb\") as f:\n",
        "        idx2emo = pickle.load(f)\n",
        "    with open(os.path.join(file_dir, \"emo2idx.pickle\"),\"rb\") as f:\n",
        "        emo2idx = pickle.load(f)\n",
        "\n",
        "    with open(os.path.join(file_dir, \"idx2speaker.pickle\"),\"rb\") as f:\n",
        "        idx2speaker = pickle.load(f)\n",
        "    with open(os.path.join(file_dir, \"speaker2idx.pickle\"),\"rb\") as f:\n",
        "        speaker2idx = pickle.load(f)\n",
        "\n",
        "    with open(os.path.join(file_dir, \"weight_matrix.pickle\"),\"rb\") as f:\n",
        "        weight_matrix = pickle.load(f)\n",
        "\n",
        "    with open(os.path.join(file_dir, \"train_data.pickle\"),\"rb\") as f:\n",
        "        my_dataset_train = pickle.load(f)\n",
        "\n",
        "    with open(os.path.join(file_dir, \"test_data.pickle\"),\"rb\") as f:\n",
        "        my_dataset_test = pickle.load(f)\n",
        "\n",
        "    with open(os.path.join(file_dir, \"final_speaker_info.pickle\"),\"rb\") as f:\n",
        "        final_speaker_info = pickle.load(f)\n",
        "\n",
        "    with open(os.path.join(file_dir, \"final_speaker_dialogues.pickle\"),\"rb\") as f:\n",
        "        final_speaker_dialogues = pickle.load(f)\n",
        "\n",
        "    with open(os.path.join(file_dir, \"final_speaker_emotions.pickle\"),\"rb\") as f:\n",
        "        final_speaker_emotions = pickle.load(f)\n",
        "\n",
        "    with open(os.path.join(file_dir, \"final_speaker_indices.pickle\"),\"rb\") as f:\n",
        "        final_speaker_indices = pickle.load(f)\n",
        "\n",
        "    with open(os.path.join(file_dir, \"final_utt_len.pickle\"),\"rb\") as f:\n",
        "        final_utt_len = pickle.load(f)\n",
        "\n",
        "    return idx2utt, utt2idx, idx2emo, emo2idx, idx2speaker,\\\n",
        "        speaker2idx, weight_matrix, my_dataset_train, my_dataset_test,\\\n",
        "        final_speaker_info, final_speaker_dialogues, final_speaker_emotions,\\\n",
        "        final_speaker_indices, final_utt_len\n",
        "\n",
        "def load_efr(file_dir):\n",
        "    with open(os.path.join(file_dir, \"idx2utt.pickle\"),\"rb\") as f:\n",
        "        idx2utt = pickle.load(f)\n",
        "    with open(os.path.join(file_dir, \"utt2idx.pickle\"),\"rb\") as f:\n",
        "        utt2idx = pickle.load(f)\n",
        "\n",
        "    with open(os.path.join(file_dir, \"idx2emo.pickle\"),\"rb\") as f:\n",
        "        idx2emo = pickle.load(f)\n",
        "    with open(os.path.join(file_dir, \"emo2idx.pickle\"),\"rb\") as f:\n",
        "        emo2idx = pickle.load(f)\n",
        "\n",
        "    with open(os.path.join(file_dir, \"idx2speaker.pickle\"),\"rb\") as f:\n",
        "        idx2speaker = pickle.load(f)\n",
        "    with open(os.path.join(file_dir, \"speaker2idx.pickle\"),\"rb\") as f:\n",
        "        speaker2idx = pickle.load(f)\n",
        "\n",
        "    with open(os.path.join(file_dir, \"weight_matrix.pickle\"),\"rb\") as f:\n",
        "        weight_matrix = pickle.load(f)\n",
        "\n",
        "    with open(os.path.join(file_dir, \"train_data_trig.pickle\"),\"rb\") as f:\n",
        "        my_dataset_train = pickle.load(f)\n",
        "\n",
        "    with open(os.path.join(file_dir, \"test_data_trig.pickle\"),\"rb\") as f:\n",
        "        my_dataset_test = pickle.load(f)\n",
        "\n",
        "    with open(os.path.join(file_dir, \"global_speaker_info_trig.pickle\"),\"rb\") as f:\n",
        "        global_speaker_info = pickle.load(f)\n",
        "\n",
        "    with open(os.path.join(file_dir, \"speaker_dialogues_trig.pickle\"),\"rb\") as f:\n",
        "        speaker_dialogues = pickle.load(f)\n",
        "\n",
        "    with open(os.path.join(file_dir, \"speaker_emotions_trig.pickle\"),\"rb\") as f:\n",
        "        speaker_emotions = pickle.load(f)\n",
        "\n",
        "    with open(os.path.join(file_dir, \"speaker_indices_trig.pickle\"),\"rb\") as f:\n",
        "        speaker_indices = pickle.load(f)\n",
        "\n",
        "    with open(os.path.join(file_dir, \"utt_len_trig.pickle\"),\"rb\") as f:\n",
        "        utt_len = pickle.load(f)\n",
        "\n",
        "    with open(os.path.join(file_dir, \"global_speaker_info_test_trig.pickle\"),\"rb\") as f:\n",
        "        global_speaker_info_test = pickle.load(f)\n",
        "\n",
        "    with open(os.path.join(file_dir, \"speaker_dialogues_test_trig.pickle\"),\"rb\") as f:\n",
        "        speaker_dialogues_test = pickle.load(f)\n",
        "\n",
        "    with open(os.path.join(file_dir, \"speaker_emotions_test_trig.pickle\"),\"rb\") as f:\n",
        "        speaker_emotions_test = pickle.load(f)\n",
        "\n",
        "    with open(os.path.join(file_dir, \"speaker_indices_test_trig.pickle\"),\"rb\") as f:\n",
        "        speaker_indices_test = pickle.load(f)\n",
        "\n",
        "    with open(os.path.join(file_dir, \"utt_len_test_trig.pickle\"),\"rb\") as f:\n",
        "        utt_len_test = pickle.load(f)\n",
        "\n",
        "    return idx2utt, utt2idx, idx2emo, emo2idx, idx2speaker,\\\n",
        "        speaker2idx, weight_matrix, my_dataset_train, my_dataset_test,\\\n",
        "        global_speaker_info, speaker_dialogues, speaker_emotions, \\\n",
        "        speaker_indices, utt_len, global_speaker_info_test, speaker_dialogues_test, \\\n",
        "        speaker_emotions_test, speaker_indices_test, utt_len_test"
      ],
      "metadata": {
        "id": "OXHlMk_t9Z2c"
      },
      "execution_count": null,
      "outputs": []
    },
    {
      "cell_type": "code",
      "source": [
        "import torch\n",
        "import torch.nn as nn\n",
        "import torch.nn.functional as F\n",
        "import math\n",
        "# from utils import *\n",
        "\n",
        "import torch.nn as nn\n",
        "\n",
        "##Source: https://medium.com/@martinpella/how-to-use-pre-trained-word-embeddings-in-pytorch-71ca59249f76\n",
        "def create_emb_layer(weights_matrix, utt2idx, non_trainable=False):\n",
        "    num_embeddings, embedding_dim = weights_matrix.size()\n",
        "    emb_layer = nn.Embedding(num_embeddings, embedding_dim, padding_idx=utt2idx[\"<pad>\"])\n",
        "    emb_layer.load_state_dict({'weight': weights_matrix})\n",
        "    if non_trainable:\n",
        "        emb_layer.weight.requires_grad = False\n",
        "    return emb_layer, num_embeddings, embedding_dim\n",
        "\n",
        "class myRNN(nn.Module):\n",
        "    def __init__(self,input_size,hidden_size,num_layers,dp=0,bd=False):\n",
        "        super(myRNN,self).__init__()\n",
        "        self.hidden_dim = hidden_size\n",
        "        self.n_layers = num_layers\n",
        "        self.RNN = nn.GRU(input_size = input_size,hidden_size=hidden_size,num_layers=num_layers,dropout=dp,batch_first=True,bidirectional=bd)\n",
        "\n",
        "    def forward(self,x,h0=None):\n",
        "        out,h = self.RNN(x,h0)\n",
        "        return out,h\n",
        "\n",
        "class attention(nn.Module):\n",
        "    def __init__(self,qembed_dim, kembed_dim=None, vembed_dim=None, hidden_dim=None, out_dim=None, dropout=0):\n",
        "        super(attention, self).__init__()\n",
        "        if kembed_dim is None:\n",
        "            kembed_dim = qembed_dim\n",
        "        if hidden_dim is None:\n",
        "            hidden_dim = kembed_dim\n",
        "        if out_dim is None:\n",
        "            out_dim = kembed_dim\n",
        "        if vembed_dim is None:\n",
        "            vembed_dim = kembed_dim\n",
        "\n",
        "        self.qembed_dim = qembed_dim\n",
        "        self.kembed_dim = kembed_dim\n",
        "        self.vembed_dim = vembed_dim\n",
        "\n",
        "        self.hidden_dim = hidden_dim\n",
        "        self.for_key = nn.Linear(kembed_dim,hidden_dim)\n",
        "        self.for_query = nn.Linear(qembed_dim,hidden_dim)\n",
        "        self.for_value = nn.Linear(vembed_dim,hidden_dim)\n",
        "        self.normalise_factor = hidden_dim**(1/2)\n",
        "\n",
        "    def mask_score(self,s,m):\n",
        "        for i in range(s.size()[0]):\n",
        "            for j in range(s.size()[1]):\n",
        "                for k in range(s.size()[2]):\n",
        "                    if m[i][j][k] == 0:\n",
        "                        s[i][j][k] = float('-inf')   #So that after softmax, 0 weight is given to it\n",
        "        return s\n",
        "\n",
        "    def forward(self,key,query,mask=None):\n",
        "        if len(query.shape) == 1:\n",
        "            query = torch.unsqueeze(query, dim=0)\n",
        "        if len(key.shape) == 1:\n",
        "            key = torch.unsqueeze(key, dim=0)\n",
        "\n",
        "        if len(query.shape) == 2:\n",
        "            query = torch.unsqueeze(query, dim=1)\n",
        "        if len(key.shape) == 2:\n",
        "            key = torch.unsqueeze(key, dim=1)\n",
        "\n",
        "        new_query = self.for_query(query)\n",
        "        new_key = self.for_key(key)\n",
        "        new_value = self.for_value(key)\n",
        "\n",
        "        score = torch.bmm(new_query,new_key.permute(0,2,1))/self.normalise_factor\n",
        "\n",
        "        if mask != None:\n",
        "            score = self.mask_score(score,mask)\n",
        "\n",
        "        score = F.softmax(score,-1)\n",
        "        score.data[score!=score] = 0         #removing nan values\n",
        "\n",
        "        output = torch.bmm(score,new_value)\n",
        "        return output,score\n",
        "\n",
        "class interact(nn.Module):\n",
        "    def __init__(self,hidden_dim,weight_matrix,utt2idx):\n",
        "        super(interact, self).__init__()\n",
        "        self.hidden_size = hidden_dim\n",
        "\n",
        "        self.embedding, num_embeddings, embedding_dim = create_emb_layer(weight_matrix,utt2idx)\n",
        "        self.rnnD = myRNN(embedding_dim, hidden_dim,1)   #Dialogue\n",
        "        self.drop1 = nn.Dropout()\n",
        "\n",
        "        self.rnnG = myRNN(embedding_dim*3, hidden_dim,1)   #Global level\n",
        "        self.drop2 = nn.Dropout()\n",
        "\n",
        "        self.attn = attention(embedding_dim)\n",
        "\n",
        "        self.rnnS = myRNN(embedding_dim*2, embedding_dim*2,1)   #Speaker representation\n",
        "        self.drop3 = nn.Dropout()\n",
        "\n",
        "    def forward(self, chat_ids, speaker_info, sp_dialogues, sp_ind, inputs):\n",
        "        whole_dialogue_indices = inputs\n",
        "\n",
        "        bert_embs = self.embedding(whole_dialogue_indices)\n",
        "\n",
        "        dialogue, h1 = self.rnnD(bert_embs)    #Get global level representation\n",
        "        dialogue = self.drop1(dialogue)\n",
        "\n",
        "        device = inputs.device\n",
        "\n",
        "        fop = torch.zeros((dialogue.size()[0],dialogue.size()[1],dialogue.size()[2])).to(device)\n",
        "        fop2 = torch.zeros((dialogue.size()[0],dialogue.size()[1],dialogue.size()[2]*3)).to(device)\n",
        "        op = torch.zeros((dialogue.size()[0],dialogue.size()[1],dialogue.size()[2])).to(device)\n",
        "        spop = torch.zeros((dialogue.size()[0],dialogue.size()[1],dialogue.size()[2]*2)).to(device)\n",
        "\n",
        "        h0 = torch.randn(1, 1, self.hidden_size*2).to(device)\n",
        "        d_h = torch.randn(1, 1, self.hidden_size).to(device)\n",
        "        attn_h = torch.randn(1, 1, self.hidden_size).to(device)\n",
        "\n",
        "        for b in range(dialogue.size()[0]):\n",
        "            d_id = chat_ids[b]\n",
        "            speaker_hidden_states = {}\n",
        "            for s in range(dialogue.size()[1]):\n",
        "                fop = op.clone()\n",
        "\n",
        "                current_utt = dialogue[b][s]\n",
        "\n",
        "                current_speaker = speaker_info[d_id][s]\n",
        "\n",
        "                if current_speaker not in speaker_hidden_states:\n",
        "                    speaker_hidden_states[current_speaker] = h0\n",
        "\n",
        "                h = speaker_hidden_states[current_speaker]\n",
        "                current_utt_emb = torch.unsqueeze(torch.unsqueeze(current_utt,0),0)\n",
        "\n",
        "                key = fop[b][:s+1].clone()\n",
        "                key = torch.unsqueeze(key,0)\n",
        "\n",
        "                if s == 0:\n",
        "                    tmp = torch.cat([attn_h,current_utt_emb],-1).to(device)\n",
        "                    spop[b][s], h_new = self.rnnS(tmp,h)\n",
        "                else:\n",
        "                    query = current_utt_emb\n",
        "                    attn_op,_ = self.attn(key,query)\n",
        "\n",
        "                    tmp = torch.cat([attn_op,current_utt_emb],-1).to(device)\n",
        "                    spop[b][s], h_new = self.rnnS(tmp,h)\n",
        "\n",
        "                spop[b][s] = spop[b][s].add(tmp)        # Residual Connection\n",
        "                speaker_hidden_states[current_speaker] = h_new\n",
        "\n",
        "                fop2[b][s] = torch.cat([spop[b][s],dialogue[b][s]],-1)\n",
        "                tmp = torch.unsqueeze(torch.unsqueeze(fop2[b][s].clone(),0),0)\n",
        "                op[b][s],d_h = self.rnnG(tmp,d_h)\n",
        "\n",
        "        return op,spop\n",
        "\n",
        "class fc_e(nn.Module):\n",
        "    def __init__(self,inp_dim,op_dim):\n",
        "        super(fc_e,self).__init__()\n",
        "        self.linear1 = nn.Linear(inp_dim,int(inp_dim/2))\n",
        "        self.drop1 = nn.Dropout()\n",
        "\n",
        "        self.linear2 = nn.Linear(int(inp_dim/2),int(inp_dim/4))\n",
        "        self.drop2 = nn.Dropout(0.6)\n",
        "\n",
        "        self.linear3 = nn.Linear(int(inp_dim/4),op_dim)\n",
        "        self.drop3 = nn.Dropout(0.7)\n",
        "    def forward(self,x):\n",
        "        ip = x.float()\n",
        "\n",
        "        op = self.linear1(ip)\n",
        "        op = self.drop1(op)\n",
        "\n",
        "        op = self.linear2(op)\n",
        "        op = self.drop2(op)\n",
        "\n",
        "        op = self.linear3(op)\n",
        "        op = self.drop3(op)\n",
        "\n",
        "        return op\n",
        "\n",
        "class fc_t(nn.Module):\n",
        "    def __init__(self,inp_dim,op_dim):\n",
        "        super(fc_t,self).__init__()\n",
        "        self.linear1 = nn.Linear(inp_dim,inp_dim)\n",
        "        self.drop1 = nn.Dropout(0.7)\n",
        "\n",
        "        self.linear2 = nn.Linear(inp_dim,inp_dim)\n",
        "        self.drop2 = nn.Dropout(0.7)\n",
        "\n",
        "        self.linear3 = nn.Linear(inp_dim,int(inp_dim/2))\n",
        "        self.drop3 = nn.Dropout(0.7)\n",
        "\n",
        "        self.linear4 = nn.Linear(int(inp_dim/2),int(inp_dim/4))\n",
        "        self.drop4 = nn.Dropout(0.7)\n",
        "\n",
        "        self.linear5 = nn.Linear(int(inp_dim/4),op_dim)\n",
        "        self.drop5 = nn.Dropout(0.7)\n",
        "    def forward(self,x):\n",
        "        ip = x.float()\n",
        "\n",
        "        op = self.linear1(ip)\n",
        "        op = self.drop1(op)\n",
        "\n",
        "        op = self.linear2(ip)\n",
        "        op = self.drop2(op)\n",
        "\n",
        "        op = self.linear3(ip)\n",
        "        op = self.drop3(op)\n",
        "\n",
        "        op = self.linear4(op)\n",
        "        op = self.drop4(op)\n",
        "\n",
        "        op = self.linear5(op)\n",
        "        op = self.drop5(op)\n",
        "\n",
        "        return op\n",
        "\n",
        "class maskedattn(nn.Module):\n",
        "    def __init__(self,batch_size, s_len, emb_size):\n",
        "        super(maskedattn,self).__init__()\n",
        "        self.b_len = batch_size\n",
        "        self.s_len = s_len\n",
        "        self.emb_size = emb_size\n",
        "        self.attn = attention(emb_size*2, kembed_dim=emb_size, out_dim=emb_size)\n",
        "\n",
        "    def create_mask(self,n):\n",
        "        mask = torch.zeros((1, self.s_len, self.emb_size), dtype=torch.uint8)\n",
        "        mask[:n+1] = torch.ones((self.emb_size), dtype=torch.uint8)\n",
        "        mask = mask.repeat(self.b_len,1,1)\n",
        "        return mask\n",
        "\n",
        "    def forward(self,key,query):\n",
        "        device = key.device\n",
        "\n",
        "        ops = torch.zeros([key.size()[0],key.size()[1], key.size()[2]], dtype=torch.float32).to(device)\n",
        "        for i in range(key.size()[1]):\n",
        "          mask = self.create_mask(i)\n",
        "          op,_ = self.attn(key,query,mask=mask)\n",
        "          for b in range(op.size()[0]):\n",
        "            ops[b][i] = op[b][i]\n",
        "        return ops\n",
        "\n",
        "class memnet(nn.Module):\n",
        "  def __init__(self,num_hops,hidden_size,batch_size,seq_len):\n",
        "    super(memnet,self).__init__()\n",
        "    self.num_hops = num_hops\n",
        "    self.rnn = myRNN(hidden_size, hidden_size, 1)\n",
        "    self.masked_attention = maskedattn(batch_size,seq_len,hidden_size)\n",
        "\n",
        "  def forward(self,globl,spl):\n",
        "    X = globl\n",
        "    for hop in range(self.num_hops):\n",
        "      dialogue,h = self.rnn(X)\n",
        "      X = self.masked_attention(dialogue,spl)\n",
        "    return X\n",
        "\n",
        "class pool(nn.Module):\n",
        "    def __init__(self,mode=\"mean\"):\n",
        "        super(pool,self).__init__()\n",
        "        self.mode = mode\n",
        "    def forward(self,x):\n",
        "        device = x.device\n",
        "        op = torch.zeros((x.size()[0],x.size()[1],x.size()[2])).to(device)\n",
        "        for b in range(x.size()[0]):\n",
        "            this_tensor = []\n",
        "            for s in range(x.size()[1]):\n",
        "                this_tensor.append(x[b][s])\n",
        "                if self.mode == \"mean\":\n",
        "                    op[b][s] = torch.mean(torch.stack(this_tensor),0)\n",
        "                elif self.mode == \"max\":\n",
        "                    op[b][s],_ = torch.max(torch.stack(this_tensor),0)\n",
        "                elif self.mode == \"sum\":\n",
        "                    op[b][s] = torch.sum(torch.stack(this_tensor),0)\n",
        "                else:\n",
        "                    print(\"Error: Mode can be either mean or max only\")\n",
        "        return op\n",
        "\n",
        "class PositionalEncoding(nn.Module):\n",
        "    def __init__(self, d_model, dropout=0.1, max_len=5000):\n",
        "        super(PositionalEncoding, self).__init__()\n",
        "        self.dropout = nn.Dropout(p=dropout)\n",
        "        pe = torch.zeros(max_len, d_model)\n",
        "        position = torch.arange(0, max_len, dtype=torch.float).unsqueeze(1)\n",
        "        div_term = torch.exp(torch.arange(0, d_model, 2).float() * (-math.log(10000.0) / d_model))\n",
        "        pe[:, 0::2] = torch.sin(position * div_term)\n",
        "        pe[:, 1::2] = torch.cos(position * div_term)\n",
        "        pe = pe.unsqueeze(0).transpose(0, 1)\n",
        "        self.register_buffer('pe', pe)\n",
        "\n",
        "    def forward(self, x):\n",
        "        x = x + self.pe[:x.size(0), :]\n",
        "        return self.dropout(x)"
      ],
      "metadata": {
        "id": "vygMhRa09oJq"
      },
      "execution_count": null,
      "outputs": []
    },
    {
      "cell_type": "code",
      "source": [
        "import torch\n",
        "from torch.nn import TransformerEncoder, TransformerEncoderLayer\n",
        "# from layers import *\n",
        "# from utils import *\n",
        "\n",
        "class ERC_MMN(nn.Module):\n",
        "    def __init__(self,hidden_size,weight_matrix,utt2idx,batch_size,seq_len, n_emotions = 7):\n",
        "        super(ERC_MMN,self).__init__()\n",
        "        self.ia = interact(hidden_size,weight_matrix,utt2idx)\n",
        "        self.mn = memnet(4,hidden_size,batch_size,seq_len)\n",
        "        self.pool = pool()\n",
        "\n",
        "        self.rnn_c = myRNN(hidden_size*3,hidden_size*2,1)\n",
        "\n",
        "        self.rnn_e = myRNN(hidden_size*2,hidden_size*2,1)\n",
        "\n",
        "        self.linear1 = fc_e(hidden_size*2,n_emotions)\n",
        "\n",
        "    def forward(self,c_ids,speaker_info,sp_dialogues,sp_em,sp_ind,x1,mode=\"train\"):\n",
        "        glob, splvl = self.ia(c_ids,speaker_info,sp_dialogues,sp_ind,x1)\n",
        "\n",
        "        op = self.mn(glob,splvl)\n",
        "        op = self.pool(op)\n",
        "\n",
        "        op = torch.cat([splvl,op],dim=2)\n",
        "\n",
        "        rnn_c_op,_ = self.rnn_c(op)\n",
        "\n",
        "        rnn_e_op,_ = self.rnn_e(rnn_c_op)\n",
        "        fip = rnn_e_op.add(rnn_c_op)      # Residual Connection\n",
        "        fop1 = self.linear1(fip)\n",
        "\n",
        "        return fip,fop1\n",
        "\n",
        "class EFR_TX(nn.Module):\n",
        "    def __init__(self, weight_matrix, utt2idx, nclass, ninp, nhead, nhid, nlayers, device, dropout=0.5):\n",
        "        super(EFR_TX, self).__init__()\n",
        "        self.model_type = 'Transformer'\n",
        "        self.src_mask = None\n",
        "        self.pos_encoder = PositionalEncoding(ninp, dropout)\n",
        "        encoder_layers = TransformerEncoderLayer(ninp, nhead, nhid, dropout)\n",
        "        self.transformer_encoder = TransformerEncoder(encoder_layers, nlayers)\n",
        "        self.encoder, num_embeddings, embedding_dim = create_emb_layer(weight_matrix,utt2idx)\n",
        "        self.ninp = ninp\n",
        "        self.decoder = nn.Linear(2*ninp, nclass)\n",
        "\n",
        "        self.init_weights()\n",
        "        self.device = device\n",
        "\n",
        "    def _generate_square_subsequent_mask(self, sz):\n",
        "        mask = (torch.triu(torch.ones(sz, sz)) == 1).transpose(0, 1)\n",
        "        mask = mask.float().masked_fill(mask == 0, float('-inf')).masked_fill(mask == 1, float(0.0))\n",
        "        return mask\n",
        "\n",
        "    def init_weights(self):\n",
        "        initrange = 0.1\n",
        "        self.encoder.weight.data.uniform_(-initrange, initrange)\n",
        "        self.decoder.bias.data.zero_()\n",
        "        self.decoder.weight.data.uniform_(-initrange, initrange)\n",
        "\n",
        "    def forward(self, src, d_ids, ut_len):\n",
        "        if self.src_mask is None or self.src_mask.size(0) != len(src):\n",
        "            device = src.device\n",
        "            mask = self._generate_square_subsequent_mask(len(src)).to(device)\n",
        "            self.src_mask = mask\n",
        "\n",
        "        src = self.encoder(src) * math.sqrt(self.ninp)\n",
        "        src = self.pos_encoder(src)\n",
        "        output = self.transformer_encoder(src, self.src_mask)\n",
        "\n",
        "        decoder_ip = torch.zeros(output.size()[0],output.size()[1],output.size()[2]*2).to(self.device)\n",
        "        for b in range(output.size()[0]):\n",
        "            d_id = d_ids[b][0]\n",
        "            main_utt = output[b][ut_len[d_id]-1]\n",
        "            for s in range(ut_len[d_id]):\n",
        "                this_utt = output[b][s]\n",
        "                decoder_ip[b][s] = torch.cat([this_utt,main_utt],-1)\n",
        "\n",
        "        output = self.decoder(decoder_ip)\n",
        "\n",
        "        return decoder_ip,output\n",
        "\n",
        "class ERC_true_EFR(nn.Module):\n",
        "    def __init__(self, weight_matrix, utt2idx, nclass, ninp, nhead, nhid, nlayers, dropout=0.5):\n",
        "        super(ERC_true_EFR, self).__init__()\n",
        "        self.model_type = 'Transformer'\n",
        "        self.src_mask = None\n",
        "        self.pos_encoder = PositionalEncoding(ninp, dropout)\n",
        "        encoder_layers = TransformerEncoderLayer(ninp, nhead, nhid, dropout)\n",
        "        self.transformer_encoder = TransformerEncoder(encoder_layers, nlayers)\n",
        "        self.encoder, num_embeddings, embedding_dim = create_emb_layer(weight_matrix,utt2idx)\n",
        "\n",
        "        self.emoGRU = myRNN(7,100,1)\n",
        "        self.ninp = ninp\n",
        "        self.decoder = nn.Linear(2*ninp+100, nclass)\n",
        "\n",
        "        self.init_weights()\n",
        "\n",
        "    def _generate_square_subsequent_mask(self, sz):\n",
        "        mask = (torch.triu(torch.ones(sz, sz)) == 1).transpose(0, 1)\n",
        "        mask = mask.float().masked_fill(mask == 0, float('-inf')).masked_fill(mask == 1, float(0.0))\n",
        "        return mask\n",
        "\n",
        "    def init_weights(self):\n",
        "        initrange = 0.1\n",
        "        self.encoder.weight.data.uniform_(-initrange, initrange)\n",
        "        self.decoder.bias.data.zero_()\n",
        "        self.decoder.weight.data.uniform_(-initrange, initrange)\n",
        "\n",
        "    def forward(self, src, em_seq, d_ids, ut_len):\n",
        "        if self.src_mask is None or self.src_mask.size(0) != len(src):\n",
        "            device = src.device\n",
        "            mask = self._generate_square_subsequent_mask(len(src)).to(device)\n",
        "            self.src_mask = mask\n",
        "\n",
        "        src = self.encoder(src) * math.sqrt(self.ninp)\n",
        "        src = self.pos_encoder(src)\n",
        "        output = self.transformer_encoder(src, self.src_mask)\n",
        "\n",
        "        emo_seq,_ = self.emoGRU(em_seq.float())\n",
        "\n",
        "        decoder_ip = torch.zeros(output.size()[0],output.size()[1],output.size()[2]*2).cuda()\n",
        "        for b in range(output.size()[0]):\n",
        "            d_id = d_ids[b][0]\n",
        "            main_utt = output[b][ut_len[d_id]-1]\n",
        "            for s in range(ut_len[d_id]):\n",
        "                this_utt = output[b][s]\n",
        "                decoder_ip[b][s] = torch.cat([this_utt,main_utt],-1)\n",
        "\n",
        "        decoder_ip = torch.cat([decoder_ip,emo_seq],-1)\n",
        "        output = self.decoder(decoder_ip)\n",
        "\n",
        "        return output\n",
        "\n",
        "class ERC_EFR_multitask(nn.Module):\n",
        "    def __init__(self,hidden_size,weight_matrix,utt2idx,batch_size,seq_len):\n",
        "        super(ERC_EFR_multitask,self).__init__()\n",
        "        self.ia = interact(hidden_size,weight_matrix,utt2idx)\n",
        "        self.mn = memnet(4,hidden_size,batch_size,seq_len)\n",
        "        self.pool = pool()\n",
        "\n",
        "        self.rnn_c = myRNN(hidden_size*3,hidden_size*2,1)\n",
        "\n",
        "        self.rnn_e = myRNN(hidden_size*2,hidden_size*2,1)\n",
        "        self.rnn_t = myRNN(hidden_size*2,hidden_size,1)\n",
        "\n",
        "        self.linear1 = fc_e(hidden_size*2,7)\n",
        "        self.linear2 = fc_t(hidden_size*2,2)\n",
        "\n",
        "    def forward(self,c_ids,speaker_info,sp_dialogues,sp_em,sp_ind,freeze,x1,mode=\"train\"):\n",
        "        speaker_emo = {}\n",
        "        speaker_emo_distance = {}\n",
        "\n",
        "        for d_id in c_ids:\n",
        "            speaker_emo[d_id] = {}\n",
        "            speaker_emo_distance[d_id] = {}\n",
        "\n",
        "        if freeze:\n",
        "            with torch.no_grad():\n",
        "                glob, splvl = self.ia(c_ids,speaker_info,sp_dialogues,sp_ind,x1)\n",
        "\n",
        "                op = self.mn(glob,splvl)\n",
        "                op = self.pool(op)\n",
        "\n",
        "                op = torch.cat([splvl,op],dim=2)\n",
        "\n",
        "                rnn_c_op,_ = self.rnn_c(op)\n",
        "\n",
        "                rnn_e_op,_ = self.rnn_e(rnn_c_op)\n",
        "                rnn_e_op = rnn_e_op.add(rnn_c_op)      # Residual Connection\n",
        "                fop1 = self.linear1(rnn_e_op)\n",
        "        else:\n",
        "            glob, splvl = self.ia(c_ids,speaker_info,sp_dialogues,sp_ind,x1)\n",
        "\n",
        "            op = self.mn(glob,splvl)\n",
        "            op = self.pool(op)\n",
        "\n",
        "            op = torch.cat([splvl,op],dim=2)\n",
        "\n",
        "            rnn_c_op,_ = self.rnn_c(op)\n",
        "\n",
        "            rnn_e_op,_ = self.rnn_e(rnn_c_op)\n",
        "            rnn_e_op = rnn_e_op.add(rnn_c_op)      # Residual Connection\n",
        "            fop1 = self.linear1(rnn_e_op)\n",
        "\n",
        "        rnn_t_op,_ = self.rnn_t(rnn_c_op)\n",
        "\n",
        "        fop2_final = []\n",
        "        for b in range(rnn_t_op.size()[0]):\n",
        "            d_id = c_ids[b]\n",
        "            fop2_final_tmp = []\n",
        "            for s in range(rnn_t_op.size()[1]):\n",
        "                fop2_final_tmp_tmp = []\n",
        "                concerned_utt = rnn_t_op[b][s]\n",
        "\n",
        "                if s < 4:\n",
        "                    r = s+1\n",
        "                else:\n",
        "                    r = 4\n",
        "\n",
        "                for s2 in range(r,-1,-1):\n",
        "                    this_utt = rnn_t_op[b][s-s2]\n",
        "                    tmp = torch.cat((concerned_utt,this_utt),-1)\n",
        "                    fop2 = self.linear2(tmp)\n",
        "\n",
        "                    fop2_final_tmp_tmp.append(fop2)\n",
        "                fop2_final_tmp.append(fop2_final_tmp_tmp)\n",
        "            fop2_final.append(fop2_final_tmp)\n",
        "        return fop1,fop2_final\n",
        "\n",
        "class cascade(nn.Module):\n",
        "    def __init__(self,hidden_size,nclasses):\n",
        "        super(cascade,self).__init__()\n",
        "        self.linear = fc_e(hidden_size*4,nclasses)\n",
        "\n",
        "    def forward(self,x1):\n",
        "        op = self.linear(x1)\n",
        "        return op"
      ],
      "metadata": {
        "id": "0XR3MMa09mDq"
      },
      "execution_count": null,
      "outputs": []
    },
    {
      "cell_type": "code",
      "execution_count": null,
      "metadata": {
        "colab": {
          "base_uri": "https://localhost:8080/"
        },
        "id": "NnUrQL6w8Mki",
        "outputId": "bacba7a9-3a62-43ac-e574-5f7bf299e810"
      },
      "outputs": [
        {
          "metadata": {
            "tags": null
          },
          "name": "stderr",
          "output_type": "stream",
          "text": [
            "Epoch 0: 100%|████████████████████████████████████████████████████████| 8/8 [02:20<00:00, 17.60s/it]\n"
          ]
        },
        {
          "metadata": {
            "tags": null
          },
          "name": "stdout",
          "output_type": "stream",
          "text": [
            "Average Loss =  tensor([22.4595], device='cuda:0', grad_fn=<DivBackward0>)\n"
          ]
        },
        {
          "metadata": {
            "tags": null
          },
          "name": "stderr",
          "output_type": "stream",
          "text": [
            "Validating 0: 100%|███████████████████████████████████████████████████| 2/2 [00:29<00:00, 14.96s/it]\n",
            "/usr/local/lib/python3.10/dist-packages/sklearn/metrics/_classification.py:1344: UndefinedMetricWarning: Precision and F-score are ill-defined and being set to 0.0 in labels with no predicted samples. Use `zero_division` parameter to control this behavior.\n",
            "  _warn_prf(average, modifier, msg_start, len(result))\n",
            "/usr/local/lib/python3.10/dist-packages/sklearn/metrics/_classification.py:1344: UndefinedMetricWarning: Precision and F-score are ill-defined and being set to 0.0 in labels with no predicted samples. Use `zero_division` parameter to control this behavior.\n",
            "  _warn_prf(average, modifier, msg_start, len(result))\n",
            "/usr/local/lib/python3.10/dist-packages/sklearn/metrics/_classification.py:1344: UndefinedMetricWarning: Precision and F-score are ill-defined and being set to 0.0 in labels with no predicted samples. Use `zero_division` parameter to control this behavior.\n",
            "  _warn_prf(average, modifier, msg_start, len(result))\n"
          ]
        },
        {
          "metadata": {
            "tags": null
          },
          "name": "stdout",
          "output_type": "stream",
          "text": [
            "              precision    recall  f1-score   support\n",
            "\n",
            "           0       0.00      0.00      0.00        23\n",
            "           1       0.00      0.00      0.00       409\n",
            "           2       0.00      0.00      0.00        60\n",
            "           3       0.00      0.00      0.00       138\n",
            "           4       0.07      0.19      0.10        86\n",
            "           5       0.44      0.67      0.53       691\n",
            "           6       0.00      0.00      0.00       103\n",
            "           7       0.07      0.23      0.11       115\n",
            "\n",
            "    accuracy                           0.31      1625\n",
            "   macro avg       0.07      0.14      0.09      1625\n",
            "weighted avg       0.20      0.31      0.24      1625\n",
            "\n",
            "Confusion Matrix: \n",
            " [[  0   0   0   0   2  17   0   4]\n",
            " [  0   0   0   0  69 249   0  91]\n",
            " [  0   0   0   0   6  36   0  18]\n",
            " [  0   0   0   0  20  92   0  26]\n",
            " [  0   0   0   1  16  49   0  20]\n",
            " [  0   0   0   0  78 464   0 149]\n",
            " [  0   0   0   1  14  66   0  22]\n",
            " [  0   0   0   0  16  73   0  26]]\n"
          ]
        },
        {
          "metadata": {
            "tags": null
          },
          "name": "stderr",
          "output_type": "stream",
          "text": [
            "Epoch 1: 100%|████████████████████████████████████████████████████████| 8/8 [02:25<00:00, 18.22s/it]\n"
          ]
        },
        {
          "metadata": {
            "tags": null
          },
          "name": "stdout",
          "output_type": "stream",
          "text": [
            "Average Loss =  tensor([27.0735], device='cuda:0', grad_fn=<DivBackward0>)\n"
          ]
        },
        {
          "metadata": {
            "tags": null
          },
          "name": "stderr",
          "output_type": "stream",
          "text": [
            "Validating 1: 100%|███████████████████████████████████████████████████| 2/2 [00:31<00:00, 15.63s/it]\n",
            "/usr/local/lib/python3.10/dist-packages/sklearn/metrics/_classification.py:1344: UndefinedMetricWarning: Precision and F-score are ill-defined and being set to 0.0 in labels with no predicted samples. Use `zero_division` parameter to control this behavior.\n",
            "  _warn_prf(average, modifier, msg_start, len(result))\n",
            "/usr/local/lib/python3.10/dist-packages/sklearn/metrics/_classification.py:1344: UndefinedMetricWarning: Precision and F-score are ill-defined and being set to 0.0 in labels with no predicted samples. Use `zero_division` parameter to control this behavior.\n",
            "  _warn_prf(average, modifier, msg_start, len(result))\n",
            "/usr/local/lib/python3.10/dist-packages/sklearn/metrics/_classification.py:1344: UndefinedMetricWarning: Precision and F-score are ill-defined and being set to 0.0 in labels with no predicted samples. Use `zero_division` parameter to control this behavior.\n",
            "  _warn_prf(average, modifier, msg_start, len(result))\n"
          ]
        },
        {
          "metadata": {
            "tags": null
          },
          "name": "stdout",
          "output_type": "stream",
          "text": [
            "              precision    recall  f1-score   support\n",
            "\n",
            "           0       0.00      0.00      0.00        23\n",
            "           1       0.25      0.87      0.38       409\n",
            "           2       0.00      0.00      0.00        60\n",
            "           3       0.00      0.00      0.00       138\n",
            "           4       0.00      0.00      0.00        86\n",
            "           5       0.00      0.00      0.00       691\n",
            "           6       0.00      0.00      0.00       103\n",
            "           7       0.07      0.10      0.08       115\n",
            "\n",
            "    accuracy                           0.23      1625\n",
            "   macro avg       0.04      0.12      0.06      1625\n",
            "weighted avg       0.07      0.23      0.10      1625\n",
            "\n",
            "Confusion Matrix: \n",
            " [[  0  22   0   0   0   0   0   1]\n",
            " [  0 354   0   0   0   0   0  55]\n",
            " [  0  55   0   0   0   0   0   5]\n",
            " [  0 119   0   0   0   0   0  19]\n",
            " [  0  76   0   0   0   0   0  10]\n",
            " [  0 620   0   0   0   0   0  71]\n",
            " [  0  95   0   0   0   0   0   8]\n",
            " [  0 103   0   0   0   0   0  12]]\n"
          ]
        },
        {
          "metadata": {
            "tags": null
          },
          "name": "stderr",
          "output_type": "stream",
          "text": [
            "Epoch 2: 100%|████████████████████████████████████████████████████████| 8/8 [02:26<00:00, 18.28s/it]\n"
          ]
        },
        {
          "metadata": {
            "tags": null
          },
          "name": "stdout",
          "output_type": "stream",
          "text": [
            "Average Loss =  tensor([23.6137], device='cuda:0', grad_fn=<DivBackward0>)\n"
          ]
        },
        {
          "metadata": {
            "tags": null
          },
          "name": "stderr",
          "output_type": "stream",
          "text": [
            "Validating 2: 100%|███████████████████████████████████████████████████| 2/2 [00:31<00:00, 15.51s/it]\n",
            "/usr/local/lib/python3.10/dist-packages/sklearn/metrics/_classification.py:1344: UndefinedMetricWarning: Precision and F-score are ill-defined and being set to 0.0 in labels with no predicted samples. Use `zero_division` parameter to control this behavior.\n",
            "  _warn_prf(average, modifier, msg_start, len(result))\n",
            "/usr/local/lib/python3.10/dist-packages/sklearn/metrics/_classification.py:1344: UndefinedMetricWarning: Precision and F-score are ill-defined and being set to 0.0 in labels with no predicted samples. Use `zero_division` parameter to control this behavior.\n",
            "  _warn_prf(average, modifier, msg_start, len(result))\n",
            "/usr/local/lib/python3.10/dist-packages/sklearn/metrics/_classification.py:1344: UndefinedMetricWarning: Precision and F-score are ill-defined and being set to 0.0 in labels with no predicted samples. Use `zero_division` parameter to control this behavior.\n",
            "  _warn_prf(average, modifier, msg_start, len(result))\n"
          ]
        },
        {
          "metadata": {
            "tags": null
          },
          "name": "stdout",
          "output_type": "stream",
          "text": [
            "              precision    recall  f1-score   support\n",
            "\n",
            "           0       0.00      0.00      0.00        23\n",
            "           1       0.24      0.68      0.35       409\n",
            "           2       0.00      0.00      0.00        60\n",
            "           3       0.00      0.00      0.00       138\n",
            "           4       0.00      0.00      0.00        86\n",
            "           5       0.40      0.25      0.31       691\n",
            "           6       0.10      0.01      0.02       103\n",
            "           7       0.00      0.00      0.00       115\n",
            "\n",
            "    accuracy                           0.28      1625\n",
            "   macro avg       0.09      0.12      0.08      1625\n",
            "weighted avg       0.24      0.28      0.22      1625\n",
            "\n",
            "Confusion Matrix: \n",
            " [[  0  21   1   0   0   1   0   0]\n",
            " [  0 278   0   0   0 128   3   0]\n",
            " [  0  47   0   0   0  12   1   0]\n",
            " [  0  94   0   0   0  43   1   0]\n",
            " [  0  63   0   0   0  23   0   0]\n",
            " [  0 513   2   0   0 173   3   0]\n",
            " [  0  70   0   0   0  32   1   0]\n",
            " [  0  92   0   0   0  22   1   0]]\n"
          ]
        },
        {
          "metadata": {
            "tags": null
          },
          "name": "stderr",
          "output_type": "stream",
          "text": [
            "Epoch 3: 100%|████████████████████████████████████████████████████████| 8/8 [02:23<00:00, 18.00s/it]\n"
          ]
        },
        {
          "metadata": {
            "tags": null
          },
          "name": "stdout",
          "output_type": "stream",
          "text": [
            "Average Loss =  tensor([16.5851], device='cuda:0', grad_fn=<DivBackward0>)\n"
          ]
        },
        {
          "metadata": {
            "tags": null
          },
          "name": "stderr",
          "output_type": "stream",
          "text": [
            "Validating 3: 100%|███████████████████████████████████████████████████| 2/2 [00:30<00:00, 15.26s/it]\n",
            "/usr/local/lib/python3.10/dist-packages/sklearn/metrics/_classification.py:1344: UndefinedMetricWarning: Precision and F-score are ill-defined and being set to 0.0 in labels with no predicted samples. Use `zero_division` parameter to control this behavior.\n",
            "  _warn_prf(average, modifier, msg_start, len(result))\n",
            "/usr/local/lib/python3.10/dist-packages/sklearn/metrics/_classification.py:1344: UndefinedMetricWarning: Precision and F-score are ill-defined and being set to 0.0 in labels with no predicted samples. Use `zero_division` parameter to control this behavior.\n",
            "  _warn_prf(average, modifier, msg_start, len(result))\n",
            "/usr/local/lib/python3.10/dist-packages/sklearn/metrics/_classification.py:1344: UndefinedMetricWarning: Precision and F-score are ill-defined and being set to 0.0 in labels with no predicted samples. Use `zero_division` parameter to control this behavior.\n",
            "  _warn_prf(average, modifier, msg_start, len(result))\n"
          ]
        },
        {
          "metadata": {
            "tags": null
          },
          "name": "stdout",
          "output_type": "stream",
          "text": [
            "              precision    recall  f1-score   support\n",
            "\n",
            "           0       0.00      0.00      0.00        23\n",
            "           1       1.00      0.00      0.01       409\n",
            "           2       0.04      0.88      0.07        60\n",
            "           3       0.00      0.00      0.00       138\n",
            "           4       0.00      0.00      0.00        86\n",
            "           5       0.44      0.09      0.15       691\n",
            "           6       0.00      0.00      0.00       103\n",
            "           7       0.00      0.00      0.00       115\n",
            "\n",
            "    accuracy                           0.07      1625\n",
            "   macro avg       0.18      0.12      0.03      1625\n",
            "weighted avg       0.44      0.07      0.07      1625\n",
            "\n",
            "Confusion Matrix: \n",
            " [[  0   0  21   0   0   2   0   0]\n",
            " [  0   2 363   0   0  42   0   2]\n",
            " [  0   0  53   0   0   7   0   0]\n",
            " [  0   0 126   0   0  10   0   2]\n",
            " [  0   0  78   0   0   7   0   1]\n",
            " [  0   0 627   0   0  64   0   0]\n",
            " [  0   0  97   0   0   6   0   0]\n",
            " [  0   0 106   0   0   9   0   0]]\n"
          ]
        },
        {
          "metadata": {
            "tags": null
          },
          "name": "stderr",
          "output_type": "stream",
          "text": [
            "Epoch 4: 100%|████████████████████████████████████████████████████████| 8/8 [02:25<00:00, 18.15s/it]\n"
          ]
        },
        {
          "metadata": {
            "tags": null
          },
          "name": "stdout",
          "output_type": "stream",
          "text": [
            "Average Loss =  tensor([15.1006], device='cuda:0', grad_fn=<DivBackward0>)\n"
          ]
        },
        {
          "metadata": {
            "tags": null
          },
          "name": "stderr",
          "output_type": "stream",
          "text": [
            "Validating 4: 100%|███████████████████████████████████████████████████| 2/2 [00:30<00:00, 15.38s/it]\n",
            "/usr/local/lib/python3.10/dist-packages/sklearn/metrics/_classification.py:1344: UndefinedMetricWarning: Precision and F-score are ill-defined and being set to 0.0 in labels with no predicted samples. Use `zero_division` parameter to control this behavior.\n",
            "  _warn_prf(average, modifier, msg_start, len(result))\n",
            "/usr/local/lib/python3.10/dist-packages/sklearn/metrics/_classification.py:1344: UndefinedMetricWarning: Precision and F-score are ill-defined and being set to 0.0 in labels with no predicted samples. Use `zero_division` parameter to control this behavior.\n",
            "  _warn_prf(average, modifier, msg_start, len(result))\n",
            "/usr/local/lib/python3.10/dist-packages/sklearn/metrics/_classification.py:1344: UndefinedMetricWarning: Precision and F-score are ill-defined and being set to 0.0 in labels with no predicted samples. Use `zero_division` parameter to control this behavior.\n",
            "  _warn_prf(average, modifier, msg_start, len(result))\n"
          ]
        },
        {
          "metadata": {
            "tags": null
          },
          "name": "stdout",
          "output_type": "stream",
          "text": [
            "              precision    recall  f1-score   support\n",
            "\n",
            "           0       0.00      0.00      0.00        23\n",
            "           1       0.00      0.00      0.00       409\n",
            "           2       0.04      1.00      0.07        60\n",
            "           3       0.00      0.00      0.00       138\n",
            "           4       0.07      0.06      0.06        86\n",
            "           5       0.00      0.00      0.00       691\n",
            "           6       0.00      0.00      0.00       103\n",
            "           7       0.00      0.00      0.00       115\n",
            "\n",
            "    accuracy                           0.04      1625\n",
            "   macro avg       0.01      0.13      0.02      1625\n",
            "weighted avg       0.01      0.04      0.01      1625\n",
            "\n",
            "Confusion Matrix: \n",
            " [[  0   0  23   0   0   0   0   0]\n",
            " [  0   0 384   0  25   0   0   0]\n",
            " [  0   0  60   0   0   0   0   0]\n",
            " [  0   0 126   0  12   0   0   0]\n",
            " [  0   0  81   0   5   0   0   0]\n",
            " [  0   0 667   0  24   0   0   0]\n",
            " [  0   0 101   0   2   0   0   0]\n",
            " [  0   0 113   0   2   0   0   0]]\n"
          ]
        },
        {
          "metadata": {
            "tags": null
          },
          "name": "stderr",
          "output_type": "stream",
          "text": [
            "Epoch 5: 100%|████████████████████████████████████████████████████████| 8/8 [02:26<00:00, 18.33s/it]\n"
          ]
        },
        {
          "metadata": {
            "tags": null
          },
          "name": "stdout",
          "output_type": "stream",
          "text": [
            "Average Loss =  tensor([15.3456], device='cuda:0', grad_fn=<DivBackward0>)\n"
          ]
        },
        {
          "metadata": {
            "tags": null
          },
          "name": "stderr",
          "output_type": "stream",
          "text": [
            "Validating 5: 100%|███████████████████████████████████████████████████| 2/2 [00:31<00:00, 15.53s/it]\n",
            "/usr/local/lib/python3.10/dist-packages/sklearn/metrics/_classification.py:1344: UndefinedMetricWarning: Precision and F-score are ill-defined and being set to 0.0 in labels with no predicted samples. Use `zero_division` parameter to control this behavior.\n",
            "  _warn_prf(average, modifier, msg_start, len(result))\n",
            "/usr/local/lib/python3.10/dist-packages/sklearn/metrics/_classification.py:1344: UndefinedMetricWarning: Precision and F-score are ill-defined and being set to 0.0 in labels with no predicted samples. Use `zero_division` parameter to control this behavior.\n",
            "  _warn_prf(average, modifier, msg_start, len(result))\n",
            "/usr/local/lib/python3.10/dist-packages/sklearn/metrics/_classification.py:1344: UndefinedMetricWarning: Precision and F-score are ill-defined and being set to 0.0 in labels with no predicted samples. Use `zero_division` parameter to control this behavior.\n",
            "  _warn_prf(average, modifier, msg_start, len(result))\n"
          ]
        },
        {
          "metadata": {
            "tags": null
          },
          "name": "stdout",
          "output_type": "stream",
          "text": [
            "              precision    recall  f1-score   support\n",
            "\n",
            "           0       0.00      0.00      0.00        23\n",
            "           1       0.25      1.00      0.40       409\n",
            "           2       0.00      0.00      0.00        60\n",
            "           3       0.00      0.00      0.00       138\n",
            "           4       0.00      0.00      0.00        86\n",
            "           5       0.00      0.00      0.00       691\n",
            "           6       0.00      0.00      0.00       103\n",
            "           7       0.00      0.00      0.00       115\n",
            "\n",
            "    accuracy                           0.25      1625\n",
            "   macro avg       0.03      0.12      0.05      1625\n",
            "weighted avg       0.06      0.25      0.10      1625\n",
            "\n",
            "Confusion Matrix: \n",
            " [[  0  23   0   0   0   0   0   0]\n",
            " [  0 409   0   0   0   0   0   0]\n",
            " [  0  60   0   0   0   0   0   0]\n",
            " [  0 138   0   0   0   0   0   0]\n",
            " [  0  86   0   0   0   0   0   0]\n",
            " [  0 691   0   0   0   0   0   0]\n",
            " [  0 103   0   0   0   0   0   0]\n",
            " [  0 115   0   0   0   0   0   0]]\n"
          ]
        },
        {
          "metadata": {
            "tags": null
          },
          "name": "stderr",
          "output_type": "stream",
          "text": [
            "Epoch 6: 100%|████████████████████████████████████████████████████████| 8/8 [02:24<00:00, 18.10s/it]\n"
          ]
        },
        {
          "metadata": {
            "tags": null
          },
          "name": "stdout",
          "output_type": "stream",
          "text": [
            "Average Loss =  tensor([14.9054], device='cuda:0', grad_fn=<DivBackward0>)\n"
          ]
        },
        {
          "metadata": {
            "tags": null
          },
          "name": "stderr",
          "output_type": "stream",
          "text": [
            "Validating 6: 100%|███████████████████████████████████████████████████| 2/2 [00:31<00:00, 15.61s/it]\n",
            "/usr/local/lib/python3.10/dist-packages/sklearn/metrics/_classification.py:1344: UndefinedMetricWarning: Precision and F-score are ill-defined and being set to 0.0 in labels with no predicted samples. Use `zero_division` parameter to control this behavior.\n",
            "  _warn_prf(average, modifier, msg_start, len(result))\n",
            "/usr/local/lib/python3.10/dist-packages/sklearn/metrics/_classification.py:1344: UndefinedMetricWarning: Precision and F-score are ill-defined and being set to 0.0 in labels with no predicted samples. Use `zero_division` parameter to control this behavior.\n",
            "  _warn_prf(average, modifier, msg_start, len(result))\n",
            "/usr/local/lib/python3.10/dist-packages/sklearn/metrics/_classification.py:1344: UndefinedMetricWarning: Precision and F-score are ill-defined and being set to 0.0 in labels with no predicted samples. Use `zero_division` parameter to control this behavior.\n",
            "  _warn_prf(average, modifier, msg_start, len(result))\n"
          ]
        },
        {
          "metadata": {
            "tags": null
          },
          "name": "stdout",
          "output_type": "stream",
          "text": [
            "              precision    recall  f1-score   support\n",
            "\n",
            "           0       0.02      0.83      0.03        23\n",
            "           1       0.00      0.00      0.00       409\n",
            "           2       0.00      0.00      0.00        60\n",
            "           3       0.11      0.36      0.16       138\n",
            "           4       0.00      0.00      0.00        86\n",
            "           5       0.00      0.00      0.00       691\n",
            "           6       0.00      0.00      0.00       103\n",
            "           7       0.00      0.00      0.00       115\n",
            "\n",
            "    accuracy                           0.04      1625\n",
            "   macro avg       0.02      0.15      0.02      1625\n",
            "weighted avg       0.01      0.04      0.01      1625\n",
            "\n",
            "Confusion Matrix: \n",
            " [[ 19   0   0   4   0   0   0   0]\n",
            " [266   0   0 143   0   0   0   0]\n",
            " [ 49   0   0  11   0   0   0   0]\n",
            " [ 88   0   0  50   0   0   0   0]\n",
            " [ 62   0   0  24   0   0   0   0]\n",
            " [506   0   0 185   0   0   0   0]\n",
            " [ 70   0   0  33   0   0   0   0]\n",
            " [ 90   0   0  25   0   0   0   0]]\n"
          ]
        },
        {
          "metadata": {
            "tags": null
          },
          "name": "stderr",
          "output_type": "stream",
          "text": [
            "Epoch 7: 100%|████████████████████████████████████████████████████████| 8/8 [02:25<00:00, 18.22s/it]\n"
          ]
        },
        {
          "metadata": {
            "tags": null
          },
          "name": "stdout",
          "output_type": "stream",
          "text": [
            "Average Loss =  tensor([15.1120], device='cuda:0', grad_fn=<DivBackward0>)\n"
          ]
        },
        {
          "metadata": {
            "tags": null
          },
          "name": "stderr",
          "output_type": "stream",
          "text": [
            "Validating 7: 100%|███████████████████████████████████████████████████| 2/2 [00:31<00:00, 15.57s/it]\n",
            "/usr/local/lib/python3.10/dist-packages/sklearn/metrics/_classification.py:1344: UndefinedMetricWarning: Precision and F-score are ill-defined and being set to 0.0 in labels with no predicted samples. Use `zero_division` parameter to control this behavior.\n",
            "  _warn_prf(average, modifier, msg_start, len(result))\n",
            "/usr/local/lib/python3.10/dist-packages/sklearn/metrics/_classification.py:1344: UndefinedMetricWarning: Precision and F-score are ill-defined and being set to 0.0 in labels with no predicted samples. Use `zero_division` parameter to control this behavior.\n",
            "  _warn_prf(average, modifier, msg_start, len(result))\n",
            "/usr/local/lib/python3.10/dist-packages/sklearn/metrics/_classification.py:1344: UndefinedMetricWarning: Precision and F-score are ill-defined and being set to 0.0 in labels with no predicted samples. Use `zero_division` parameter to control this behavior.\n",
            "  _warn_prf(average, modifier, msg_start, len(result))\n"
          ]
        },
        {
          "metadata": {
            "tags": null
          },
          "name": "stdout",
          "output_type": "stream",
          "text": [
            "              precision    recall  f1-score   support\n",
            "\n",
            "           0       0.00      0.00      0.00        23\n",
            "           1       0.34      0.10      0.16       409\n",
            "           2       0.00      0.00      0.00        60\n",
            "           3       0.00      0.00      0.00       138\n",
            "           4       0.00      0.00      0.00        86\n",
            "           5       0.00      0.00      0.00       691\n",
            "           6       0.00      0.00      0.00       103\n",
            "           7       0.07      0.97      0.14       115\n",
            "\n",
            "    accuracy                           0.09      1625\n",
            "   macro avg       0.05      0.13      0.04      1625\n",
            "weighted avg       0.09      0.09      0.05      1625\n",
            "\n",
            "Confusion Matrix: \n",
            " [[  0   0   0   0   0   0   0  23]\n",
            " [  0  42   0   0   2   0   0 365]\n",
            " [  0   3   0   0   0   0   0  57]\n",
            " [  0  15   0   0   2   0   0 121]\n",
            " [  0   5   0   0   0   0   0  81]\n",
            " [  0  49   0   0   2   0   0 640]\n",
            " [  0   6   0   0   0   0   0  97]\n",
            " [  0   3   0   0   0   0   0 112]]\n"
          ]
        },
        {
          "metadata": {
            "tags": null
          },
          "name": "stderr",
          "output_type": "stream",
          "text": [
            "Epoch 8: 100%|████████████████████████████████████████████████████████| 8/8 [02:27<00:00, 18.39s/it]\n"
          ]
        },
        {
          "metadata": {
            "tags": null
          },
          "name": "stdout",
          "output_type": "stream",
          "text": [
            "Average Loss =  tensor([14.6460], device='cuda:0', grad_fn=<DivBackward0>)\n"
          ]
        },
        {
          "metadata": {
            "tags": null
          },
          "name": "stderr",
          "output_type": "stream",
          "text": [
            "Validating 8: 100%|███████████████████████████████████████████████████| 2/2 [00:30<00:00, 15.45s/it]\n",
            "/usr/local/lib/python3.10/dist-packages/sklearn/metrics/_classification.py:1344: UndefinedMetricWarning: Precision and F-score are ill-defined and being set to 0.0 in labels with no predicted samples. Use `zero_division` parameter to control this behavior.\n",
            "  _warn_prf(average, modifier, msg_start, len(result))\n",
            "/usr/local/lib/python3.10/dist-packages/sklearn/metrics/_classification.py:1344: UndefinedMetricWarning: Precision and F-score are ill-defined and being set to 0.0 in labels with no predicted samples. Use `zero_division` parameter to control this behavior.\n",
            "  _warn_prf(average, modifier, msg_start, len(result))\n",
            "/usr/local/lib/python3.10/dist-packages/sklearn/metrics/_classification.py:1344: UndefinedMetricWarning: Precision and F-score are ill-defined and being set to 0.0 in labels with no predicted samples. Use `zero_division` parameter to control this behavior.\n",
            "  _warn_prf(average, modifier, msg_start, len(result))\n"
          ]
        },
        {
          "metadata": {
            "tags": null
          },
          "name": "stdout",
          "output_type": "stream",
          "text": [
            "              precision    recall  f1-score   support\n",
            "\n",
            "           0       0.00      0.00      0.00        23\n",
            "           1       0.41      0.02      0.04       409\n",
            "           2       0.00      0.00      0.00        60\n",
            "           3       0.00      0.00      0.00       138\n",
            "           4       0.05      1.00      0.10        86\n",
            "           5       0.00      0.00      0.00       691\n",
            "           6       0.00      0.00      0.00       103\n",
            "           7       0.00      0.00      0.00       115\n",
            "\n",
            "    accuracy                           0.06      1625\n",
            "   macro avg       0.06      0.13      0.02      1625\n",
            "weighted avg       0.11      0.06      0.02      1625\n",
            "\n",
            "Confusion Matrix: \n",
            " [[  0   0   0   0  23   0   0   0]\n",
            " [  0   9   0   0 400   0   0   0]\n",
            " [  0   1   0   0  59   0   0   0]\n",
            " [  0   2   0   0 136   0   0   0]\n",
            " [  0   0   0   0  86   0   0   0]\n",
            " [  0  10   0   0 680   0   1   0]\n",
            " [  0   0   0   0 103   0   0   0]\n",
            " [  0   0   0   0 115   0   0   0]]\n"
          ]
        },
        {
          "metadata": {
            "tags": null
          },
          "name": "stderr",
          "output_type": "stream",
          "text": [
            "Epoch 9: 100%|████████████████████████████████████████████████████████| 8/8 [02:23<00:00, 17.91s/it]\n"
          ]
        },
        {
          "metadata": {
            "tags": null
          },
          "name": "stdout",
          "output_type": "stream",
          "text": [
            "Average Loss =  tensor([14.6329], device='cuda:0', grad_fn=<DivBackward0>)\n"
          ]
        },
        {
          "metadata": {
            "tags": null
          },
          "name": "stderr",
          "output_type": "stream",
          "text": [
            "Validating 9: 100%|███████████████████████████████████████████████████| 2/2 [00:30<00:00, 15.29s/it]\n",
            "/usr/local/lib/python3.10/dist-packages/sklearn/metrics/_classification.py:1344: UndefinedMetricWarning: Precision and F-score are ill-defined and being set to 0.0 in labels with no predicted samples. Use `zero_division` parameter to control this behavior.\n",
            "  _warn_prf(average, modifier, msg_start, len(result))\n",
            "/usr/local/lib/python3.10/dist-packages/sklearn/metrics/_classification.py:1344: UndefinedMetricWarning: Precision and F-score are ill-defined and being set to 0.0 in labels with no predicted samples. Use `zero_division` parameter to control this behavior.\n",
            "  _warn_prf(average, modifier, msg_start, len(result))\n",
            "/usr/local/lib/python3.10/dist-packages/sklearn/metrics/_classification.py:1344: UndefinedMetricWarning: Precision and F-score are ill-defined and being set to 0.0 in labels with no predicted samples. Use `zero_division` parameter to control this behavior.\n",
            "  _warn_prf(average, modifier, msg_start, len(result))\n"
          ]
        },
        {
          "metadata": {
            "tags": null
          },
          "name": "stdout",
          "output_type": "stream",
          "text": [
            "              precision    recall  f1-score   support\n",
            "\n",
            "           0       0.02      1.00      0.03        23\n",
            "           1       0.00      0.00      0.00       409\n",
            "           2       0.00      0.00      0.00        60\n",
            "           3       0.08      0.04      0.06       138\n",
            "           4       0.00      0.00      0.00        86\n",
            "           5       0.35      0.07      0.12       691\n",
            "           6       0.00      0.00      0.00       103\n",
            "           7       0.00      0.00      0.00       115\n",
            "\n",
            "    accuracy                           0.05      1625\n",
            "   macro avg       0.06      0.14      0.03      1625\n",
            "weighted avg       0.16      0.05      0.05      1625\n",
            "\n",
            "Confusion Matrix: \n",
            " [[ 23   0   0   0   0   0   0   0]\n",
            " [337   0   0  19   0  51   2   0]\n",
            " [ 54   0   0   4   0   2   0   0]\n",
            " [113   0   0   6   0  19   0   0]\n",
            " [ 75   0   0   4   0   7   0   0]\n",
            " [610   0   0  32   0  48   1   0]\n",
            " [ 90   0   0   6   0   7   0   0]\n",
            " [109   0   0   3   0   3   0   0]]\n"
          ]
        },
        {
          "metadata": {
            "tags": null
          },
          "name": "stderr",
          "output_type": "stream",
          "text": [
            "Epoch 10: 100%|███████████████████████████████████████████████████████| 8/8 [02:22<00:00, 17.87s/it]\n"
          ]
        },
        {
          "metadata": {
            "tags": null
          },
          "name": "stdout",
          "output_type": "stream",
          "text": [
            "Average Loss =  tensor([14.5442], device='cuda:0', grad_fn=<DivBackward0>)\n"
          ]
        },
        {
          "metadata": {
            "tags": null
          },
          "name": "stderr",
          "output_type": "stream",
          "text": [
            "Validating 10: 100%|██████████████████████████████████████████████████| 2/2 [00:30<00:00, 15.37s/it]\n",
            "/usr/local/lib/python3.10/dist-packages/sklearn/metrics/_classification.py:1344: UndefinedMetricWarning: Precision and F-score are ill-defined and being set to 0.0 in labels with no predicted samples. Use `zero_division` parameter to control this behavior.\n",
            "  _warn_prf(average, modifier, msg_start, len(result))\n",
            "/usr/local/lib/python3.10/dist-packages/sklearn/metrics/_classification.py:1344: UndefinedMetricWarning: Precision and F-score are ill-defined and being set to 0.0 in labels with no predicted samples. Use `zero_division` parameter to control this behavior.\n",
            "  _warn_prf(average, modifier, msg_start, len(result))\n",
            "/usr/local/lib/python3.10/dist-packages/sklearn/metrics/_classification.py:1344: UndefinedMetricWarning: Precision and F-score are ill-defined and being set to 0.0 in labels with no predicted samples. Use `zero_division` parameter to control this behavior.\n",
            "  _warn_prf(average, modifier, msg_start, len(result))\n"
          ]
        },
        {
          "metadata": {
            "tags": null
          },
          "name": "stdout",
          "output_type": "stream",
          "text": [
            "              precision    recall  f1-score   support\n",
            "\n",
            "           0       0.00      0.00      0.00        23\n",
            "           1       0.38      0.08      0.13       409\n",
            "           2       0.00      0.00      0.00        60\n",
            "           3       0.00      0.00      0.00       138\n",
            "           4       0.02      0.01      0.01        86\n",
            "           5       0.00      0.00      0.00       691\n",
            "           6       0.00      0.00      0.00       103\n",
            "           7       0.08      0.97      0.14       115\n",
            "\n",
            "    accuracy                           0.09      1625\n",
            "   macro avg       0.06      0.13      0.04      1625\n",
            "weighted avg       0.10      0.09      0.04      1625\n",
            "\n",
            "Confusion Matrix: \n",
            " [[  0   0   0   0   0   0   0  23]\n",
            " [  0  31   0   0  20   0   0 358]\n",
            " [  0   1   0   0   3   0   0  56]\n",
            " [  0  11   0   0   7   0   0 120]\n",
            " [  0   5   0   0   1   0   0  80]\n",
            " [  0  29   0   0  28   0   0 634]\n",
            " [  0   3   0   0   4   0   0  96]\n",
            " [  0   1   0   0   2   0   0 112]]\n"
          ]
        },
        {
          "metadata": {
            "tags": null
          },
          "name": "stderr",
          "output_type": "stream",
          "text": [
            "Epoch 11: 100%|███████████████████████████████████████████████████████| 8/8 [02:25<00:00, 18.15s/it]\n"
          ]
        },
        {
          "metadata": {
            "tags": null
          },
          "name": "stdout",
          "output_type": "stream",
          "text": [
            "Average Loss =  tensor([14.4369], device='cuda:0', grad_fn=<DivBackward0>)\n"
          ]
        },
        {
          "metadata": {
            "tags": null
          },
          "name": "stderr",
          "output_type": "stream",
          "text": [
            "Validating 11: 100%|██████████████████████████████████████████████████| 2/2 [00:30<00:00, 15.30s/it]\n",
            "/usr/local/lib/python3.10/dist-packages/sklearn/metrics/_classification.py:1344: UndefinedMetricWarning: Precision and F-score are ill-defined and being set to 0.0 in labels with no predicted samples. Use `zero_division` parameter to control this behavior.\n",
            "  _warn_prf(average, modifier, msg_start, len(result))\n",
            "/usr/local/lib/python3.10/dist-packages/sklearn/metrics/_classification.py:1344: UndefinedMetricWarning: Precision and F-score are ill-defined and being set to 0.0 in labels with no predicted samples. Use `zero_division` parameter to control this behavior.\n",
            "  _warn_prf(average, modifier, msg_start, len(result))\n",
            "/usr/local/lib/python3.10/dist-packages/sklearn/metrics/_classification.py:1344: UndefinedMetricWarning: Precision and F-score are ill-defined and being set to 0.0 in labels with no predicted samples. Use `zero_division` parameter to control this behavior.\n",
            "  _warn_prf(average, modifier, msg_start, len(result))\n"
          ]
        },
        {
          "metadata": {
            "tags": null
          },
          "name": "stdout",
          "output_type": "stream",
          "text": [
            "              precision    recall  f1-score   support\n",
            "\n",
            "           0       0.02      0.87      0.04        23\n",
            "           1       0.32      0.35      0.34       409\n",
            "           2       0.00      0.00      0.00        60\n",
            "           3       1.00      0.01      0.01       138\n",
            "           4       0.00      0.00      0.00        86\n",
            "           5       0.42      0.10      0.16       691\n",
            "           6       0.00      0.00      0.00       103\n",
            "           7       0.00      0.00      0.00       115\n",
            "\n",
            "    accuracy                           0.14      1625\n",
            "   macro avg       0.22      0.17      0.07      1625\n",
            "weighted avg       0.35      0.14      0.15      1625\n",
            "\n",
            "Confusion Matrix: \n",
            " [[ 20   1   0   0   0   0   2   0]\n",
            " [214 145   0   0   0  44   6   0]\n",
            " [ 32  13   0   0   0  13   2   0]\n",
            " [ 85  44   0   1   0   8   0   0]\n",
            " [ 52  22   0   0   0  10   2   0]\n",
            " [431 185   0   0   0  68   7   0]\n",
            " [ 70  25   0   0   0   8   0   0]\n",
            " [ 83  18   0   0   0  10   4   0]]\n"
          ]
        },
        {
          "metadata": {
            "tags": null
          },
          "name": "stderr",
          "output_type": "stream",
          "text": [
            "Epoch 12: 100%|███████████████████████████████████████████████████████| 8/8 [02:25<00:00, 18.14s/it]\n"
          ]
        },
        {
          "metadata": {
            "tags": null
          },
          "name": "stdout",
          "output_type": "stream",
          "text": [
            "Average Loss =  tensor([14.3335], device='cuda:0', grad_fn=<DivBackward0>)\n"
          ]
        },
        {
          "metadata": {
            "tags": null
          },
          "name": "stderr",
          "output_type": "stream",
          "text": [
            "Validating 12: 100%|██████████████████████████████████████████████████| 2/2 [00:31<00:00, 15.54s/it]\n",
            "/usr/local/lib/python3.10/dist-packages/sklearn/metrics/_classification.py:1344: UndefinedMetricWarning: Precision and F-score are ill-defined and being set to 0.0 in labels with no predicted samples. Use `zero_division` parameter to control this behavior.\n",
            "  _warn_prf(average, modifier, msg_start, len(result))\n",
            "/usr/local/lib/python3.10/dist-packages/sklearn/metrics/_classification.py:1344: UndefinedMetricWarning: Precision and F-score are ill-defined and being set to 0.0 in labels with no predicted samples. Use `zero_division` parameter to control this behavior.\n",
            "  _warn_prf(average, modifier, msg_start, len(result))\n",
            "/usr/local/lib/python3.10/dist-packages/sklearn/metrics/_classification.py:1344: UndefinedMetricWarning: Precision and F-score are ill-defined and being set to 0.0 in labels with no predicted samples. Use `zero_division` parameter to control this behavior.\n",
            "  _warn_prf(average, modifier, msg_start, len(result))\n"
          ]
        },
        {
          "metadata": {
            "tags": null
          },
          "name": "stdout",
          "output_type": "stream",
          "text": [
            "              precision    recall  f1-score   support\n",
            "\n",
            "           0       0.00      0.00      0.00        23\n",
            "           1       0.43      0.06      0.11       409\n",
            "           2       0.10      0.05      0.07        60\n",
            "           3       1.00      0.01      0.01       138\n",
            "           4       0.08      0.09      0.09        86\n",
            "           5       0.45      0.27      0.34       691\n",
            "           6       0.06      0.21      0.09       103\n",
            "           7       0.10      0.54      0.16       115\n",
            "\n",
            "    accuracy                           0.19      1625\n",
            "   macro avg       0.28      0.15      0.11      1625\n",
            "weighted avg       0.40      0.19      0.20      1625\n",
            "\n",
            "Confusion Matrix: \n",
            " [[  0   0   2   0   0   3   5  13]\n",
            " [  0  26  10   0  36 100 110 127]\n",
            " [  0   1   3   0   5  23  12  16]\n",
            " [  0   4   0   1  12  26  35  60]\n",
            " [  0   0   3   0   8  21  20  34]\n",
            " [  0  30   9   0  32 186 150 284]\n",
            " [  0   0   0   0   8  27  22  46]\n",
            " [  0   0   4   0   1  27  21  62]]\n"
          ]
        },
        {
          "metadata": {
            "tags": null
          },
          "name": "stderr",
          "output_type": "stream",
          "text": [
            "Epoch 13: 100%|███████████████████████████████████████████████████████| 8/8 [02:25<00:00, 18.23s/it]\n"
          ]
        },
        {
          "metadata": {
            "tags": null
          },
          "name": "stdout",
          "output_type": "stream",
          "text": [
            "Average Loss =  tensor([14.3602], device='cuda:0', grad_fn=<DivBackward0>)\n"
          ]
        },
        {
          "metadata": {
            "tags": null
          },
          "name": "stderr",
          "output_type": "stream",
          "text": [
            "Validating 13: 100%|██████████████████████████████████████████████████| 2/2 [00:30<00:00, 15.47s/it]\n",
            "/usr/local/lib/python3.10/dist-packages/sklearn/metrics/_classification.py:1344: UndefinedMetricWarning: Precision and F-score are ill-defined and being set to 0.0 in labels with no predicted samples. Use `zero_division` parameter to control this behavior.\n",
            "  _warn_prf(average, modifier, msg_start, len(result))\n",
            "/usr/local/lib/python3.10/dist-packages/sklearn/metrics/_classification.py:1344: UndefinedMetricWarning: Precision and F-score are ill-defined and being set to 0.0 in labels with no predicted samples. Use `zero_division` parameter to control this behavior.\n",
            "  _warn_prf(average, modifier, msg_start, len(result))\n",
            "/usr/local/lib/python3.10/dist-packages/sklearn/metrics/_classification.py:1344: UndefinedMetricWarning: Precision and F-score are ill-defined and being set to 0.0 in labels with no predicted samples. Use `zero_division` parameter to control this behavior.\n",
            "  _warn_prf(average, modifier, msg_start, len(result))\n"
          ]
        },
        {
          "metadata": {
            "tags": null
          },
          "name": "stdout",
          "output_type": "stream",
          "text": [
            "              precision    recall  f1-score   support\n",
            "\n",
            "           0       0.02      0.91      0.03        23\n",
            "           1       0.43      0.08      0.14       409\n",
            "           2       0.00      0.00      0.00        60\n",
            "           3       0.50      0.01      0.01       138\n",
            "           4       0.17      0.03      0.06        86\n",
            "           5       0.43      0.01      0.02       691\n",
            "           6       0.00      0.00      0.00       103\n",
            "           7       0.08      0.20      0.12       115\n",
            "\n",
            "    accuracy                           0.05      1625\n",
            "   macro avg       0.20      0.16      0.05      1625\n",
            "weighted avg       0.35      0.05      0.06      1625\n",
            "\n",
            "Confusion Matrix: \n",
            " [[ 21   0   0   0   0   0   0   2]\n",
            " [292  34   0   1   7   5   3  67]\n",
            " [ 50   2   0   0   0   1   0   7]\n",
            " [ 98   5   0   1   3   1   1  29]\n",
            " [ 63   0   0   0   3   1   0  19]\n",
            " [536  35   0   0   4   6   8 102]\n",
            " [ 77   3   0   0   1   0   0  22]\n",
            " [ 91   0   0   0   0   0   1  23]]\n"
          ]
        },
        {
          "metadata": {
            "tags": null
          },
          "name": "stderr",
          "output_type": "stream",
          "text": [
            "Epoch 14: 100%|███████████████████████████████████████████████████████| 8/8 [02:26<00:00, 18.36s/it]\n"
          ]
        },
        {
          "metadata": {
            "tags": null
          },
          "name": "stdout",
          "output_type": "stream",
          "text": [
            "Average Loss =  tensor([14.4067], device='cuda:0', grad_fn=<DivBackward0>)\n"
          ]
        },
        {
          "metadata": {
            "tags": null
          },
          "name": "stderr",
          "output_type": "stream",
          "text": [
            "Validating 14: 100%|██████████████████████████████████████████████████| 2/2 [00:30<00:00, 15.41s/it]\n",
            "/usr/local/lib/python3.10/dist-packages/sklearn/metrics/_classification.py:1344: UndefinedMetricWarning: Precision and F-score are ill-defined and being set to 0.0 in labels with no predicted samples. Use `zero_division` parameter to control this behavior.\n",
            "  _warn_prf(average, modifier, msg_start, len(result))\n",
            "/usr/local/lib/python3.10/dist-packages/sklearn/metrics/_classification.py:1344: UndefinedMetricWarning: Precision and F-score are ill-defined and being set to 0.0 in labels with no predicted samples. Use `zero_division` parameter to control this behavior.\n",
            "  _warn_prf(average, modifier, msg_start, len(result))\n",
            "/usr/local/lib/python3.10/dist-packages/sklearn/metrics/_classification.py:1344: UndefinedMetricWarning: Precision and F-score are ill-defined and being set to 0.0 in labels with no predicted samples. Use `zero_division` parameter to control this behavior.\n",
            "  _warn_prf(average, modifier, msg_start, len(result))\n"
          ]
        },
        {
          "metadata": {
            "tags": null
          },
          "name": "stdout",
          "output_type": "stream",
          "text": [
            "              precision    recall  f1-score   support\n",
            "\n",
            "           0       0.00      0.00      0.00        23\n",
            "           1       0.39      0.21      0.27       409\n",
            "           2       0.07      0.33      0.11        60\n",
            "           3       0.05      0.03      0.04       138\n",
            "           4       0.00      0.00      0.00        86\n",
            "           5       0.44      0.21      0.28       691\n",
            "           6       0.08      0.30      0.12       103\n",
            "           7       0.12      0.31      0.18       115\n",
            "\n",
            "    accuracy                           0.20      1625\n",
            "   macro avg       0.14      0.17      0.13      1625\n",
            "weighted avg       0.31      0.20      0.22      1625\n",
            "\n",
            "Confusion Matrix: \n",
            " [[  0   0   3   1   0   6   6   7]\n",
            " [  0  87  83  11   0  83  95  50]\n",
            " [  0   6  20   5   0  19   9   1]\n",
            " [  0  15  22   4   0  20  43  34]\n",
            " [  0   9  16   5   0  21  18  17]\n",
            " [  0  92 128  42   0 145 156 128]\n",
            " [  0  10  16   6   0  17  31  23]\n",
            " [  0   6   9   9   0  17  38  36]]\n"
          ]
        },
        {
          "metadata": {
            "tags": null
          },
          "name": "stderr",
          "output_type": "stream",
          "text": [
            "Epoch 15: 100%|███████████████████████████████████████████████████████| 8/8 [02:25<00:00, 18.17s/it]\n"
          ]
        },
        {
          "metadata": {
            "tags": null
          },
          "name": "stdout",
          "output_type": "stream",
          "text": [
            "Average Loss =  tensor([14.3722], device='cuda:0', grad_fn=<DivBackward0>)\n"
          ]
        },
        {
          "metadata": {
            "tags": null
          },
          "name": "stderr",
          "output_type": "stream",
          "text": [
            "Validating 15: 100%|██████████████████████████████████████████████████| 2/2 [00:31<00:00, 15.60s/it]\n",
            "/usr/local/lib/python3.10/dist-packages/sklearn/metrics/_classification.py:1344: UndefinedMetricWarning: Precision and F-score are ill-defined and being set to 0.0 in labels with no predicted samples. Use `zero_division` parameter to control this behavior.\n",
            "  _warn_prf(average, modifier, msg_start, len(result))\n",
            "/usr/local/lib/python3.10/dist-packages/sklearn/metrics/_classification.py:1344: UndefinedMetricWarning: Precision and F-score are ill-defined and being set to 0.0 in labels with no predicted samples. Use `zero_division` parameter to control this behavior.\n",
            "  _warn_prf(average, modifier, msg_start, len(result))\n",
            "/usr/local/lib/python3.10/dist-packages/sklearn/metrics/_classification.py:1344: UndefinedMetricWarning: Precision and F-score are ill-defined and being set to 0.0 in labels with no predicted samples. Use `zero_division` parameter to control this behavior.\n",
            "  _warn_prf(average, modifier, msg_start, len(result))\n"
          ]
        },
        {
          "metadata": {
            "tags": null
          },
          "name": "stdout",
          "output_type": "stream",
          "text": [
            "              precision    recall  f1-score   support\n",
            "\n",
            "           0       0.02      0.83      0.04        23\n",
            "           1       0.32      0.41      0.36       409\n",
            "           2       0.00      0.00      0.00        60\n",
            "           3       0.00      0.00      0.00       138\n",
            "           4       0.06      0.07      0.07        86\n",
            "           5       0.41      0.04      0.07       691\n",
            "           6       0.00      0.00      0.00       103\n",
            "           7       0.20      0.01      0.02       115\n",
            "\n",
            "    accuracy                           0.14      1625\n",
            "   macro avg       0.13      0.17      0.07      1625\n",
            "weighted avg       0.27      0.14      0.13      1625\n",
            "\n",
            "Confusion Matrix: \n",
            " [[ 19   2   0   0   0   1   0   1]\n",
            " [200 169   0   0  26  14   0   0]\n",
            " [ 18  30   0   0   5   7   0   0]\n",
            " [ 87  37   0   0  11   3   0   0]\n",
            " [ 44  32   0   0   6   3   0   1]\n",
            " [405 223   0   0  36  26   0   1]\n",
            " [ 68  23   0   0   5   6   0   1]\n",
            " [ 92  15   0   0   4   3   0   1]]\n"
          ]
        },
        {
          "metadata": {
            "tags": null
          },
          "name": "stderr",
          "output_type": "stream",
          "text": [
            "Epoch 16: 100%|███████████████████████████████████████████████████████| 8/8 [02:26<00:00, 18.25s/it]\n"
          ]
        },
        {
          "metadata": {
            "tags": null
          },
          "name": "stdout",
          "output_type": "stream",
          "text": [
            "Average Loss =  tensor([14.3031], device='cuda:0', grad_fn=<DivBackward0>)\n"
          ]
        },
        {
          "metadata": {
            "tags": null
          },
          "name": "stderr",
          "output_type": "stream",
          "text": [
            "Validating 16: 100%|██████████████████████████████████████████████████| 2/2 [00:31<00:00, 15.57s/it]\n",
            "/usr/local/lib/python3.10/dist-packages/sklearn/metrics/_classification.py:1344: UndefinedMetricWarning: Precision and F-score are ill-defined and being set to 0.0 in labels with no predicted samples. Use `zero_division` parameter to control this behavior.\n",
            "  _warn_prf(average, modifier, msg_start, len(result))\n",
            "/usr/local/lib/python3.10/dist-packages/sklearn/metrics/_classification.py:1344: UndefinedMetricWarning: Precision and F-score are ill-defined and being set to 0.0 in labels with no predicted samples. Use `zero_division` parameter to control this behavior.\n",
            "  _warn_prf(average, modifier, msg_start, len(result))\n",
            "/usr/local/lib/python3.10/dist-packages/sklearn/metrics/_classification.py:1344: UndefinedMetricWarning: Precision and F-score are ill-defined and being set to 0.0 in labels with no predicted samples. Use `zero_division` parameter to control this behavior.\n",
            "  _warn_prf(average, modifier, msg_start, len(result))\n"
          ]
        },
        {
          "metadata": {
            "tags": null
          },
          "name": "stdout",
          "output_type": "stream",
          "text": [
            "              precision    recall  f1-score   support\n",
            "\n",
            "           0       0.00      0.00      0.00        23\n",
            "           1       0.43      0.09      0.15       409\n",
            "           2       0.11      0.28      0.16        60\n",
            "           3       0.28      0.06      0.10       138\n",
            "           4       0.50      0.01      0.02        86\n",
            "           5       0.46      0.16      0.24       691\n",
            "           6       0.13      0.09      0.10       103\n",
            "           7       0.09      0.84      0.17       115\n",
            "\n",
            "    accuracy                           0.17      1625\n",
            "   macro avg       0.25      0.19      0.12      1625\n",
            "weighted avg       0.37      0.17      0.17      1625\n",
            "\n",
            "Confusion Matrix: \n",
            " [[  0   0   1   0   0   2   0  20]\n",
            " [  0  37  45   7   1  68  16 235]\n",
            " [  0   2  17   0   0  16   3  22]\n",
            " [  0   6   5   8   0  14   7  98]\n",
            " [  0   1  14   3   1  10   5  52]\n",
            " [  0  40  57   8   0 110  27 449]\n",
            " [  0   0   6   2   0  11   9  75]\n",
            " [  0   1   5   1   0   7   4  97]]\n"
          ]
        },
        {
          "metadata": {
            "tags": null
          },
          "name": "stderr",
          "output_type": "stream",
          "text": [
            "Epoch 17: 100%|███████████████████████████████████████████████████████| 8/8 [02:25<00:00, 18.24s/it]\n"
          ]
        },
        {
          "metadata": {
            "tags": null
          },
          "name": "stdout",
          "output_type": "stream",
          "text": [
            "Average Loss =  tensor([14.2740], device='cuda:0', grad_fn=<DivBackward0>)\n"
          ]
        },
        {
          "metadata": {
            "tags": null
          },
          "name": "stderr",
          "output_type": "stream",
          "text": [
            "Validating 17: 100%|██████████████████████████████████████████████████| 2/2 [00:31<00:00, 15.56s/it]\n",
            "/usr/local/lib/python3.10/dist-packages/sklearn/metrics/_classification.py:1344: UndefinedMetricWarning: Precision and F-score are ill-defined and being set to 0.0 in labels with no predicted samples. Use `zero_division` parameter to control this behavior.\n",
            "  _warn_prf(average, modifier, msg_start, len(result))\n",
            "/usr/local/lib/python3.10/dist-packages/sklearn/metrics/_classification.py:1344: UndefinedMetricWarning: Precision and F-score are ill-defined and being set to 0.0 in labels with no predicted samples. Use `zero_division` parameter to control this behavior.\n",
            "  _warn_prf(average, modifier, msg_start, len(result))\n",
            "/usr/local/lib/python3.10/dist-packages/sklearn/metrics/_classification.py:1344: UndefinedMetricWarning: Precision and F-score are ill-defined and being set to 0.0 in labels with no predicted samples. Use `zero_division` parameter to control this behavior.\n",
            "  _warn_prf(average, modifier, msg_start, len(result))\n"
          ]
        },
        {
          "metadata": {
            "tags": null
          },
          "name": "stdout",
          "output_type": "stream",
          "text": [
            "              precision    recall  f1-score   support\n",
            "\n",
            "           0       0.00      0.00      0.00        23\n",
            "           1       0.30      0.67      0.41       409\n",
            "           2       0.00      0.00      0.00        60\n",
            "           3       0.00      0.00      0.00       138\n",
            "           4       0.00      0.00      0.00        86\n",
            "           5       0.00      0.00      0.00       691\n",
            "           6       0.00      0.00      0.00       103\n",
            "           7       0.12      0.70      0.20       115\n",
            "\n",
            "    accuracy                           0.22      1625\n",
            "   macro avg       0.05      0.17      0.08      1625\n",
            "weighted avg       0.08      0.22      0.12      1625\n",
            "\n",
            "Confusion Matrix: \n",
            " [[  0   8   0   0   0   0   0  15]\n",
            " [  0 272   0   0   1   0   0 136]\n",
            " [  0  50   0   0   0   0   0  10]\n",
            " [  0  66   0   0   2   0   0  70]\n",
            " [  0  50   0   0   0   0   0  36]\n",
            " [  0 392   0   0   3   0   0 296]\n",
            " [  0  47   0   0   0   0   0  56]\n",
            " [  0  32   0   1   1   0   0  81]]\n"
          ]
        },
        {
          "metadata": {
            "tags": null
          },
          "name": "stderr",
          "output_type": "stream",
          "text": [
            "Epoch 18: 100%|███████████████████████████████████████████████████████| 8/8 [02:24<00:00, 18.09s/it]\n"
          ]
        },
        {
          "metadata": {
            "tags": null
          },
          "name": "stdout",
          "output_type": "stream",
          "text": [
            "Average Loss =  tensor([14.2401], device='cuda:0', grad_fn=<DivBackward0>)\n"
          ]
        },
        {
          "metadata": {
            "tags": null
          },
          "name": "stderr",
          "output_type": "stream",
          "text": [
            "Validating 18: 100%|██████████████████████████████████████████████████| 2/2 [00:30<00:00, 15.46s/it]\n",
            "/usr/local/lib/python3.10/dist-packages/sklearn/metrics/_classification.py:1344: UndefinedMetricWarning: Precision and F-score are ill-defined and being set to 0.0 in labels with no predicted samples. Use `zero_division` parameter to control this behavior.\n",
            "  _warn_prf(average, modifier, msg_start, len(result))\n",
            "/usr/local/lib/python3.10/dist-packages/sklearn/metrics/_classification.py:1344: UndefinedMetricWarning: Precision and F-score are ill-defined and being set to 0.0 in labels with no predicted samples. Use `zero_division` parameter to control this behavior.\n",
            "  _warn_prf(average, modifier, msg_start, len(result))\n",
            "/usr/local/lib/python3.10/dist-packages/sklearn/metrics/_classification.py:1344: UndefinedMetricWarning: Precision and F-score are ill-defined and being set to 0.0 in labels with no predicted samples. Use `zero_division` parameter to control this behavior.\n",
            "  _warn_prf(average, modifier, msg_start, len(result))\n"
          ]
        },
        {
          "metadata": {
            "tags": null
          },
          "name": "stdout",
          "output_type": "stream",
          "text": [
            "              precision    recall  f1-score   support\n",
            "\n",
            "           0       0.00      0.00      0.00        23\n",
            "           1       0.42      0.05      0.08       409\n",
            "           2       0.11      0.50      0.17        60\n",
            "           3       0.09      0.02      0.04       138\n",
            "           4       0.12      0.03      0.05        86\n",
            "           5       0.46      0.43      0.44       691\n",
            "           6       0.17      0.01      0.02       103\n",
            "           7       0.12      0.62      0.20       115\n",
            "\n",
            "    accuracy                           0.26      1625\n",
            "   macro avg       0.19      0.21      0.13      1625\n",
            "weighted avg       0.34      0.26      0.24      1625\n",
            "\n",
            "Confusion Matrix: \n",
            " [[  0   0   2   0   0   8   1  12]\n",
            " [  0  19  87   8  10 167   1 117]\n",
            " [  0   1  30   2   0  24   0   3]\n",
            " [  0   2   7   3   4  55   2  65]\n",
            " [  0   0  17   2   3  33   0  31]\n",
            " [  0  23 116  13   6 294   1 238]\n",
            " [  0   0  16   3   1  28   1  54]\n",
            " [  0   0   8   1   0  35   0  71]]\n"
          ]
        },
        {
          "metadata": {
            "tags": null
          },
          "name": "stderr",
          "output_type": "stream",
          "text": [
            "Epoch 19: 100%|███████████████████████████████████████████████████████| 8/8 [02:25<00:00, 18.25s/it]\n"
          ]
        },
        {
          "metadata": {
            "tags": null
          },
          "name": "stdout",
          "output_type": "stream",
          "text": [
            "Average Loss =  tensor([14.1881], device='cuda:0', grad_fn=<DivBackward0>)\n"
          ]
        },
        {
          "metadata": {
            "tags": null
          },
          "name": "stderr",
          "output_type": "stream",
          "text": [
            "Validating 19: 100%|██████████████████████████████████████████████████| 2/2 [00:32<00:00, 16.31s/it]\n",
            "/usr/local/lib/python3.10/dist-packages/sklearn/metrics/_classification.py:1344: UndefinedMetricWarning: Precision and F-score are ill-defined and being set to 0.0 in labels with no predicted samples. Use `zero_division` parameter to control this behavior.\n",
            "  _warn_prf(average, modifier, msg_start, len(result))\n",
            "/usr/local/lib/python3.10/dist-packages/sklearn/metrics/_classification.py:1344: UndefinedMetricWarning: Precision and F-score are ill-defined and being set to 0.0 in labels with no predicted samples. Use `zero_division` parameter to control this behavior.\n",
            "  _warn_prf(average, modifier, msg_start, len(result))\n",
            "/usr/local/lib/python3.10/dist-packages/sklearn/metrics/_classification.py:1344: UndefinedMetricWarning: Precision and F-score are ill-defined and being set to 0.0 in labels with no predicted samples. Use `zero_division` parameter to control this behavior.\n",
            "  _warn_prf(average, modifier, msg_start, len(result))\n"
          ]
        },
        {
          "metadata": {
            "tags": null
          },
          "name": "stdout",
          "output_type": "stream",
          "text": [
            "              precision    recall  f1-score   support\n",
            "\n",
            "           0       0.00      0.00      0.00        23\n",
            "           1       0.36      0.18      0.24       409\n",
            "           2       0.07      0.80      0.14        60\n",
            "           3       0.18      0.06      0.09       138\n",
            "           4       0.15      0.02      0.04        86\n",
            "           5       0.00      0.00      0.00       691\n",
            "           6       0.08      0.26      0.13       103\n",
            "           7       0.15      0.50      0.23       115\n",
            "\n",
            "    accuracy                           0.13      1625\n",
            "   macro avg       0.12      0.23      0.11      1625\n",
            "weighted avg       0.13      0.13      0.10      1625\n",
            "\n",
            "Confusion Matrix: \n",
            " [[  0   2   5   1   0   0   6   9]\n",
            " [  0  75 183   7   4   0  71  69]\n",
            " [  0   2  48   0   0   0   9   1]\n",
            " [  0  13  42   8   2   0  28  45]\n",
            " [  0   6  38   2   2   0  16  22]\n",
            " [  0  93 284  18   4   0 139 153]\n",
            " [  0  10  31   7   1   0  27  27]\n",
            " [  0   9  20   2   0   0  27  57]]\n"
          ]
        },
        {
          "metadata": {
            "tags": null
          },
          "name": "stderr",
          "output_type": "stream",
          "text": [
            "Epoch 20: 100%|███████████████████████████████████████████████████████| 8/8 [02:25<00:00, 18.14s/it]\n"
          ]
        },
        {
          "metadata": {
            "tags": null
          },
          "name": "stdout",
          "output_type": "stream",
          "text": [
            "Average Loss =  tensor([14.2725], device='cuda:0', grad_fn=<DivBackward0>)\n"
          ]
        },
        {
          "metadata": {
            "tags": null
          },
          "name": "stderr",
          "output_type": "stream",
          "text": [
            "Validating 20: 100%|██████████████████████████████████████████████████| 2/2 [00:30<00:00, 15.45s/it]\n",
            "/usr/local/lib/python3.10/dist-packages/sklearn/metrics/_classification.py:1344: UndefinedMetricWarning: Precision and F-score are ill-defined and being set to 0.0 in labels with no predicted samples. Use `zero_division` parameter to control this behavior.\n",
            "  _warn_prf(average, modifier, msg_start, len(result))\n",
            "/usr/local/lib/python3.10/dist-packages/sklearn/metrics/_classification.py:1344: UndefinedMetricWarning: Precision and F-score are ill-defined and being set to 0.0 in labels with no predicted samples. Use `zero_division` parameter to control this behavior.\n",
            "  _warn_prf(average, modifier, msg_start, len(result))\n",
            "/usr/local/lib/python3.10/dist-packages/sklearn/metrics/_classification.py:1344: UndefinedMetricWarning: Precision and F-score are ill-defined and being set to 0.0 in labels with no predicted samples. Use `zero_division` parameter to control this behavior.\n",
            "  _warn_prf(average, modifier, msg_start, len(result))\n"
          ]
        },
        {
          "metadata": {
            "tags": null
          },
          "name": "stdout",
          "output_type": "stream",
          "text": [
            "              precision    recall  f1-score   support\n",
            "\n",
            "           0       0.00      0.00      0.00        23\n",
            "           1       0.42      0.04      0.08       409\n",
            "           2       0.05      0.90      0.10        60\n",
            "           3       0.00      0.00      0.00       138\n",
            "           4       0.00      0.00      0.00        86\n",
            "           5       0.43      0.12      0.18       691\n",
            "           6       0.12      0.11      0.11       103\n",
            "           7       0.16      0.39      0.23       115\n",
            "\n",
            "    accuracy                           0.13      1625\n",
            "   macro avg       0.15      0.19      0.09      1625\n",
            "weighted avg       0.31      0.13      0.12      1625\n",
            "\n",
            "Confusion Matrix: \n",
            " [[  0   0  11   0   0   5   1   6]\n",
            " [  0  17 273   0   1  43  21  54]\n",
            " [  0   1  54   0   0   1   3   1]\n",
            " [  0   4  65   0   0  18  16  35]\n",
            " [  0   1  56   0   0   7   4  18]\n",
            " [  0  17 463   0   0  81  31  99]\n",
            " [  0   0  55   0   0  12  11  25]\n",
            " [  0   0  44   0   0  22   4  45]]\n"
          ]
        },
        {
          "metadata": {
            "tags": null
          },
          "name": "stderr",
          "output_type": "stream",
          "text": [
            "Epoch 21: 100%|███████████████████████████████████████████████████████| 8/8 [02:25<00:00, 18.15s/it]\n"
          ]
        },
        {
          "metadata": {
            "tags": null
          },
          "name": "stdout",
          "output_type": "stream",
          "text": [
            "Average Loss =  tensor([14.2765], device='cuda:0', grad_fn=<DivBackward0>)\n"
          ]
        },
        {
          "metadata": {
            "tags": null
          },
          "name": "stderr",
          "output_type": "stream",
          "text": [
            "Validating 21: 100%|██████████████████████████████████████████████████| 2/2 [00:31<00:00, 15.62s/it]\n",
            "/usr/local/lib/python3.10/dist-packages/sklearn/metrics/_classification.py:1344: UndefinedMetricWarning: Precision and F-score are ill-defined and being set to 0.0 in labels with no predicted samples. Use `zero_division` parameter to control this behavior.\n",
            "  _warn_prf(average, modifier, msg_start, len(result))\n",
            "/usr/local/lib/python3.10/dist-packages/sklearn/metrics/_classification.py:1344: UndefinedMetricWarning: Precision and F-score are ill-defined and being set to 0.0 in labels with no predicted samples. Use `zero_division` parameter to control this behavior.\n",
            "  _warn_prf(average, modifier, msg_start, len(result))\n",
            "/usr/local/lib/python3.10/dist-packages/sklearn/metrics/_classification.py:1344: UndefinedMetricWarning: Precision and F-score are ill-defined and being set to 0.0 in labels with no predicted samples. Use `zero_division` parameter to control this behavior.\n",
            "  _warn_prf(average, modifier, msg_start, len(result))\n"
          ]
        },
        {
          "metadata": {
            "tags": null
          },
          "name": "stdout",
          "output_type": "stream",
          "text": [
            "              precision    recall  f1-score   support\n",
            "\n",
            "           0       0.00      0.00      0.00        23\n",
            "           1       0.50      0.07      0.12       409\n",
            "           2       0.12      0.62      0.20        60\n",
            "           3       0.00      0.00      0.00       138\n",
            "           4       0.00      0.00      0.00        86\n",
            "           5       0.46      0.07      0.12       691\n",
            "           6       0.06      0.20      0.09       103\n",
            "           7       0.11      0.76      0.19       115\n",
            "\n",
            "    accuracy                           0.14      1625\n",
            "   macro avg       0.16      0.21      0.09      1625\n",
            "weighted avg       0.34      0.14      0.11      1625\n",
            "\n",
            "Confusion Matrix: \n",
            " [[  0   0   1   0   0   2   2  18]\n",
            " [  0  28  98   0   0  26 102 155]\n",
            " [  0   1  37   0   0   6   7   9]\n",
            " [  0   3  12   0   0   3  38  82]\n",
            " [  0   0  15   0   0  10  19  42]\n",
            " [  0  24 126   0   0  48 144 349]\n",
            " [  0   0  12   0   0   6  21  64]\n",
            " [  0   0   7   0   0   3  18  87]]\n"
          ]
        },
        {
          "metadata": {
            "tags": null
          },
          "name": "stderr",
          "output_type": "stream",
          "text": [
            "Epoch 22: 100%|███████████████████████████████████████████████████████| 8/8 [02:25<00:00, 18.20s/it]\n"
          ]
        },
        {
          "metadata": {
            "tags": null
          },
          "name": "stdout",
          "output_type": "stream",
          "text": [
            "Average Loss =  tensor([14.1238], device='cuda:0', grad_fn=<DivBackward0>)\n"
          ]
        },
        {
          "metadata": {
            "tags": null
          },
          "name": "stderr",
          "output_type": "stream",
          "text": [
            "Validating 22: 100%|██████████████████████████████████████████████████| 2/2 [00:32<00:00, 16.05s/it]\n",
            "/usr/local/lib/python3.10/dist-packages/sklearn/metrics/_classification.py:1344: UndefinedMetricWarning: Precision and F-score are ill-defined and being set to 0.0 in labels with no predicted samples. Use `zero_division` parameter to control this behavior.\n",
            "  _warn_prf(average, modifier, msg_start, len(result))\n",
            "/usr/local/lib/python3.10/dist-packages/sklearn/metrics/_classification.py:1344: UndefinedMetricWarning: Precision and F-score are ill-defined and being set to 0.0 in labels with no predicted samples. Use `zero_division` parameter to control this behavior.\n",
            "  _warn_prf(average, modifier, msg_start, len(result))\n",
            "/usr/local/lib/python3.10/dist-packages/sklearn/metrics/_classification.py:1344: UndefinedMetricWarning: Precision and F-score are ill-defined and being set to 0.0 in labels with no predicted samples. Use `zero_division` parameter to control this behavior.\n",
            "  _warn_prf(average, modifier, msg_start, len(result))\n"
          ]
        },
        {
          "metadata": {
            "tags": null
          },
          "name": "stdout",
          "output_type": "stream",
          "text": [
            "              precision    recall  f1-score   support\n",
            "\n",
            "           0       0.00      0.00      0.00        23\n",
            "           1       0.35      0.28      0.31       409\n",
            "           2       0.11      0.75      0.19        60\n",
            "           3       0.00      0.00      0.00       138\n",
            "           4       0.33      0.01      0.02        86\n",
            "           5       0.00      0.00      0.00       691\n",
            "           6       0.05      0.04      0.04       103\n",
            "           7       0.11      0.79      0.20       115\n",
            "\n",
            "    accuracy                           0.16      1625\n",
            "   macro avg       0.12      0.23      0.10      1625\n",
            "weighted avg       0.12      0.16      0.10      1625\n",
            "\n",
            "Confusion Matrix: \n",
            " [[  0   4   3   0   0   0   0  16]\n",
            " [  0 115 122   0   0   0  20 152]\n",
            " [  0   7  45   0   0   0   1   7]\n",
            " [  0  30  18   0   0   0   9  81]\n",
            " [  0  10  29   0   1   0   5  41]\n",
            " [  0 144 174   0   2   0  35 336]\n",
            " [  0  12  18   0   0   0   4  69]\n",
            " [  0   9  11   0   0   0   4  91]]\n"
          ]
        },
        {
          "metadata": {
            "tags": null
          },
          "name": "stderr",
          "output_type": "stream",
          "text": [
            "Epoch 23: 100%|███████████████████████████████████████████████████████| 8/8 [02:26<00:00, 18.33s/it]\n"
          ]
        },
        {
          "metadata": {
            "tags": null
          },
          "name": "stdout",
          "output_type": "stream",
          "text": [
            "Average Loss =  tensor([14.0879], device='cuda:0', grad_fn=<DivBackward0>)\n"
          ]
        },
        {
          "metadata": {
            "tags": null
          },
          "name": "stderr",
          "output_type": "stream",
          "text": [
            "Validating 23: 100%|██████████████████████████████████████████████████| 2/2 [00:31<00:00, 15.75s/it]\n",
            "/usr/local/lib/python3.10/dist-packages/sklearn/metrics/_classification.py:1344: UndefinedMetricWarning: Precision and F-score are ill-defined and being set to 0.0 in labels with no predicted samples. Use `zero_division` parameter to control this behavior.\n",
            "  _warn_prf(average, modifier, msg_start, len(result))\n",
            "/usr/local/lib/python3.10/dist-packages/sklearn/metrics/_classification.py:1344: UndefinedMetricWarning: Precision and F-score are ill-defined and being set to 0.0 in labels with no predicted samples. Use `zero_division` parameter to control this behavior.\n",
            "  _warn_prf(average, modifier, msg_start, len(result))\n",
            "/usr/local/lib/python3.10/dist-packages/sklearn/metrics/_classification.py:1344: UndefinedMetricWarning: Precision and F-score are ill-defined and being set to 0.0 in labels with no predicted samples. Use `zero_division` parameter to control this behavior.\n",
            "  _warn_prf(average, modifier, msg_start, len(result))\n"
          ]
        },
        {
          "metadata": {
            "tags": null
          },
          "name": "stdout",
          "output_type": "stream",
          "text": [
            "              precision    recall  f1-score   support\n",
            "\n",
            "           0       0.00      0.00      0.00        23\n",
            "           1       0.38      0.12      0.19       409\n",
            "           2       0.09      0.82      0.16        60\n",
            "           3       0.10      0.37      0.16       138\n",
            "           4       0.13      0.02      0.04        86\n",
            "           5       0.46      0.01      0.02       691\n",
            "           6       0.14      0.07      0.09       103\n",
            "           7       0.16      0.47      0.23       115\n",
            "\n",
            "    accuracy                           0.13      1625\n",
            "   macro avg       0.18      0.23      0.11      1625\n",
            "weighted avg       0.33      0.13      0.10      1625\n",
            "\n",
            "Confusion Matrix: \n",
            " [[  0   0   3   9   0   0   0  11]\n",
            " [  0  50 170 112   5   4  14  54]\n",
            " [  0   2  49   5   0   0   1   3]\n",
            " [  0   7  32  51   1   1   5  41]\n",
            " [  0   6  35  17   2   0   1  25]\n",
            " [  0  55 240 236   7   6  18 129]\n",
            " [  0   7  21  37   0   1   7  30]\n",
            " [  0   3  12  41   0   1   4  54]]\n"
          ]
        },
        {
          "metadata": {
            "tags": null
          },
          "name": "stderr",
          "output_type": "stream",
          "text": [
            "Epoch 24: 100%|███████████████████████████████████████████████████████| 8/8 [02:34<00:00, 19.28s/it]\n"
          ]
        },
        {
          "metadata": {
            "tags": null
          },
          "name": "stdout",
          "output_type": "stream",
          "text": [
            "Average Loss =  tensor([14.0778], device='cuda:0', grad_fn=<DivBackward0>)\n"
          ]
        },
        {
          "metadata": {
            "tags": null
          },
          "name": "stderr",
          "output_type": "stream",
          "text": [
            "Validating 24: 100%|██████████████████████████████████████████████████| 2/2 [00:30<00:00, 15.24s/it]\n"
          ]
        },
        {
          "metadata": {
            "tags": null
          },
          "name": "stdout",
          "output_type": "stream",
          "text": [
            "              precision    recall  f1-score   support\n",
            "\n",
            "           0       0.02      0.22      0.03        23\n",
            "           1       0.35      0.21      0.26       409\n",
            "           2       0.12      0.60      0.21        60\n",
            "           3       0.10      0.02      0.04       138\n",
            "           4       0.08      0.08      0.08        86\n",
            "           5       0.45      0.14      0.21       691\n",
            "           6       0.00      0.00      0.00       103\n",
            "           7       0.15      0.56      0.23       115\n",
            "\n",
            "    accuracy                           0.18      1625\n",
            "   macro avg       0.16      0.23      0.13      1625\n",
            "weighted avg       0.31      0.18      0.19      1625\n",
            "\n",
            "Confusion Matrix: \n",
            " [[  5   0   1   0   0   3   0  14]\n",
            " [ 59  87  91   7  27  64   0  74]\n",
            " [  4   6  36   2   0  10   0   2]\n",
            " [ 25  19  10   3  17  13   0  51]\n",
            " [ 17  11  13   1   7  12   0  25]\n",
            " [150 112 122  11  28  95   1 172]\n",
            " [ 26   8  12   4   7  10   0  36]\n",
            " [ 30   5   5   2   3   6   0  64]]\n"
          ]
        },
        {
          "metadata": {
            "tags": null
          },
          "name": "stderr",
          "output_type": "stream",
          "text": [
            "Epoch 25: 100%|███████████████████████████████████████████████████████| 8/8 [02:25<00:00, 18.21s/it]\n"
          ]
        },
        {
          "metadata": {
            "tags": null
          },
          "name": "stdout",
          "output_type": "stream",
          "text": [
            "Average Loss =  tensor([13.9692], device='cuda:0', grad_fn=<DivBackward0>)\n"
          ]
        },
        {
          "metadata": {
            "tags": null
          },
          "name": "stderr",
          "output_type": "stream",
          "text": [
            "Validating 25: 100%|██████████████████████████████████████████████████| 2/2 [00:30<00:00, 15.36s/it]\n",
            "/usr/local/lib/python3.10/dist-packages/sklearn/metrics/_classification.py:1344: UndefinedMetricWarning: Precision and F-score are ill-defined and being set to 0.0 in labels with no predicted samples. Use `zero_division` parameter to control this behavior.\n",
            "  _warn_prf(average, modifier, msg_start, len(result))\n",
            "/usr/local/lib/python3.10/dist-packages/sklearn/metrics/_classification.py:1344: UndefinedMetricWarning: Precision and F-score are ill-defined and being set to 0.0 in labels with no predicted samples. Use `zero_division` parameter to control this behavior.\n",
            "  _warn_prf(average, modifier, msg_start, len(result))\n",
            "/usr/local/lib/python3.10/dist-packages/sklearn/metrics/_classification.py:1344: UndefinedMetricWarning: Precision and F-score are ill-defined and being set to 0.0 in labels with no predicted samples. Use `zero_division` parameter to control this behavior.\n",
            "  _warn_prf(average, modifier, msg_start, len(result))\n"
          ]
        },
        {
          "metadata": {
            "tags": null
          },
          "name": "stdout",
          "output_type": "stream",
          "text": [
            "              precision    recall  f1-score   support\n",
            "\n",
            "           0       0.00      0.00      0.00        23\n",
            "           1       0.28      0.18      0.22       409\n",
            "           2       0.08      0.87      0.14        60\n",
            "           3       0.15      0.09      0.11       138\n",
            "           4       0.06      0.07      0.06        86\n",
            "           5       0.00      0.00      0.00       691\n",
            "           6       0.11      0.07      0.08       103\n",
            "           7       0.18      0.67      0.28       115\n",
            "\n",
            "    accuracy                           0.14      1625\n",
            "   macro avg       0.11      0.24      0.11      1625\n",
            "weighted avg       0.11      0.14      0.10      1625\n",
            "\n",
            "Confusion Matrix: \n",
            " [[  0   3   4   0   1   0   2  13]\n",
            " [  0  74 208  14  31   0  17  65]\n",
            " [  0   5  52   1   0   0   1   1]\n",
            " [  0  18  37  12  11   0   7  53]\n",
            " [  0  13  40   5   6   0   2  20]\n",
            " [  0 133 290  33  48   0  23 164]\n",
            " [  0  11  26   9   5   2   7  43]\n",
            " [  0  10  13   5   5   0   5  77]]\n"
          ]
        },
        {
          "metadata": {
            "tags": null
          },
          "name": "stderr",
          "output_type": "stream",
          "text": [
            "Epoch 26: 100%|███████████████████████████████████████████████████████| 8/8 [02:21<00:00, 17.73s/it]\n"
          ]
        },
        {
          "metadata": {
            "tags": null
          },
          "name": "stdout",
          "output_type": "stream",
          "text": [
            "Average Loss =  tensor([13.9764], device='cuda:0', grad_fn=<DivBackward0>)\n"
          ]
        },
        {
          "metadata": {
            "tags": null
          },
          "name": "stderr",
          "output_type": "stream",
          "text": [
            "Validating 26: 100%|██████████████████████████████████████████████████| 2/2 [00:30<00:00, 15.29s/it]\n"
          ]
        },
        {
          "metadata": {
            "tags": null
          },
          "name": "stdout",
          "output_type": "stream",
          "text": [
            "              precision    recall  f1-score   support\n",
            "\n",
            "           0       0.04      0.30      0.07        23\n",
            "           1       0.41      0.14      0.21       409\n",
            "           2       0.12      0.77      0.20        60\n",
            "           3       0.12      0.24      0.16       138\n",
            "           4       0.08      0.06      0.07        86\n",
            "           5       0.50      0.16      0.24       691\n",
            "           6       0.12      0.14      0.13       103\n",
            "           7       0.26      0.47      0.33       115\n",
            "\n",
            "    accuracy                           0.20      1625\n",
            "   macro avg       0.20      0.28      0.18      1625\n",
            "weighted avg       0.36      0.20      0.21      1625\n",
            "\n",
            "Confusion Matrix: \n",
            " [[  7   0   0   5   1   1   1   8]\n",
            " [ 29  59 130  58  16  76  23  18]\n",
            " [  0   1  46   7   1   4   0   1]\n",
            " [ 23  10  14  33   4  11  12  31]\n",
            " [  7   9  20  25   5   9   4   7]\n",
            " [ 80  60 169 124  31 110  49  68]\n",
            " [ 23   5  14  16   3   7  14  21]\n",
            " [ 22   1   7  15   0   4  12  54]]\n"
          ]
        },
        {
          "metadata": {
            "tags": null
          },
          "name": "stderr",
          "output_type": "stream",
          "text": [
            "Epoch 27: 100%|███████████████████████████████████████████████████████| 8/8 [02:24<00:00, 18.08s/it]\n"
          ]
        },
        {
          "metadata": {
            "tags": null
          },
          "name": "stdout",
          "output_type": "stream",
          "text": [
            "Average Loss =  tensor([13.9322], device='cuda:0', grad_fn=<DivBackward0>)\n"
          ]
        },
        {
          "metadata": {
            "tags": null
          },
          "name": "stderr",
          "output_type": "stream",
          "text": [
            "Validating 27: 100%|██████████████████████████████████████████████████| 2/2 [00:31<00:00, 15.53s/it]\n"
          ]
        },
        {
          "metadata": {
            "tags": null
          },
          "name": "stdout",
          "output_type": "stream",
          "text": [
            "              precision    recall  f1-score   support\n",
            "\n",
            "           0       0.05      0.35      0.09        23\n",
            "           1       0.42      0.18      0.26       409\n",
            "           2       0.09      0.87      0.17        60\n",
            "           3       0.17      0.22      0.19       138\n",
            "           4       0.11      0.09      0.10        86\n",
            "           5       0.52      0.17      0.26       691\n",
            "           6       0.12      0.16      0.13       103\n",
            "           7       0.39      0.37      0.38       115\n",
            "\n",
            "    accuracy                           0.21      1625\n",
            "   macro avg       0.23      0.30      0.20      1625\n",
            "weighted avg       0.39      0.21      0.24      1625\n",
            "\n",
            "Confusion Matrix: \n",
            " [[  8   0   1   4   2   1   1   6]\n",
            " [ 20  75 184  27  12  62  25   4]\n",
            " [  0   2  52   2   0   2   1   1]\n",
            " [ 24   9  18  30   7  17  15  18]\n",
            " [ 10   7  30   9   8   9   8   5]\n",
            " [ 53  80 252  76  37 117  56  20]\n",
            " [ 19   3  14  18   7  14  16  12]\n",
            " [ 28   1  10  13   3   1  16  43]]\n"
          ]
        },
        {
          "metadata": {
            "tags": null
          },
          "name": "stderr",
          "output_type": "stream",
          "text": [
            "Epoch 28: 100%|███████████████████████████████████████████████████████| 8/8 [02:26<00:00, 18.26s/it]\n"
          ]
        },
        {
          "metadata": {
            "tags": null
          },
          "name": "stdout",
          "output_type": "stream",
          "text": [
            "Average Loss =  tensor([13.8411], device='cuda:0', grad_fn=<DivBackward0>)\n"
          ]
        },
        {
          "metadata": {
            "tags": null
          },
          "name": "stderr",
          "output_type": "stream",
          "text": [
            "Validating 28: 100%|██████████████████████████████████████████████████| 2/2 [00:30<00:00, 15.44s/it]\n",
            "/usr/local/lib/python3.10/dist-packages/sklearn/metrics/_classification.py:1344: UndefinedMetricWarning: Precision and F-score are ill-defined and being set to 0.0 in labels with no predicted samples. Use `zero_division` parameter to control this behavior.\n",
            "  _warn_prf(average, modifier, msg_start, len(result))\n",
            "/usr/local/lib/python3.10/dist-packages/sklearn/metrics/_classification.py:1344: UndefinedMetricWarning: Precision and F-score are ill-defined and being set to 0.0 in labels with no predicted samples. Use `zero_division` parameter to control this behavior.\n",
            "  _warn_prf(average, modifier, msg_start, len(result))\n",
            "/usr/local/lib/python3.10/dist-packages/sklearn/metrics/_classification.py:1344: UndefinedMetricWarning: Precision and F-score are ill-defined and being set to 0.0 in labels with no predicted samples. Use `zero_division` parameter to control this behavior.\n",
            "  _warn_prf(average, modifier, msg_start, len(result))\n"
          ]
        },
        {
          "metadata": {
            "tags": null
          },
          "name": "stdout",
          "output_type": "stream",
          "text": [
            "              precision    recall  f1-score   support\n",
            "\n",
            "           0       0.00      0.00      0.00        23\n",
            "           1       0.49      0.29      0.36       409\n",
            "           2       0.15      0.78      0.25        60\n",
            "           3       0.25      0.10      0.14       138\n",
            "           4       0.08      0.22      0.12        86\n",
            "           5       0.65      0.05      0.09       691\n",
            "           6       0.07      0.06      0.06       103\n",
            "           7       0.16      0.89      0.27       115\n",
            "\n",
            "    accuracy                           0.21      1625\n",
            "   macro avg       0.23      0.30      0.16      1625\n",
            "weighted avg       0.45      0.21      0.18      1625\n",
            "\n",
            "Confusion Matrix: \n",
            " [[  0   1   0   0   0   0   0  22]\n",
            " [  0 117 116   7  61  14  19  75]\n",
            " [  0   4  47   1   5   0   0   3]\n",
            " [  0   4   2  14  15   1   7  95]\n",
            " [  0   6  14   2  19   2   5  38]\n",
            " [  0 102 121  23 117  34  55 239]\n",
            " [  0   5   7   6   5   1   6  73]\n",
            " [  0   1   2   3   7   0   0 102]]\n"
          ]
        },
        {
          "metadata": {
            "tags": null
          },
          "name": "stderr",
          "output_type": "stream",
          "text": [
            "Epoch 29: 100%|███████████████████████████████████████████████████████| 8/8 [02:25<00:00, 18.13s/it]\n"
          ]
        },
        {
          "metadata": {
            "tags": null
          },
          "name": "stdout",
          "output_type": "stream",
          "text": [
            "Average Loss =  tensor([13.6338], device='cuda:0', grad_fn=<DivBackward0>)\n"
          ]
        },
        {
          "metadata": {
            "tags": null
          },
          "name": "stderr",
          "output_type": "stream",
          "text": [
            "Validating 29: 100%|██████████████████████████████████████████████████| 2/2 [00:31<00:00, 15.54s/it]\n",
            "/usr/local/lib/python3.10/dist-packages/sklearn/metrics/_classification.py:1344: UndefinedMetricWarning: Precision and F-score are ill-defined and being set to 0.0 in labels with no predicted samples. Use `zero_division` parameter to control this behavior.\n",
            "  _warn_prf(average, modifier, msg_start, len(result))\n",
            "/usr/local/lib/python3.10/dist-packages/sklearn/metrics/_classification.py:1344: UndefinedMetricWarning: Precision and F-score are ill-defined and being set to 0.0 in labels with no predicted samples. Use `zero_division` parameter to control this behavior.\n",
            "  _warn_prf(average, modifier, msg_start, len(result))\n",
            "/usr/local/lib/python3.10/dist-packages/sklearn/metrics/_classification.py:1344: UndefinedMetricWarning: Precision and F-score are ill-defined and being set to 0.0 in labels with no predicted samples. Use `zero_division` parameter to control this behavior.\n",
            "  _warn_prf(average, modifier, msg_start, len(result))\n"
          ]
        },
        {
          "metadata": {
            "tags": null
          },
          "name": "stdout",
          "output_type": "stream",
          "text": [
            "              precision    recall  f1-score   support\n",
            "\n",
            "           0       0.00      0.00      0.00        23\n",
            "           1       0.26      0.53      0.35       409\n",
            "           2       0.09      0.83      0.16        60\n",
            "           3       0.34      0.09      0.15       138\n",
            "           4       0.04      0.01      0.02        86\n",
            "           5       0.12      0.01      0.01       691\n",
            "           6       0.08      0.04      0.05       103\n",
            "           7       0.56      0.32      0.41       115\n",
            "\n",
            "    accuracy                           0.20      1625\n",
            "   macro avg       0.19      0.23      0.14      1625\n",
            "weighted avg       0.20      0.20      0.14      1625\n",
            "\n",
            "Confusion Matrix: \n",
            " [[  0   7   0   1   1   3   1  10]\n",
            " [  0 218 182   1   0   0   6   2]\n",
            " [  0   9  50   0   0   1   0   0]\n",
            " [  0  79  18  13   7   5  10   6]\n",
            " [  0  53  24   1   1   3   4   0]\n",
            " [  0 378 275   8   9   4  14   3]\n",
            " [  0  67  12   4   2   6   4   8]\n",
            " [  0  36   3  10   7  11  11  37]]\n"
          ]
        },
        {
          "metadata": {
            "tags": null
          },
          "name": "stderr",
          "output_type": "stream",
          "text": [
            "Epoch 30: 100%|███████████████████████████████████████████████████████| 8/8 [02:24<00:00, 18.08s/it]\n"
          ]
        },
        {
          "metadata": {
            "tags": null
          },
          "name": "stdout",
          "output_type": "stream",
          "text": [
            "Average Loss =  tensor([13.9556], device='cuda:0', grad_fn=<DivBackward0>)\n"
          ]
        },
        {
          "metadata": {
            "tags": null
          },
          "name": "stderr",
          "output_type": "stream",
          "text": [
            "Validating 30: 100%|██████████████████████████████████████████████████| 2/2 [00:31<00:00, 15.52s/it]\n",
            "/usr/local/lib/python3.10/dist-packages/sklearn/metrics/_classification.py:1344: UndefinedMetricWarning: Precision and F-score are ill-defined and being set to 0.0 in labels with no predicted samples. Use `zero_division` parameter to control this behavior.\n",
            "  _warn_prf(average, modifier, msg_start, len(result))\n",
            "/usr/local/lib/python3.10/dist-packages/sklearn/metrics/_classification.py:1344: UndefinedMetricWarning: Precision and F-score are ill-defined and being set to 0.0 in labels with no predicted samples. Use `zero_division` parameter to control this behavior.\n",
            "  _warn_prf(average, modifier, msg_start, len(result))\n",
            "/usr/local/lib/python3.10/dist-packages/sklearn/metrics/_classification.py:1344: UndefinedMetricWarning: Precision and F-score are ill-defined and being set to 0.0 in labels with no predicted samples. Use `zero_division` parameter to control this behavior.\n",
            "  _warn_prf(average, modifier, msg_start, len(result))\n"
          ]
        },
        {
          "metadata": {
            "tags": null
          },
          "name": "stdout",
          "output_type": "stream",
          "text": [
            "              precision    recall  f1-score   support\n",
            "\n",
            "           0       0.00      0.00      0.00        23\n",
            "           1       0.19      0.10      0.13       409\n",
            "           2       0.05      0.98      0.09        60\n",
            "           3       0.21      0.04      0.07       138\n",
            "           4       0.01      0.01      0.01        86\n",
            "           5       0.17      0.00      0.00       691\n",
            "           6       0.17      0.02      0.03       103\n",
            "           7       0.75      0.03      0.05       115\n",
            "\n",
            "    accuracy                           0.07      1625\n",
            "   macro avg       0.19      0.15      0.05      1625\n",
            "weighted avg       0.20      0.07      0.05      1625\n",
            "\n",
            "Confusion Matrix: \n",
            " [[  0   4   3   6  10   0   0   0]\n",
            " [  0  41 359   0   9   0   0   0]\n",
            " [  0   1  59   0   0   0   0   0]\n",
            " [  0  33  79   6  18   0   2   0]\n",
            " [  0  13  72   0   1   0   0   0]\n",
            " [  0  78 589   0  23   1   0   0]\n",
            " [  0  28  53   2  17   0   2   1]\n",
            " [  0  15  26  15  43   5   8   3]]\n"
          ]
        },
        {
          "metadata": {
            "tags": null
          },
          "name": "stderr",
          "output_type": "stream",
          "text": [
            "Epoch 31: 100%|███████████████████████████████████████████████████████| 8/8 [02:26<00:00, 18.32s/it]\n"
          ]
        },
        {
          "metadata": {
            "tags": null
          },
          "name": "stdout",
          "output_type": "stream",
          "text": [
            "Average Loss =  tensor([14.0269], device='cuda:0', grad_fn=<DivBackward0>)\n"
          ]
        },
        {
          "metadata": {
            "tags": null
          },
          "name": "stderr",
          "output_type": "stream",
          "text": [
            "Validating 31: 100%|██████████████████████████████████████████████████| 2/2 [00:30<00:00, 15.34s/it]\n",
            "/usr/local/lib/python3.10/dist-packages/sklearn/metrics/_classification.py:1344: UndefinedMetricWarning: Precision and F-score are ill-defined and being set to 0.0 in labels with no predicted samples. Use `zero_division` parameter to control this behavior.\n",
            "  _warn_prf(average, modifier, msg_start, len(result))\n",
            "/usr/local/lib/python3.10/dist-packages/sklearn/metrics/_classification.py:1344: UndefinedMetricWarning: Precision and F-score are ill-defined and being set to 0.0 in labels with no predicted samples. Use `zero_division` parameter to control this behavior.\n",
            "  _warn_prf(average, modifier, msg_start, len(result))\n",
            "/usr/local/lib/python3.10/dist-packages/sklearn/metrics/_classification.py:1344: UndefinedMetricWarning: Precision and F-score are ill-defined and being set to 0.0 in labels with no predicted samples. Use `zero_division` parameter to control this behavior.\n",
            "  _warn_prf(average, modifier, msg_start, len(result))\n"
          ]
        },
        {
          "metadata": {
            "tags": null
          },
          "name": "stdout",
          "output_type": "stream",
          "text": [
            "              precision    recall  f1-score   support\n",
            "\n",
            "           0       0.00      0.00      0.00        23\n",
            "           1       0.56      0.27      0.37       409\n",
            "           2       0.42      0.40      0.41        60\n",
            "           3       0.09      0.06      0.07       138\n",
            "           4       0.07      0.29      0.11        86\n",
            "           5       0.50      0.01      0.01       691\n",
            "           6       0.06      0.15      0.08       103\n",
            "           7       0.17      0.96      0.29       115\n",
            "\n",
            "    accuracy                           0.18      1625\n",
            "   macro avg       0.23      0.27      0.17      1625\n",
            "weighted avg       0.40      0.18      0.15      1625\n",
            "\n",
            "Confusion Matrix: \n",
            " [[  0   0   0   0   0   0   1  22]\n",
            " [  0 112  14  17 128   3  81  54]\n",
            " [  0  14  24   0  19   0   0   3]\n",
            " [  0   0   0   8   8   0   8 114]\n",
            " [  0   2   0   7  25   1  12  39]\n",
            " [  0  71  19  50 191   4 136 220]\n",
            " [  0   2   0   6   4   0  15  76]\n",
            " [  0   0   0   0   3   0   2 110]]\n"
          ]
        },
        {
          "metadata": {
            "tags": null
          },
          "name": "stderr",
          "output_type": "stream",
          "text": [
            "Epoch 32: 100%|███████████████████████████████████████████████████████| 8/8 [02:23<00:00, 17.90s/it]\n"
          ]
        },
        {
          "metadata": {
            "tags": null
          },
          "name": "stdout",
          "output_type": "stream",
          "text": [
            "Average Loss =  tensor([13.5620], device='cuda:0', grad_fn=<DivBackward0>)\n"
          ]
        },
        {
          "metadata": {
            "tags": null
          },
          "name": "stderr",
          "output_type": "stream",
          "text": [
            "Validating 32: 100%|██████████████████████████████████████████████████| 2/2 [00:31<00:00, 15.79s/it]\n",
            "/usr/local/lib/python3.10/dist-packages/sklearn/metrics/_classification.py:1344: UndefinedMetricWarning: Precision and F-score are ill-defined and being set to 0.0 in labels with no predicted samples. Use `zero_division` parameter to control this behavior.\n",
            "  _warn_prf(average, modifier, msg_start, len(result))\n",
            "/usr/local/lib/python3.10/dist-packages/sklearn/metrics/_classification.py:1344: UndefinedMetricWarning: Precision and F-score are ill-defined and being set to 0.0 in labels with no predicted samples. Use `zero_division` parameter to control this behavior.\n",
            "  _warn_prf(average, modifier, msg_start, len(result))\n",
            "/usr/local/lib/python3.10/dist-packages/sklearn/metrics/_classification.py:1344: UndefinedMetricWarning: Precision and F-score are ill-defined and being set to 0.0 in labels with no predicted samples. Use `zero_division` parameter to control this behavior.\n",
            "  _warn_prf(average, modifier, msg_start, len(result))\n"
          ]
        },
        {
          "metadata": {
            "tags": null
          },
          "name": "stdout",
          "output_type": "stream",
          "text": [
            "              precision    recall  f1-score   support\n",
            "\n",
            "           0       0.00      0.00      0.00        23\n",
            "           1       0.50      0.29      0.37       409\n",
            "           2       0.12      0.90      0.22        60\n",
            "           3       0.08      0.04      0.05       138\n",
            "           4       0.11      0.02      0.04        86\n",
            "           5       0.63      0.15      0.24       691\n",
            "           6       0.19      0.03      0.05       103\n",
            "           7       0.16      0.96      0.27       115\n",
            "\n",
            "    accuracy                           0.24      1625\n",
            "   macro avg       0.22      0.30      0.15      1625\n",
            "weighted avg       0.43      0.24      0.23      1625\n",
            "\n",
            "Confusion Matrix: \n",
            " [[  0   0   0   0   0   1   0  22]\n",
            " [  0 118 169   8   8  42   2  62]\n",
            " [  0   3  54   0   0   0   0   3]\n",
            " [  0   1   5   5   1   4   2 120]\n",
            " [  0   9  15   5   2  10   2  43]\n",
            " [  0 102 185  41   6 103   6 248]\n",
            " [  0   3   6   4   0   3   3  84]\n",
            " [  0   0   2   1   1   0   1 110]]\n"
          ]
        },
        {
          "metadata": {
            "tags": null
          },
          "name": "stderr",
          "output_type": "stream",
          "text": [
            "Epoch 33: 100%|███████████████████████████████████████████████████████| 8/8 [02:21<00:00, 17.69s/it]\n"
          ]
        },
        {
          "metadata": {
            "tags": null
          },
          "name": "stdout",
          "output_type": "stream",
          "text": [
            "Average Loss =  tensor([13.4338], device='cuda:0', grad_fn=<DivBackward0>)\n"
          ]
        },
        {
          "metadata": {
            "tags": null
          },
          "name": "stderr",
          "output_type": "stream",
          "text": [
            "Validating 33: 100%|██████████████████████████████████████████████████| 2/2 [00:33<00:00, 16.64s/it]\n",
            "/usr/local/lib/python3.10/dist-packages/sklearn/metrics/_classification.py:1344: UndefinedMetricWarning: Precision and F-score are ill-defined and being set to 0.0 in labels with no predicted samples. Use `zero_division` parameter to control this behavior.\n",
            "  _warn_prf(average, modifier, msg_start, len(result))\n",
            "/usr/local/lib/python3.10/dist-packages/sklearn/metrics/_classification.py:1344: UndefinedMetricWarning: Precision and F-score are ill-defined and being set to 0.0 in labels with no predicted samples. Use `zero_division` parameter to control this behavior.\n",
            "  _warn_prf(average, modifier, msg_start, len(result))\n",
            "/usr/local/lib/python3.10/dist-packages/sklearn/metrics/_classification.py:1344: UndefinedMetricWarning: Precision and F-score are ill-defined and being set to 0.0 in labels with no predicted samples. Use `zero_division` parameter to control this behavior.\n",
            "  _warn_prf(average, modifier, msg_start, len(result))\n"
          ]
        },
        {
          "metadata": {
            "tags": null
          },
          "name": "stdout",
          "output_type": "stream",
          "text": [
            "              precision    recall  f1-score   support\n",
            "\n",
            "           0       0.00      0.00      0.00        23\n",
            "           1       0.52      0.54      0.53       409\n",
            "           2       0.62      0.43      0.51        60\n",
            "           3       0.17      0.11      0.13       138\n",
            "           4       0.06      0.15      0.09        86\n",
            "           5       0.00      0.00      0.00       691\n",
            "           6       0.07      0.45      0.13       103\n",
            "           7       0.35      0.77      0.49       115\n",
            "\n",
            "    accuracy                           0.25      1625\n",
            "   macro avg       0.23      0.31      0.23      1625\n",
            "weighted avg       0.20      0.25      0.21      1625\n",
            "\n",
            "Confusion Matrix: \n",
            " [[  0   0   0   0   0   0   3  20]\n",
            " [  0 220   6  10  69   0 100   4]\n",
            " [  0  21  26   1  10   0   2   0]\n",
            " [  0   2   0  15   4   0  66  51]\n",
            " [  0  10   0   6  13   0  54   3]\n",
            " [  0 162  10  50 107   0 323  39]\n",
            " [  0   5   0   4   2   0  46  46]\n",
            " [  0   0   0   1   1   0  24  89]]\n"
          ]
        },
        {
          "metadata": {
            "tags": null
          },
          "name": "stderr",
          "output_type": "stream",
          "text": [
            "Epoch 34: 100%|███████████████████████████████████████████████████████| 8/8 [02:21<00:00, 17.72s/it]\n"
          ]
        },
        {
          "metadata": {
            "tags": null
          },
          "name": "stdout",
          "output_type": "stream",
          "text": [
            "Average Loss =  tensor([13.1098], device='cuda:0', grad_fn=<DivBackward0>)\n"
          ]
        },
        {
          "metadata": {
            "tags": null
          },
          "name": "stderr",
          "output_type": "stream",
          "text": [
            "Validating 34: 100%|██████████████████████████████████████████████████| 2/2 [00:30<00:00, 15.26s/it]\n"
          ]
        },
        {
          "metadata": {
            "tags": null
          },
          "name": "stdout",
          "output_type": "stream",
          "text": [
            "              precision    recall  f1-score   support\n",
            "\n",
            "           0       0.03      0.04      0.03        23\n",
            "           1       0.41      0.15      0.22       409\n",
            "           2       0.11      0.93      0.20        60\n",
            "           3       0.26      0.26      0.26       138\n",
            "           4       0.09      0.10      0.10        86\n",
            "           5       0.61      0.38      0.47       691\n",
            "           6       0.24      0.09      0.13       103\n",
            "           7       0.44      0.91      0.60       115\n",
            "\n",
            "    accuracy                           0.33      1625\n",
            "   macro avg       0.27      0.36      0.25      1625\n",
            "weighted avg       0.44      0.33      0.34      1625\n",
            "\n",
            "Confusion Matrix: \n",
            " [[  1   0   0   1   0   1   0  20]\n",
            " [  0  61 233  10  14  87   2   2]\n",
            " [  0   0  56   1   0   2   1   0]\n",
            " [ 13   2   2  36   8  15  14  48]\n",
            " [  2   8   8  10   9  43   0   6]\n",
            " [ 12  75 191  55  62 265   9  22]\n",
            " [  9   3   2  22   5  19   9  34]\n",
            " [  3   1   0   2   1   1   2 105]]\n"
          ]
        },
        {
          "metadata": {
            "tags": null
          },
          "name": "stderr",
          "output_type": "stream",
          "text": [
            "Epoch 35: 100%|███████████████████████████████████████████████████████| 8/8 [02:24<00:00, 18.08s/it]\n"
          ]
        },
        {
          "metadata": {
            "tags": null
          },
          "name": "stdout",
          "output_type": "stream",
          "text": [
            "Average Loss =  tensor([13.0627], device='cuda:0', grad_fn=<DivBackward0>)\n"
          ]
        },
        {
          "metadata": {
            "tags": null
          },
          "name": "stderr",
          "output_type": "stream",
          "text": [
            "Validating 35: 100%|██████████████████████████████████████████████████| 2/2 [00:30<00:00, 15.17s/it]\n"
          ]
        },
        {
          "metadata": {
            "tags": null
          },
          "name": "stdout",
          "output_type": "stream",
          "text": [
            "              precision    recall  f1-score   support\n",
            "\n",
            "           0       0.21      0.26      0.24        23\n",
            "           1       0.48      0.63      0.54       409\n",
            "           2       0.67      0.57      0.61        60\n",
            "           3       0.33      0.29      0.31       138\n",
            "           4       0.07      0.33      0.11        86\n",
            "           5       0.60      0.08      0.15       691\n",
            "           6       0.18      0.41      0.25       103\n",
            "           7       0.65      0.81      0.72       115\n",
            "\n",
            "    accuracy                           0.34      1625\n",
            "   macro avg       0.40      0.42      0.37      1625\n",
            "weighted avg       0.49      0.34      0.32      1625\n",
            "\n",
            "Confusion Matrix: \n",
            " [[  6   0   0   2   0   0   3  12]\n",
            " [  0 258   7   5 102  17  20   0]\n",
            " [  0  17  34   1   7   0   1   0]\n",
            " [  9   1   0  40  16   3  53  16]\n",
            " [  1  17   0   4  28  12  23   1]\n",
            " [  6 244  10  37 244  58  85   7]\n",
            " [  1   4   0  28   8   7  42  13]\n",
            " [  5   0   0   5   2   0  10  93]]\n"
          ]
        },
        {
          "metadata": {
            "tags": null
          },
          "name": "stderr",
          "output_type": "stream",
          "text": [
            "Epoch 36: 100%|███████████████████████████████████████████████████████| 8/8 [02:23<00:00, 17.91s/it]\n"
          ]
        },
        {
          "metadata": {
            "tags": null
          },
          "name": "stdout",
          "output_type": "stream",
          "text": [
            "Average Loss =  tensor([13.0109], device='cuda:0', grad_fn=<DivBackward0>)\n"
          ]
        },
        {
          "metadata": {
            "tags": null
          },
          "name": "stderr",
          "output_type": "stream",
          "text": [
            "Validating 36: 100%|██████████████████████████████████████████████████| 2/2 [00:32<00:00, 16.20s/it]\n"
          ]
        },
        {
          "metadata": {
            "tags": null
          },
          "name": "stdout",
          "output_type": "stream",
          "text": [
            "              precision    recall  f1-score   support\n",
            "\n",
            "           0       0.20      0.17      0.19        23\n",
            "           1       0.53      0.17      0.25       409\n",
            "           2       0.20      0.87      0.32        60\n",
            "           3       0.26      0.36      0.30       138\n",
            "           4       0.09      0.17      0.12        86\n",
            "           5       0.58      0.47      0.52       691\n",
            "           6       0.15      0.15      0.15       103\n",
            "           7       0.50      0.86      0.63       115\n",
            "\n",
            "    accuracy                           0.38      1625\n",
            "   macro avg       0.31      0.40      0.31      1625\n",
            "weighted avg       0.46      0.38      0.38      1625\n",
            "\n",
            "Confusion Matrix: \n",
            " [[  4   0   0   2   0   0   3  14]\n",
            " [  0  68 117  15  35 166   8   0]\n",
            " [  0   3  52   1   0   4   0   0]\n",
            " [  6   1   0  49  10   9  24  39]\n",
            " [  0   3   6   9  15  42   9   2]\n",
            " [  7  53  89  62 106 323  37  14]\n",
            " [  0   1   0  43   4   9  15  31]\n",
            " [  3   0   0   4   2   0   7  99]]\n"
          ]
        },
        {
          "metadata": {
            "tags": null
          },
          "name": "stderr",
          "output_type": "stream",
          "text": [
            "Epoch 37: 100%|███████████████████████████████████████████████████████| 8/8 [02:27<00:00, 18.43s/it]\n"
          ]
        },
        {
          "metadata": {
            "tags": null
          },
          "name": "stdout",
          "output_type": "stream",
          "text": [
            "Average Loss =  tensor([12.9458], device='cuda:0', grad_fn=<DivBackward0>)\n"
          ]
        },
        {
          "metadata": {
            "tags": null
          },
          "name": "stderr",
          "output_type": "stream",
          "text": [
            "Validating 37: 100%|██████████████████████████████████████████████████| 2/2 [00:30<00:00, 15.30s/it]\n"
          ]
        },
        {
          "metadata": {
            "tags": null
          },
          "name": "stdout",
          "output_type": "stream",
          "text": [
            "              precision    recall  f1-score   support\n",
            "\n",
            "           0       0.05      0.83      0.09        23\n",
            "           1       0.61      0.25      0.35       409\n",
            "           2       0.73      0.73      0.73        60\n",
            "           3       0.01      0.02      0.01       138\n",
            "           4       0.04      0.10      0.06        86\n",
            "           5       0.25      0.00      0.00       691\n",
            "           6       0.02      0.05      0.03       103\n",
            "           7       0.20      0.33      0.25       115\n",
            "\n",
            "    accuracy                           0.14      1625\n",
            "   macro avg       0.24      0.29      0.19      1625\n",
            "weighted avg       0.31      0.14      0.14      1625\n",
            "\n",
            "Confusion Matrix: \n",
            " [[ 19   0   0   0   0   0   1   3]\n",
            " [ 16 101   5  88 110   3  78   8]\n",
            " [  1   4  44   1   8   0   2   0]\n",
            " [ 88   0   0   3   3   0   2  42]\n",
            " [  9   2   0  29   9   0  21  16]\n",
            " [107  58  11 223  98   1 141  52]\n",
            " [ 66   0   0   2   3   0   5  27]\n",
            " [ 75   0   0   1   0   0   1  38]]\n"
          ]
        },
        {
          "metadata": {
            "tags": null
          },
          "name": "stderr",
          "output_type": "stream",
          "text": [
            "Epoch 38: 100%|███████████████████████████████████████████████████████| 8/8 [02:17<00:00, 17.24s/it]\n"
          ]
        },
        {
          "metadata": {
            "tags": null
          },
          "name": "stdout",
          "output_type": "stream",
          "text": [
            "Average Loss =  tensor([13.3320], device='cuda:0', grad_fn=<DivBackward0>)\n"
          ]
        },
        {
          "metadata": {
            "tags": null
          },
          "name": "stderr",
          "output_type": "stream",
          "text": [
            "Validating 38: 100%|██████████████████████████████████████████████████| 2/2 [00:30<00:00, 15.35s/it]\n"
          ]
        },
        {
          "metadata": {
            "tags": null
          },
          "name": "stdout",
          "output_type": "stream",
          "text": [
            "              precision    recall  f1-score   support\n",
            "\n",
            "           0       0.67      0.09      0.15        23\n",
            "           1       0.59      0.36      0.44       409\n",
            "           2       0.79      0.52      0.63        60\n",
            "           3       0.35      0.64      0.45       138\n",
            "           4       0.08      0.73      0.15        86\n",
            "           5       0.56      0.06      0.11       691\n",
            "           6       0.16      0.14      0.15       103\n",
            "           7       0.67      0.78      0.72       115\n",
            "\n",
            "    accuracy                           0.29      1625\n",
            "   macro avg       0.48      0.42      0.35      1625\n",
            "weighted avg       0.52      0.29      0.29      1625\n",
            "\n",
            "Confusion Matrix: \n",
            " [[  2   0   0   6   0   0   2  13]\n",
            " [  0 146   2  10 220  27   4   0]\n",
            " [  0   3  31   1  19   6   0   0]\n",
            " [  1   0   0  89  16   0  20  12]\n",
            " [  0   5   0   9  63   1   8   0]\n",
            " [  0  93   6  61 446  44  33   8]\n",
            " [  0   2   0  64  12   0  14  11]\n",
            " [  0   0   0  15   2   0   8  90]]\n"
          ]
        },
        {
          "metadata": {
            "tags": null
          },
          "name": "stderr",
          "output_type": "stream",
          "text": [
            "Epoch 39: 100%|███████████████████████████████████████████████████████| 8/8 [02:20<00:00, 17.57s/it]\n"
          ]
        },
        {
          "metadata": {
            "tags": null
          },
          "name": "stdout",
          "output_type": "stream",
          "text": [
            "Average Loss =  tensor([12.8742], device='cuda:0', grad_fn=<DivBackward0>)\n"
          ]
        },
        {
          "metadata": {
            "tags": null
          },
          "name": "stderr",
          "output_type": "stream",
          "text": [
            "Validating 39: 100%|██████████████████████████████████████████████████| 2/2 [00:29<00:00, 14.75s/it]\n"
          ]
        },
        {
          "metadata": {
            "tags": null
          },
          "name": "stdout",
          "output_type": "stream",
          "text": [
            "              precision    recall  f1-score   support\n",
            "\n",
            "           0       0.08      0.04      0.06        23\n",
            "           1       0.37      0.45      0.41       409\n",
            "           2       0.15      0.92      0.25        60\n",
            "           3       0.45      0.31      0.37       138\n",
            "           4       0.07      0.09      0.08        86\n",
            "           5       0.65      0.24      0.36       691\n",
            "           6       0.26      0.17      0.21       103\n",
            "           7       0.55      0.88      0.68       115\n",
            "\n",
            "    accuracy                           0.36      1625\n",
            "   macro avg       0.32      0.39      0.30      1625\n",
            "weighted avg       0.47      0.36      0.36      1625\n",
            "\n",
            "Confusion Matrix: \n",
            " [[  1   1   0   2   2   0   2  15]\n",
            " [  0 186 151   3  17  50   2   0]\n",
            " [  0   2  55   0   1   2   0   0]\n",
            " [  6   9   1  43  24   7  21  27]\n",
            " [  0  37  17   0   8  21   3   0]\n",
            " [  3 265 149  20  59 169  17   9]\n",
            " [  1   7   1  23  10  12  18  31]\n",
            " [  1   0   1   5   1   0   6 101]]\n"
          ]
        },
        {
          "metadata": {
            "tags": null
          },
          "name": "stderr",
          "output_type": "stream",
          "text": [
            "Epoch 40: 100%|███████████████████████████████████████████████████████| 8/8 [02:16<00:00, 17.09s/it]\n"
          ]
        },
        {
          "metadata": {
            "tags": null
          },
          "name": "stdout",
          "output_type": "stream",
          "text": [
            "Average Loss =  tensor([12.6427], device='cuda:0', grad_fn=<DivBackward0>)\n"
          ]
        },
        {
          "metadata": {
            "tags": null
          },
          "name": "stderr",
          "output_type": "stream",
          "text": [
            "Validating 40: 100%|██████████████████████████████████████████████████| 2/2 [00:29<00:00, 14.60s/it]\n",
            "/usr/local/lib/python3.10/dist-packages/sklearn/metrics/_classification.py:1344: UndefinedMetricWarning: Precision and F-score are ill-defined and being set to 0.0 in labels with no predicted samples. Use `zero_division` parameter to control this behavior.\n",
            "  _warn_prf(average, modifier, msg_start, len(result))\n",
            "/usr/local/lib/python3.10/dist-packages/sklearn/metrics/_classification.py:1344: UndefinedMetricWarning: Precision and F-score are ill-defined and being set to 0.0 in labels with no predicted samples. Use `zero_division` parameter to control this behavior.\n",
            "  _warn_prf(average, modifier, msg_start, len(result))\n",
            "/usr/local/lib/python3.10/dist-packages/sklearn/metrics/_classification.py:1344: UndefinedMetricWarning: Precision and F-score are ill-defined and being set to 0.0 in labels with no predicted samples. Use `zero_division` parameter to control this behavior.\n",
            "  _warn_prf(average, modifier, msg_start, len(result))\n"
          ]
        },
        {
          "metadata": {
            "tags": null
          },
          "name": "stdout",
          "output_type": "stream",
          "text": [
            "              precision    recall  f1-score   support\n",
            "\n",
            "           0       0.00      0.00      0.00        23\n",
            "           1       0.44      0.78      0.56       409\n",
            "           2       0.79      0.63      0.70        60\n",
            "           3       0.30      0.28      0.29       138\n",
            "           4       0.14      0.15      0.15        86\n",
            "           5       0.72      0.17      0.28       691\n",
            "           6       0.19      0.62      0.29       103\n",
            "           7       0.64      0.79      0.71       115\n",
            "\n",
            "    accuracy                           0.42      1625\n",
            "   macro avg       0.40      0.43      0.37      1625\n",
            "weighted avg       0.54      0.42      0.39      1625\n",
            "\n",
            "Confusion Matrix: \n",
            " [[  0   0   0   3   0   0   3  17]\n",
            " [  0 317   2   6  23  36  25   0]\n",
            " [  0  20  38   1   0   1   0   0]\n",
            " [  0   4   0  39   1   2  80  12]\n",
            " [  0  38   0   6  13   7  22   0]\n",
            " [  0 329   8  51  52 118 122  11]\n",
            " [  0   6   0  22   0   0  64  11]\n",
            " [  0   0   0   3   1   0  20  91]]\n"
          ]
        },
        {
          "metadata": {
            "tags": null
          },
          "name": "stderr",
          "output_type": "stream",
          "text": [
            "Epoch 41: 100%|███████████████████████████████████████████████████████| 8/8 [02:19<00:00, 17.39s/it]\n"
          ]
        },
        {
          "metadata": {
            "tags": null
          },
          "name": "stdout",
          "output_type": "stream",
          "text": [
            "Average Loss =  tensor([12.2283], device='cuda:0', grad_fn=<DivBackward0>)\n"
          ]
        },
        {
          "metadata": {
            "tags": null
          },
          "name": "stderr",
          "output_type": "stream",
          "text": [
            "Validating 41: 100%|██████████████████████████████████████████████████| 2/2 [00:29<00:00, 14.69s/it]\n"
          ]
        },
        {
          "metadata": {
            "tags": null
          },
          "name": "stdout",
          "output_type": "stream",
          "text": [
            "              precision    recall  f1-score   support\n",
            "\n",
            "           0       0.09      0.26      0.13        23\n",
            "           1       0.63      0.30      0.40       409\n",
            "           2       0.32      0.88      0.47        60\n",
            "           3       0.18      0.43      0.25       138\n",
            "           4       0.08      0.47      0.14        86\n",
            "           5       0.61      0.09      0.16       691\n",
            "           6       0.16      0.06      0.09       103\n",
            "           7       0.50      0.95      0.65       115\n",
            "\n",
            "    accuracy                           0.28      1625\n",
            "   macro avg       0.32      0.43      0.29      1625\n",
            "weighted avg       0.49      0.28      0.27      1625\n",
            "\n",
            "Confusion Matrix: \n",
            " [[  6   0   0   1   0   0   1  15]\n",
            " [  1 122  63  35 146  38   4   0]\n",
            " [  1   0  53   1   5   0   0   0]\n",
            " [ 27   0   0  60   8   0   3  40]\n",
            " [  0   1   6  33  40   2   2   2]\n",
            " [ 14  69  43 163 300  63  21  18]\n",
            " [ 14   2   0  41   3   1   6  36]\n",
            " [  4   0   0   0   2   0   0 109]]\n"
          ]
        },
        {
          "metadata": {
            "tags": null
          },
          "name": "stderr",
          "output_type": "stream",
          "text": [
            "Epoch 42: 100%|███████████████████████████████████████████████████████| 8/8 [02:19<00:00, 17.39s/it]\n"
          ]
        },
        {
          "metadata": {
            "tags": null
          },
          "name": "stdout",
          "output_type": "stream",
          "text": [
            "Average Loss =  tensor([12.3689], device='cuda:0', grad_fn=<DivBackward0>)\n"
          ]
        },
        {
          "metadata": {
            "tags": null
          },
          "name": "stderr",
          "output_type": "stream",
          "text": [
            "Validating 42: 100%|██████████████████████████████████████████████████| 2/2 [00:29<00:00, 14.92s/it]\n"
          ]
        },
        {
          "metadata": {
            "tags": null
          },
          "name": "stdout",
          "output_type": "stream",
          "text": [
            "              precision    recall  f1-score   support\n",
            "\n",
            "           0       0.17      0.39      0.24        23\n",
            "           1       0.58      0.55      0.56       409\n",
            "           2       0.59      0.88      0.71        60\n",
            "           3       0.35      0.37      0.36       138\n",
            "           4       0.27      0.05      0.08        86\n",
            "           5       0.63      0.51      0.56       691\n",
            "           6       0.19      0.34      0.25       103\n",
            "           7       0.58      0.93      0.72       115\n",
            "\n",
            "    accuracy                           0.52      1625\n",
            "   macro avg       0.42      0.50      0.43      1625\n",
            "weighted avg       0.53      0.52      0.51      1625\n",
            "\n",
            "Confusion Matrix: \n",
            " [[  9   0   0   1   0   0   2  11]\n",
            " [  1 226  15   5   1 149  12   0]\n",
            " [  1   2  53   0   0   4   0   0]\n",
            " [ 16   1   0  51   1   3  44  22]\n",
            " [  0  12   2   7   4  52   8   1]\n",
            " [ 12 148  20  57   9 354  78  13]\n",
            " [  9   3   0  25   0   1  35  30]\n",
            " [  5   0   0   0   0   2   1 107]]\n"
          ]
        },
        {
          "metadata": {
            "tags": null
          },
          "name": "stderr",
          "output_type": "stream",
          "text": [
            "Epoch 43: 100%|███████████████████████████████████████████████████████| 8/8 [02:16<00:00, 17.07s/it]\n"
          ]
        },
        {
          "metadata": {
            "tags": null
          },
          "name": "stdout",
          "output_type": "stream",
          "text": [
            "Average Loss =  tensor([12.4381], device='cuda:0', grad_fn=<DivBackward0>)\n"
          ]
        },
        {
          "metadata": {
            "tags": null
          },
          "name": "stderr",
          "output_type": "stream",
          "text": [
            "Validating 43: 100%|██████████████████████████████████████████████████| 2/2 [00:30<00:00, 15.23s/it]\n"
          ]
        },
        {
          "metadata": {
            "tags": null
          },
          "name": "stdout",
          "output_type": "stream",
          "text": [
            "              precision    recall  f1-score   support\n",
            "\n",
            "           0       0.24      0.17      0.20        23\n",
            "           1       0.59      0.54      0.56       409\n",
            "           2       0.76      0.78      0.77        60\n",
            "           3       0.30      0.34      0.32       138\n",
            "           4       0.10      0.85      0.17        86\n",
            "           5       0.65      0.09      0.16       691\n",
            "           6       0.24      0.27      0.25       103\n",
            "           7       0.97      0.32      0.48       115\n",
            "\n",
            "    accuracy                           0.32      1625\n",
            "   macro avg       0.48      0.42      0.36      1625\n",
            "weighted avg       0.57      0.32      0.33      1625\n",
            "\n",
            "Confusion Matrix: \n",
            " [[  4   0   0  15   0   0   3   1]\n",
            " [  0 220   3   1 154  29   2   0]\n",
            " [  0   7  47   1   5   0   0   0]\n",
            " [  0   0   0  47  62   0  29   0]\n",
            " [  0   6   0   0  73   5   2   0]\n",
            " [  0 140  12  29 426  62  22   0]\n",
            " [  0   3   0  35  37   0  28   0]\n",
            " [ 13   0   0  30   2   0  33  37]]\n"
          ]
        },
        {
          "metadata": {
            "tags": null
          },
          "name": "stderr",
          "output_type": "stream",
          "text": [
            "Epoch 44: 100%|███████████████████████████████████████████████████████| 8/8 [02:19<00:00, 17.42s/it]\n"
          ]
        },
        {
          "metadata": {
            "tags": null
          },
          "name": "stdout",
          "output_type": "stream",
          "text": [
            "Average Loss =  tensor([12.2961], device='cuda:0', grad_fn=<DivBackward0>)\n"
          ]
        },
        {
          "metadata": {
            "tags": null
          },
          "name": "stderr",
          "output_type": "stream",
          "text": [
            "Validating 44: 100%|██████████████████████████████████████████████████| 2/2 [00:29<00:00, 14.72s/it]\n"
          ]
        },
        {
          "metadata": {
            "tags": null
          },
          "name": "stdout",
          "output_type": "stream",
          "text": [
            "              precision    recall  f1-score   support\n",
            "\n",
            "           0       0.42      0.22      0.29        23\n",
            "           1       0.32      0.76      0.45       409\n",
            "           2       0.26      0.88      0.40        60\n",
            "           3       0.41      0.18      0.25       138\n",
            "           4       0.06      0.02      0.03        86\n",
            "           5       0.46      0.08      0.14       691\n",
            "           6       0.40      0.33      0.36       103\n",
            "           7       0.77      0.91      0.84       115\n",
            "\n",
            "    accuracy                           0.36      1625\n",
            "   macro avg       0.39      0.42      0.34      1625\n",
            "weighted avg       0.41      0.36      0.30      1625\n",
            "\n",
            "Confusion Matrix: \n",
            " [[  5   0   0   3   0   0   3  12]\n",
            " [  0 312  86   1   0   9   1   0]\n",
            " [  0   5  53   1   0   0   1   0]\n",
            " [  1  29   0  25  19  29  33   2]\n",
            " [  0  72   5   1   2   5   1   0]\n",
            " [  2 529  62  16   7  57  10   8]\n",
            " [  0  15   0  13   8  24  34   9]\n",
            " [  4   1   1   1   0   0   3 105]]\n"
          ]
        },
        {
          "metadata": {
            "tags": null
          },
          "name": "stderr",
          "output_type": "stream",
          "text": [
            "Epoch 45: 100%|███████████████████████████████████████████████████████| 8/8 [02:17<00:00, 17.20s/it]\n"
          ]
        },
        {
          "metadata": {
            "tags": null
          },
          "name": "stdout",
          "output_type": "stream",
          "text": [
            "Average Loss =  tensor([12.3641], device='cuda:0', grad_fn=<DivBackward0>)\n"
          ]
        },
        {
          "metadata": {
            "tags": null
          },
          "name": "stderr",
          "output_type": "stream",
          "text": [
            "Validating 45: 100%|██████████████████████████████████████████████████| 2/2 [00:29<00:00, 14.80s/it]\n"
          ]
        },
        {
          "metadata": {
            "tags": null
          },
          "name": "stdout",
          "output_type": "stream",
          "text": [
            "              precision    recall  f1-score   support\n",
            "\n",
            "           0       0.28      0.78      0.41        23\n",
            "           1       0.67      0.36      0.46       409\n",
            "           2       0.52      0.90      0.66        60\n",
            "           3       0.37      0.75      0.49       138\n",
            "           4       0.11      0.63      0.18        86\n",
            "           5       0.53      0.20      0.29       691\n",
            "           6       0.16      0.19      0.18       103\n",
            "           7       1.00      0.64      0.78       115\n",
            "\n",
            "    accuracy                           0.37      1625\n",
            "   macro avg       0.45      0.56      0.43      1625\n",
            "weighted avg       0.54      0.37      0.39      1625\n",
            "\n",
            "Confusion Matrix: \n",
            " [[ 18   0   0   4   0   0   1   0]\n",
            " [  0 146  25   7 108 111  12   0]\n",
            " [  0   2  54   1   2   0   1   0]\n",
            " [  2   0   0 103  12   1  20   0]\n",
            " [  0   2   1  11  54   8  10   0]\n",
            " [  7  68  24  78 319 138  57   0]\n",
            " [  2   1   0  75   4   1  20   0]\n",
            " [ 35   0   0   2   2   0   2  74]]\n"
          ]
        },
        {
          "metadata": {
            "tags": null
          },
          "name": "stderr",
          "output_type": "stream",
          "text": [
            "Epoch 46: 100%|███████████████████████████████████████████████████████| 8/8 [02:18<00:00, 17.32s/it]\n"
          ]
        },
        {
          "metadata": {
            "tags": null
          },
          "name": "stdout",
          "output_type": "stream",
          "text": [
            "Average Loss =  tensor([12.2388], device='cuda:0', grad_fn=<DivBackward0>)\n"
          ]
        },
        {
          "metadata": {
            "tags": null
          },
          "name": "stderr",
          "output_type": "stream",
          "text": [
            "Validating 46: 100%|██████████████████████████████████████████████████| 2/2 [00:29<00:00, 14.67s/it]\n"
          ]
        },
        {
          "metadata": {
            "tags": null
          },
          "name": "stdout",
          "output_type": "stream",
          "text": [
            "              precision    recall  f1-score   support\n",
            "\n",
            "           0       0.21      0.17      0.19        23\n",
            "           1       0.57      0.62      0.59       409\n",
            "           2       0.88      0.73      0.80        60\n",
            "           3       0.43      0.44      0.44       138\n",
            "           4       0.12      0.41      0.19        86\n",
            "           5       0.66      0.32      0.43       691\n",
            "           6       0.26      0.50      0.34       103\n",
            "           7       0.70      0.96      0.81       115\n",
            "\n",
            "    accuracy                           0.48      1625\n",
            "   macro avg       0.48      0.52      0.47      1625\n",
            "weighted avg       0.57      0.48      0.49      1625\n",
            "\n",
            "Confusion Matrix: \n",
            " [[  4   0   0   0   0   0   2  17]\n",
            " [  0 252   0   6  54  85  12   0]\n",
            " [  0  12  44   0   0   2   1   1]\n",
            " [  7   3   0  61   3   1  56   7]\n",
            " [  0   9   0   7  35  23  11   1]\n",
            " [  5 163   6  32 191 223  60  11]\n",
            " [  1   2   0  35   1   2  51  11]\n",
            " [  2   0   0   0   1   0   2 110]]\n"
          ]
        },
        {
          "metadata": {
            "tags": null
          },
          "name": "stderr",
          "output_type": "stream",
          "text": [
            "Epoch 47: 100%|███████████████████████████████████████████████████████| 8/8 [02:18<00:00, 17.34s/it]\n"
          ]
        },
        {
          "metadata": {
            "tags": null
          },
          "name": "stdout",
          "output_type": "stream",
          "text": [
            "Average Loss =  tensor([11.8248], device='cuda:0', grad_fn=<DivBackward0>)\n"
          ]
        },
        {
          "metadata": {
            "tags": null
          },
          "name": "stderr",
          "output_type": "stream",
          "text": [
            "Validating 47: 100%|██████████████████████████████████████████████████| 2/2 [00:30<00:00, 15.12s/it]\n"
          ]
        },
        {
          "metadata": {
            "tags": null
          },
          "name": "stdout",
          "output_type": "stream",
          "text": [
            "              precision    recall  f1-score   support\n",
            "\n",
            "           0       0.26      0.48      0.33        23\n",
            "           1       0.36      0.85      0.51       409\n",
            "           2       0.48      0.92      0.63        60\n",
            "           3       0.40      0.43      0.42       138\n",
            "           4       0.12      0.26      0.16        86\n",
            "           5       0.39      0.02      0.04       691\n",
            "           6       0.32      0.17      0.23       103\n",
            "           7       1.00      0.62      0.76       115\n",
            "\n",
            "    accuracy                           0.37      1625\n",
            "   macro avg       0.42      0.47      0.38      1625\n",
            "weighted avg       0.41      0.37      0.28      1625\n",
            "\n",
            "Confusion Matrix: \n",
            " [[ 11   0   0  11   0   0   1   0]\n",
            " [  0 349  37   1  19   2   1   0]\n",
            " [  0   3  55   1   0   1   0   0]\n",
            " [  0  13   0  60  36  10  19   0]\n",
            " [  0  61   1   0  22   1   1   0]\n",
            " [  0 537  22  25  83  13  11   0]\n",
            " [  0   6   0  47  26   6  18   0]\n",
            " [ 32   1   0   4   1   0   6  71]]\n"
          ]
        },
        {
          "metadata": {
            "tags": null
          },
          "name": "stderr",
          "output_type": "stream",
          "text": [
            "Epoch 48: 100%|███████████████████████████████████████████████████████| 8/8 [02:21<00:00, 17.71s/it]\n"
          ]
        },
        {
          "metadata": {
            "tags": null
          },
          "name": "stdout",
          "output_type": "stream",
          "text": [
            "Average Loss =  tensor([12.0237], device='cuda:0', grad_fn=<DivBackward0>)\n"
          ]
        },
        {
          "metadata": {
            "tags": null
          },
          "name": "stderr",
          "output_type": "stream",
          "text": [
            "Validating 48: 100%|██████████████████████████████████████████████████| 2/2 [00:29<00:00, 14.89s/it]\n"
          ]
        },
        {
          "metadata": {
            "tags": null
          },
          "name": "stdout",
          "output_type": "stream",
          "text": [
            "              precision    recall  f1-score   support\n",
            "\n",
            "           0       0.57      0.52      0.55        23\n",
            "           1       0.48      0.79      0.60       409\n",
            "           2       0.68      0.92      0.78        60\n",
            "           3       0.65      0.32      0.43       138\n",
            "           4       0.17      0.22      0.19        86\n",
            "           5       0.68      0.35      0.47       691\n",
            "           6       0.37      0.68      0.48       103\n",
            "           7       0.86      0.94      0.90       115\n",
            "\n",
            "    accuracy                           0.54      1625\n",
            "   macro avg       0.56      0.59      0.55      1625\n",
            "weighted avg       0.59      0.54      0.53      1625\n",
            "\n",
            "Confusion Matrix: \n",
            " [[ 12   0   0   0   0   0   2   9]\n",
            " [  0 323  11   1  10  56   8   0]\n",
            " [  0   1  55   0   1   2   1   0]\n",
            " [  0   6   0  44  14   7  64   3]\n",
            " [  0  20   1   0  19  42   4   0]\n",
            " [  6 318  14   8  60 245  39   1]\n",
            " [  0   3   0  14   7   4  70   5]\n",
            " [  3   0   0   1   0   2   1 108]]\n"
          ]
        },
        {
          "metadata": {
            "tags": null
          },
          "name": "stderr",
          "output_type": "stream",
          "text": [
            "Epoch 49: 100%|███████████████████████████████████████████████████████| 8/8 [02:19<00:00, 17.46s/it]\n"
          ]
        },
        {
          "metadata": {
            "tags": null
          },
          "name": "stdout",
          "output_type": "stream",
          "text": [
            "Average Loss =  tensor([11.5330], device='cuda:0', grad_fn=<DivBackward0>)\n"
          ]
        },
        {
          "metadata": {
            "tags": null
          },
          "name": "stderr",
          "output_type": "stream",
          "text": [
            "Validating 49: 100%|██████████████████████████████████████████████████| 2/2 [00:29<00:00, 14.85s/it]\n"
          ]
        },
        {
          "metadata": {
            "tags": null
          },
          "name": "stdout",
          "output_type": "stream",
          "text": [
            "              precision    recall  f1-score   support\n",
            "\n",
            "           0       0.44      0.87      0.59        23\n",
            "           1       0.73      0.49      0.59       409\n",
            "           2       0.63      0.90      0.74        60\n",
            "           3       0.45      0.72      0.56       138\n",
            "           4       0.13      0.85      0.22        86\n",
            "           5       0.64      0.25      0.36       691\n",
            "           6       0.29      0.19      0.23       103\n",
            "           7       0.98      0.86      0.92       115\n",
            "\n",
            "    accuracy                           0.45      1625\n",
            "   macro avg       0.54      0.64      0.53      1625\n",
            "weighted avg       0.62      0.45      0.47      1625\n",
            "\n",
            "Confusion Matrix: \n",
            " [[ 20   0   0   1   0   0   1   1]\n",
            " [  0 200  15   8  99  84   3   0]\n",
            " [  0   1  54   1   4   0   0   0]\n",
            " [  1   0   0 100  14   2  21   0]\n",
            " [  1   0   1   2  73   7   2   0]\n",
            " [  9  72  16  35 369 170  19   1]\n",
            " [  3   0   0  72   5   3  20   0]\n",
            " [ 11   0   0   1   2   0   2  99]]\n"
          ]
        },
        {
          "metadata": {
            "tags": null
          },
          "name": "stderr",
          "output_type": "stream",
          "text": [
            "Epoch 50: 100%|███████████████████████████████████████████████████████| 8/8 [02:19<00:00, 17.43s/it]\n"
          ]
        },
        {
          "metadata": {
            "tags": null
          },
          "name": "stdout",
          "output_type": "stream",
          "text": [
            "Average Loss =  tensor([11.1674], device='cuda:0', grad_fn=<DivBackward0>)\n"
          ]
        },
        {
          "metadata": {
            "tags": null
          },
          "name": "stderr",
          "output_type": "stream",
          "text": [
            "Validating 50: 100%|██████████████████████████████████████████████████| 2/2 [00:30<00:00, 15.25s/it]\n"
          ]
        },
        {
          "metadata": {
            "tags": null
          },
          "name": "stdout",
          "output_type": "stream",
          "text": [
            "              precision    recall  f1-score   support\n",
            "\n",
            "           0       0.30      0.87      0.44        23\n",
            "           1       0.49      0.84      0.62       409\n",
            "           2       0.77      0.88      0.82        60\n",
            "           3       0.48      0.69      0.57       138\n",
            "           4       0.19      0.73      0.30        86\n",
            "           5       0.74      0.11      0.19       691\n",
            "           6       0.36      0.17      0.24       103\n",
            "           7       0.95      0.86      0.90       115\n",
            "\n",
            "    accuracy                           0.47      1625\n",
            "   macro avg       0.53      0.64      0.51      1625\n",
            "weighted avg       0.61      0.47      0.42      1625\n",
            "\n",
            "Confusion Matrix: \n",
            " [[ 20   0   0   1   0   0   1   1]\n",
            " [  1 344   3   5  39  16   1   0]\n",
            " [  1   2  53   1   3   0   0   0]\n",
            " [  9   4   0  95   8   0  21   1]\n",
            " [  1  10   1   1  63   9   1   0]\n",
            " [ 12 339  12  28 216  75   7   2]\n",
            " [ 11   3   0  65   3   2  18   1]\n",
            " [ 12   1   0   1   1   0   1  99]]\n"
          ]
        },
        {
          "metadata": {
            "tags": null
          },
          "name": "stderr",
          "output_type": "stream",
          "text": [
            "Epoch 51: 100%|███████████████████████████████████████████████████████| 8/8 [02:19<00:00, 17.40s/it]\n"
          ]
        },
        {
          "metadata": {
            "tags": null
          },
          "name": "stdout",
          "output_type": "stream",
          "text": [
            "Average Loss =  tensor([11.3650], device='cuda:0', grad_fn=<DivBackward0>)\n"
          ]
        },
        {
          "metadata": {
            "tags": null
          },
          "name": "stderr",
          "output_type": "stream",
          "text": [
            "Validating 51: 100%|██████████████████████████████████████████████████| 2/2 [00:29<00:00, 14.77s/it]\n"
          ]
        },
        {
          "metadata": {
            "tags": null
          },
          "name": "stdout",
          "output_type": "stream",
          "text": [
            "              precision    recall  f1-score   support\n",
            "\n",
            "           0       0.33      0.91      0.49        23\n",
            "           1       0.71      0.67      0.69       409\n",
            "           2       0.84      0.90      0.87        60\n",
            "           3       0.52      0.63      0.57       138\n",
            "           4       0.16      0.81      0.27        86\n",
            "           5       0.74      0.35      0.47       691\n",
            "           6       0.40      0.37      0.38       103\n",
            "           7       0.98      0.77      0.86       115\n",
            "\n",
            "    accuracy                           0.54      1625\n",
            "   macro avg       0.59      0.68      0.57      1625\n",
            "weighted avg       0.68      0.54      0.56      1625\n",
            "\n",
            "Confusion Matrix: \n",
            " [[ 21   0   0   0   0   0   2   0]\n",
            " [  0 272   2   5  56  70   4   0]\n",
            " [  1   1  54   0   2   1   1   0]\n",
            " [  3   2   0  87  13   2  31   0]\n",
            " [  0   1   0   2  70  10   3   0]\n",
            " [  8 104   8  22 291 240  16   2]\n",
            " [  6   1   0  50   6   2  38   0]\n",
            " [ 24   0   0   0   2   0   1  88]]\n"
          ]
        },
        {
          "metadata": {
            "tags": null
          },
          "name": "stderr",
          "output_type": "stream",
          "text": [
            "Epoch 52: 100%|███████████████████████████████████████████████████████| 8/8 [02:17<00:00, 17.25s/it]\n"
          ]
        },
        {
          "metadata": {
            "tags": null
          },
          "name": "stdout",
          "output_type": "stream",
          "text": [
            "Average Loss =  tensor([11.2424], device='cuda:0', grad_fn=<DivBackward0>)\n"
          ]
        },
        {
          "metadata": {
            "tags": null
          },
          "name": "stderr",
          "output_type": "stream",
          "text": [
            "Validating 52: 100%|██████████████████████████████████████████████████| 2/2 [00:29<00:00, 14.66s/it]\n"
          ]
        },
        {
          "metadata": {
            "tags": null
          },
          "name": "stdout",
          "output_type": "stream",
          "text": [
            "              precision    recall  f1-score   support\n",
            "\n",
            "           0       0.30      0.83      0.44        23\n",
            "           1       0.76      0.28      0.41       409\n",
            "           2       0.80      0.80      0.80        60\n",
            "           3       0.38      0.82      0.52       138\n",
            "           4       0.10      0.79      0.17        86\n",
            "           5       0.32      0.08      0.13       691\n",
            "           6       0.21      0.12      0.15       103\n",
            "           7       0.91      0.91      0.91       115\n",
            "\n",
            "    accuracy                           0.33      1625\n",
            "   macro avg       0.47      0.58      0.44      1625\n",
            "weighted avg       0.48      0.33      0.32      1625\n",
            "\n",
            "Confusion Matrix: \n",
            " [[ 19   0   0   1   0   0   1   2]\n",
            " [  1 113   4  12 159 116   4   0]\n",
            " [  1   7  48   2   2   0   0   0]\n",
            " [  8   0   0 113   6   0  10   1]\n",
            " [  1   1   0  14  68   0   2   0]\n",
            " [ 10  27   8  86 474  55  28   3]\n",
            " [ 17   0   0  66   4   0  12   4]\n",
            " [  7   0   0   1   1   0   1 105]]\n"
          ]
        },
        {
          "metadata": {
            "tags": null
          },
          "name": "stderr",
          "output_type": "stream",
          "text": [
            "Epoch 53: 100%|███████████████████████████████████████████████████████| 8/8 [02:17<00:00, 17.14s/it]\n"
          ]
        },
        {
          "metadata": {
            "tags": null
          },
          "name": "stdout",
          "output_type": "stream",
          "text": [
            "Average Loss =  tensor([11.3191], device='cuda:0', grad_fn=<DivBackward0>)\n"
          ]
        },
        {
          "metadata": {
            "tags": null
          },
          "name": "stderr",
          "output_type": "stream",
          "text": [
            "Validating 53: 100%|██████████████████████████████████████████████████| 2/2 [00:29<00:00, 14.58s/it]\n"
          ]
        },
        {
          "metadata": {
            "tags": null
          },
          "name": "stdout",
          "output_type": "stream",
          "text": [
            "              precision    recall  f1-score   support\n",
            "\n",
            "           0       0.28      0.48      0.35        23\n",
            "           1       0.65      0.83      0.73       409\n",
            "           2       0.80      0.92      0.85        60\n",
            "           3       0.55      0.49      0.52       138\n",
            "           4       0.31      0.55      0.40        86\n",
            "           5       0.81      0.51      0.63       691\n",
            "           6       0.35      0.45      0.39       103\n",
            "           7       0.74      0.97      0.84       115\n",
            "\n",
            "    accuracy                           0.64      1625\n",
            "   macro avg       0.56      0.65      0.59      1625\n",
            "weighted avg       0.68      0.64      0.64      1625\n",
            "\n",
            "Confusion Matrix: \n",
            " [[ 11   0   0   0   0   0   2  10]\n",
            " [  1 338   4   4  15  41   6   0]\n",
            " [  0   1  55   0   1   0   2   1]\n",
            " [ 10   1   0  68   3   5  42   9]\n",
            " [  0   0   1   2  47  35   0   1]\n",
            " [  7 178   9  18  83 355  34   7]\n",
            " [ 10   0   0  31   0   4  46  12]\n",
            " [  0   1   0   0   1   0   1 112]]\n"
          ]
        },
        {
          "metadata": {
            "tags": null
          },
          "name": "stderr",
          "output_type": "stream",
          "text": [
            "Epoch 54: 100%|███████████████████████████████████████████████████████| 8/8 [02:19<00:00, 17.42s/it]\n"
          ]
        },
        {
          "metadata": {
            "tags": null
          },
          "name": "stdout",
          "output_type": "stream",
          "text": [
            "Average Loss =  tensor([11.2797], device='cuda:0', grad_fn=<DivBackward0>)\n"
          ]
        },
        {
          "metadata": {
            "tags": null
          },
          "name": "stderr",
          "output_type": "stream",
          "text": [
            "Validating 54: 100%|██████████████████████████████████████████████████| 2/2 [00:29<00:00, 14.72s/it]\n"
          ]
        },
        {
          "metadata": {
            "tags": null
          },
          "name": "stdout",
          "output_type": "stream",
          "text": [
            "              precision    recall  f1-score   support\n",
            "\n",
            "           0       0.62      0.87      0.73        23\n",
            "           1       0.49      0.88      0.63       409\n",
            "           2       0.66      0.92      0.77        60\n",
            "           3       0.55      0.56      0.56       138\n",
            "           4       0.32      0.57      0.41        86\n",
            "           5       0.78      0.30      0.43       691\n",
            "           6       0.44      0.45      0.44       103\n",
            "           7       0.96      0.96      0.96       115\n",
            "\n",
            "    accuracy                           0.57      1625\n",
            "   macro avg       0.60      0.69      0.62      1625\n",
            "weighted avg       0.65      0.57      0.55      1625\n",
            "\n",
            "Confusion Matrix: \n",
            " [[ 20   0   0   1   0   0   1   1]\n",
            " [  1 361  15   1  12  17   2   0]\n",
            " [  0   1  55   0   2   1   0   1]\n",
            " [  1   3   0  77  16   4  37   0]\n",
            " [  0   4   1   0  49  31   1   0]\n",
            " [  7 361  12  17  68 207  17   2]\n",
            " [  2   1   0  42   7   4  46   1]\n",
            " [  1   1   0   1   0   1   1 110]]\n"
          ]
        },
        {
          "metadata": {
            "tags": null
          },
          "name": "stderr",
          "output_type": "stream",
          "text": [
            "Epoch 55: 100%|███████████████████████████████████████████████████████| 8/8 [02:16<00:00, 17.01s/it]\n"
          ]
        },
        {
          "metadata": {
            "tags": null
          },
          "name": "stdout",
          "output_type": "stream",
          "text": [
            "Average Loss =  tensor([11.0928], device='cuda:0', grad_fn=<DivBackward0>)\n"
          ]
        },
        {
          "metadata": {
            "tags": null
          },
          "name": "stderr",
          "output_type": "stream",
          "text": [
            "Validating 55: 100%|██████████████████████████████████████████████████| 2/2 [00:28<00:00, 14.41s/it]\n"
          ]
        },
        {
          "metadata": {
            "tags": null
          },
          "name": "stdout",
          "output_type": "stream",
          "text": [
            "              precision    recall  f1-score   support\n",
            "\n",
            "           0       0.50      0.78      0.61        23\n",
            "           1       0.68      0.86      0.76       409\n",
            "           2       0.78      0.87      0.82        60\n",
            "           3       0.52      0.33      0.41       138\n",
            "           4       0.23      0.84      0.36        86\n",
            "           5       0.85      0.55      0.67       691\n",
            "           6       0.51      0.34      0.41       103\n",
            "           7       1.00      0.80      0.89       115\n",
            "\n",
            "    accuracy                           0.64      1625\n",
            "   macro avg       0.63      0.67      0.62      1625\n",
            "weighted avg       0.73      0.64      0.66      1625\n",
            "\n",
            "Confusion Matrix: \n",
            " [[ 18   0   0   3   0   0   2   0]\n",
            " [  0 353   6   1  12  37   0   0]\n",
            " [  0   3  52   0   2   2   1   0]\n",
            " [  0   2   0  46  66   9  15   0]\n",
            " [  0   0   1   0  72  12   1   0]\n",
            " [  5 156   8   9 127 379   7   0]\n",
            " [  1   1   0  28  31   7  35   0]\n",
            " [ 12   1   0   2   1   0   7  92]]\n"
          ]
        },
        {
          "metadata": {
            "tags": null
          },
          "name": "stderr",
          "output_type": "stream",
          "text": [
            "Epoch 56: 100%|███████████████████████████████████████████████████████| 8/8 [02:16<00:00, 17.06s/it]\n"
          ]
        },
        {
          "metadata": {
            "tags": null
          },
          "name": "stdout",
          "output_type": "stream",
          "text": [
            "Average Loss =  tensor([11.3972], device='cuda:0', grad_fn=<DivBackward0>)\n"
          ]
        },
        {
          "metadata": {
            "tags": null
          },
          "name": "stderr",
          "output_type": "stream",
          "text": [
            "Validating 56: 100%|██████████████████████████████████████████████████| 2/2 [00:29<00:00, 14.77s/it]\n"
          ]
        },
        {
          "metadata": {
            "tags": null
          },
          "name": "stdout",
          "output_type": "stream",
          "text": [
            "              precision    recall  f1-score   support\n",
            "\n",
            "           0       0.80      0.87      0.83        23\n",
            "           1       0.52      0.91      0.66       409\n",
            "           2       0.65      0.92      0.76        60\n",
            "           3       0.56      0.51      0.53       138\n",
            "           4       0.43      0.51      0.47        86\n",
            "           5       0.81      0.36      0.50       691\n",
            "           6       0.43      0.57      0.49       103\n",
            "           7       0.92      0.97      0.95       115\n",
            "\n",
            "    accuracy                           0.60      1625\n",
            "   macro avg       0.64      0.70      0.65      1625\n",
            "weighted avg       0.67      0.60      0.59      1625\n",
            "\n",
            "Confusion Matrix: \n",
            " [[ 20   0   0   1   0   0   1   1]\n",
            " [  0 373  15   2   8   9   2   0]\n",
            " [  0   1  55   0   1   2   0   1]\n",
            " [  0   2   0  70   8   6  52   0]\n",
            " [  0   3   1   1  44  35   1   1]\n",
            " [  5 342  14  18  41 248  20   3]\n",
            " [  0   2   0  33   1   4  59   4]\n",
            " [  0   1   0   0   0   1   1 112]]\n"
          ]
        },
        {
          "metadata": {
            "tags": null
          },
          "name": "stderr",
          "output_type": "stream",
          "text": [
            "Epoch 57: 100%|███████████████████████████████████████████████████████| 8/8 [02:17<00:00, 17.24s/it]\n"
          ]
        },
        {
          "metadata": {
            "tags": null
          },
          "name": "stdout",
          "output_type": "stream",
          "text": [
            "Average Loss =  tensor([10.7466], device='cuda:0', grad_fn=<DivBackward0>)\n"
          ]
        },
        {
          "metadata": {
            "tags": null
          },
          "name": "stderr",
          "output_type": "stream",
          "text": [
            "Validating 57: 100%|██████████████████████████████████████████████████| 2/2 [00:30<00:00, 15.08s/it]\n"
          ]
        },
        {
          "metadata": {
            "tags": null
          },
          "name": "stdout",
          "output_type": "stream",
          "text": [
            "              precision    recall  f1-score   support\n",
            "\n",
            "           0       0.73      0.83      0.78        23\n",
            "           1       0.80      0.80      0.80       409\n",
            "           2       0.59      0.92      0.71        60\n",
            "           3       0.50      0.74      0.60       138\n",
            "           4       0.44      0.77      0.56        86\n",
            "           5       0.85      0.69      0.76       691\n",
            "           6       0.52      0.35      0.42       103\n",
            "           7       0.97      0.97      0.97       115\n",
            "\n",
            "    accuracy                           0.74      1625\n",
            "   macro avg       0.68      0.76      0.70      1625\n",
            "weighted avg       0.76      0.74      0.74      1625\n",
            "\n",
            "Confusion Matrix: \n",
            " [[ 19   0   0   3   0   0   1   0]\n",
            " [  0 328  18   3   6  53   1   0]\n",
            " [  0   1  55   0   2   1   0   1]\n",
            " [  1   2   0 102   9   6  18   0]\n",
            " [  1   0   1   1  66  17   0   0]\n",
            " [  5  76  20  35  64 477  12   2]\n",
            " [  0   1   0  59   3   4  36   0]\n",
            " [  0   1   0   0   0   1   1 112]]\n"
          ]
        },
        {
          "metadata": {
            "tags": null
          },
          "name": "stderr",
          "output_type": "stream",
          "text": [
            "Epoch 58: 100%|███████████████████████████████████████████████████████| 8/8 [02:18<00:00, 17.29s/it]\n"
          ]
        },
        {
          "metadata": {
            "tags": null
          },
          "name": "stdout",
          "output_type": "stream",
          "text": [
            "Average Loss =  tensor([10.6859], device='cuda:0', grad_fn=<DivBackward0>)\n"
          ]
        },
        {
          "metadata": {
            "tags": null
          },
          "name": "stderr",
          "output_type": "stream",
          "text": [
            "Validating 58: 100%|██████████████████████████████████████████████████| 2/2 [00:29<00:00, 14.93s/it]\n"
          ]
        },
        {
          "metadata": {
            "tags": null
          },
          "name": "stdout",
          "output_type": "stream",
          "text": [
            "              precision    recall  f1-score   support\n",
            "\n",
            "           0       0.45      0.91      0.60        23\n",
            "           1       0.82      0.79      0.80       409\n",
            "           2       0.85      0.88      0.87        60\n",
            "           3       0.39      0.67      0.50       138\n",
            "           4       0.28      0.67      0.40        86\n",
            "           5       0.87      0.55      0.67       691\n",
            "           6       0.34      0.45      0.39       103\n",
            "           7       0.98      0.96      0.97       115\n",
            "\n",
            "    accuracy                           0.67      1625\n",
            "   macro avg       0.62      0.74      0.65      1625\n",
            "weighted avg       0.75      0.67      0.69      1625\n",
            "\n",
            "Confusion Matrix: \n",
            " [[ 21   0   0   0   0   0   2   0]\n",
            " [  1 322   1   5  19  56   5   0]\n",
            " [  1   3  53   0   2   0   1   0]\n",
            " [  8   0   0  93   4   1  32   0]\n",
            " [  1   0   1  17  58   1   8   0]\n",
            " [ 10  65   7  71 119 379  39   1]\n",
            " [  3   1   0  49   2   1  46   1]\n",
            " [  2   1   0   1   0   0   1 110]]\n"
          ]
        },
        {
          "metadata": {
            "tags": null
          },
          "name": "stderr",
          "output_type": "stream",
          "text": [
            "Epoch 59: 100%|███████████████████████████████████████████████████████| 8/8 [02:16<00:00, 17.01s/it]\n"
          ]
        },
        {
          "metadata": {
            "tags": null
          },
          "name": "stdout",
          "output_type": "stream",
          "text": [
            "Average Loss =  tensor([10.8114], device='cuda:0', grad_fn=<DivBackward0>)\n"
          ]
        },
        {
          "metadata": {
            "tags": null
          },
          "name": "stderr",
          "output_type": "stream",
          "text": [
            "Validating 59: 100%|██████████████████████████████████████████████████| 2/2 [00:28<00:00, 14.38s/it]\n"
          ]
        },
        {
          "metadata": {
            "tags": null
          },
          "name": "stdout",
          "output_type": "stream",
          "text": [
            "              precision    recall  f1-score   support\n",
            "\n",
            "           0       0.66      0.91      0.76        23\n",
            "           1       0.84      0.43      0.56       409\n",
            "           2       0.90      0.87      0.88        60\n",
            "           3       0.48      0.74      0.58       138\n",
            "           4       0.31      0.87      0.46        86\n",
            "           5       0.70      0.68      0.69       691\n",
            "           6       0.43      0.41      0.42       103\n",
            "           7       0.99      0.96      0.97       115\n",
            "\n",
            "    accuracy                           0.64      1625\n",
            "   macro avg       0.66      0.73      0.67      1625\n",
            "weighted avg       0.71      0.64      0.65      1625\n",
            "\n",
            "Confusion Matrix: \n",
            " [[ 21   0   0   0   0   0   2   0]\n",
            " [  1 174   0   2  36 192   4   0]\n",
            " [  0   3  52   0   3   1   1   0]\n",
            " [  2   0   0 102   5   1  28   0]\n",
            " [  0   1   0   6  75   3   1   0]\n",
            " [  5  28   6  45 121 467  18   1]\n",
            " [  1   1   0  56   1   2  42   0]\n",
            " [  2   1   0   0   0   1   1 110]]\n"
          ]
        },
        {
          "metadata": {
            "tags": null
          },
          "name": "stderr",
          "output_type": "stream",
          "text": [
            "Epoch 60: 100%|███████████████████████████████████████████████████████| 8/8 [02:16<00:00, 17.02s/it]\n"
          ]
        },
        {
          "metadata": {
            "tags": null
          },
          "name": "stdout",
          "output_type": "stream",
          "text": [
            "Average Loss =  tensor([10.5678], device='cuda:0', grad_fn=<DivBackward0>)\n"
          ]
        },
        {
          "metadata": {
            "tags": null
          },
          "name": "stderr",
          "output_type": "stream",
          "text": [
            "Validating 60: 100%|██████████████████████████████████████████████████| 2/2 [00:28<00:00, 14.28s/it]\n"
          ]
        },
        {
          "metadata": {
            "tags": null
          },
          "name": "stdout",
          "output_type": "stream",
          "text": [
            "              precision    recall  f1-score   support\n",
            "\n",
            "           0       0.74      0.74      0.74        23\n",
            "           1       0.81      0.89      0.85       409\n",
            "           2       0.89      0.70      0.79        60\n",
            "           3       0.53      0.65      0.58       138\n",
            "           4       0.45      0.53      0.49        86\n",
            "           5       0.88      0.77      0.82       691\n",
            "           6       0.45      0.50      0.47       103\n",
            "           7       0.99      0.96      0.97       115\n",
            "\n",
            "    accuracy                           0.77      1625\n",
            "   macro avg       0.72      0.72      0.71      1625\n",
            "weighted avg       0.79      0.77      0.78      1625\n",
            "\n",
            "Confusion Matrix: \n",
            " [[ 17   0   0   4   0   0   2   0]\n",
            " [  0 366   0   2  12  27   2   0]\n",
            " [  0  13  42   1   1   2   1   0]\n",
            " [  0   0   0  90   4   4  40   0]\n",
            " [  0   1   0   4  46  34   1   0]\n",
            " [  4  71   5  22  40 533  15   1]\n",
            " [  0   1   0  47   0   4  51   0]\n",
            " [  2   1   0   0   0   1   1 110]]\n"
          ]
        },
        {
          "metadata": {
            "tags": null
          },
          "name": "stderr",
          "output_type": "stream",
          "text": [
            "Epoch 61: 100%|███████████████████████████████████████████████████████| 8/8 [02:15<00:00, 16.97s/it]\n"
          ]
        },
        {
          "metadata": {
            "tags": null
          },
          "name": "stdout",
          "output_type": "stream",
          "text": [
            "Average Loss =  tensor([10.5196], device='cuda:0', grad_fn=<DivBackward0>)\n"
          ]
        },
        {
          "metadata": {
            "tags": null
          },
          "name": "stderr",
          "output_type": "stream",
          "text": [
            "Validating 61: 100%|██████████████████████████████████████████████████| 2/2 [00:28<00:00, 14.37s/it]\n"
          ]
        },
        {
          "metadata": {
            "tags": null
          },
          "name": "stdout",
          "output_type": "stream",
          "text": [
            "              precision    recall  f1-score   support\n",
            "\n",
            "           0       0.70      0.91      0.79        23\n",
            "           1       0.89      0.80      0.84       409\n",
            "           2       0.52      0.92      0.66        60\n",
            "           3       0.59      0.62      0.60       138\n",
            "           4       0.33      0.92      0.48        86\n",
            "           5       0.91      0.65      0.76       691\n",
            "           6       0.48      0.58      0.53       103\n",
            "           7       0.97      0.98      0.98       115\n",
            "\n",
            "    accuracy                           0.73      1625\n",
            "   macro avg       0.67      0.80      0.71      1625\n",
            "weighted avg       0.81      0.73      0.75      1625\n",
            "\n",
            "Confusion Matrix: \n",
            " [[ 21   0   0   0   0   0   1   1]\n",
            " [  1 326  29   0  15  36   2   0]\n",
            " [  0   0  55   0   3   1   1   0]\n",
            " [  1   0   0  85   5   2  45   0]\n",
            " [  0   0   1   1  79   4   1   0]\n",
            " [  5  39  19  23 140 450  14   1]\n",
            " [  2   0   1  36   1   2  60   1]\n",
            " [  0   0   1   0   0   1   0 113]]\n"
          ]
        },
        {
          "metadata": {
            "tags": null
          },
          "name": "stderr",
          "output_type": "stream",
          "text": [
            "Epoch 62: 100%|███████████████████████████████████████████████████████| 8/8 [02:16<00:00, 17.04s/it]\n"
          ]
        },
        {
          "metadata": {
            "tags": null
          },
          "name": "stdout",
          "output_type": "stream",
          "text": [
            "Average Loss =  tensor([10.4364], device='cuda:0', grad_fn=<DivBackward0>)\n"
          ]
        },
        {
          "metadata": {
            "tags": null
          },
          "name": "stderr",
          "output_type": "stream",
          "text": [
            "Validating 62: 100%|██████████████████████████████████████████████████| 2/2 [00:28<00:00, 14.36s/it]\n"
          ]
        },
        {
          "metadata": {
            "tags": null
          },
          "name": "stdout",
          "output_type": "stream",
          "text": [
            "              precision    recall  f1-score   support\n",
            "\n",
            "           0       0.48      0.91      0.63        23\n",
            "           1       0.91      0.87      0.89       409\n",
            "           2       0.78      0.90      0.84        60\n",
            "           3       0.53      0.84      0.65       138\n",
            "           4       0.31      0.93      0.46        86\n",
            "           5       0.93      0.63      0.75       691\n",
            "           6       0.55      0.42      0.48       103\n",
            "           7       1.00      0.83      0.91       115\n",
            "\n",
            "    accuracy                           0.74      1625\n",
            "   macro avg       0.69      0.79      0.70      1625\n",
            "weighted avg       0.82      0.74      0.76      1625\n",
            "\n",
            "Confusion Matrix: \n",
            " [[ 21   0   0   0   0   1   1   0]\n",
            " [  1 354   4   4  18  25   3   0]\n",
            " [  0   1  54   0   3   1   1   0]\n",
            " [  2   0   0 116   2   3  15   0]\n",
            " [  0   1   0   3  80   2   0   0]\n",
            " [  4  34  11  39 154 435  14   0]\n",
            " [  0   0   0  56   2   2  43   0]\n",
            " [ 16   1   0   1   0   0   1  96]]\n"
          ]
        },
        {
          "metadata": {
            "tags": null
          },
          "name": "stderr",
          "output_type": "stream",
          "text": [
            "Epoch 63: 100%|███████████████████████████████████████████████████████| 8/8 [02:16<00:00, 17.05s/it]\n"
          ]
        },
        {
          "metadata": {
            "tags": null
          },
          "name": "stdout",
          "output_type": "stream",
          "text": [
            "Average Loss =  tensor([10.4073], device='cuda:0', grad_fn=<DivBackward0>)\n"
          ]
        },
        {
          "metadata": {
            "tags": null
          },
          "name": "stderr",
          "output_type": "stream",
          "text": [
            "Validating 63: 100%|██████████████████████████████████████████████████| 2/2 [00:28<00:00, 14.36s/it]\n"
          ]
        },
        {
          "metadata": {
            "tags": null
          },
          "name": "stdout",
          "output_type": "stream",
          "text": [
            "              precision    recall  f1-score   support\n",
            "\n",
            "           0       0.81      0.91      0.86        23\n",
            "           1       0.87      0.90      0.88       409\n",
            "           2       0.93      0.88      0.91        60\n",
            "           3       0.63      0.64      0.64       138\n",
            "           4       0.55      0.86      0.67        86\n",
            "           5       0.91      0.82      0.86       691\n",
            "           6       0.55      0.56      0.56       103\n",
            "           7       1.00      0.97      0.98       115\n",
            "\n",
            "    accuracy                           0.83      1625\n",
            "   macro avg       0.78      0.82      0.79      1625\n",
            "weighted avg       0.84      0.83      0.83      1625\n",
            "\n",
            "Confusion Matrix: \n",
            " [[ 21   0   0   0   0   1   1   0]\n",
            " [  0 368   0   2   8  31   0   0]\n",
            " [  0   2  53   0   3   2   0   0]\n",
            " [  1   0   0  88   5   7  37   0]\n",
            " [  0   1   0   0  74  11   0   0]\n",
            " [  3  52   4  11  43 568  10   0]\n",
            " [  0   1   0  38   2   4  58   0]\n",
            " [  1   1   0   0   0   2   0 111]]\n"
          ]
        },
        {
          "metadata": {
            "tags": null
          },
          "name": "stderr",
          "output_type": "stream",
          "text": [
            "Epoch 64: 100%|███████████████████████████████████████████████████████| 8/8 [02:16<00:00, 17.11s/it]\n"
          ]
        },
        {
          "metadata": {
            "tags": null
          },
          "name": "stdout",
          "output_type": "stream",
          "text": [
            "Average Loss =  tensor([10.1797], device='cuda:0', grad_fn=<DivBackward0>)\n"
          ]
        },
        {
          "metadata": {
            "tags": null
          },
          "name": "stderr",
          "output_type": "stream",
          "text": [
            "Validating 64: 100%|██████████████████████████████████████████████████| 2/2 [00:28<00:00, 14.30s/it]\n"
          ]
        },
        {
          "metadata": {
            "tags": null
          },
          "name": "stdout",
          "output_type": "stream",
          "text": [
            "              precision    recall  f1-score   support\n",
            "\n",
            "           0       0.91      0.91      0.91        23\n",
            "           1       0.90      0.84      0.87       409\n",
            "           2       0.52      0.90      0.66        60\n",
            "           3       0.59      0.88      0.71       138\n",
            "           4       0.50      0.88      0.64        86\n",
            "           5       0.94      0.78      0.85       691\n",
            "           6       0.70      0.45      0.54       103\n",
            "           7       0.97      0.98      0.97       115\n",
            "\n",
            "    accuracy                           0.81      1625\n",
            "   macro avg       0.75      0.83      0.77      1625\n",
            "weighted avg       0.85      0.81      0.82      1625\n",
            "\n",
            "Confusion Matrix: \n",
            " [[ 21   0   0   0   0   1   0   1]\n",
            " [  0 343  31   0   9  23   2   1]\n",
            " [  0   1  54   0   2   2   1   0]\n",
            " [  0   0   0 121   3   3  11   0]\n",
            " [  0   2   0   4  76   4   0   0]\n",
            " [  2  33  18  27  61 542   6   2]\n",
            " [  0   0   1  53   0   3  46   0]\n",
            " [  0   1   0   0   0   1   0 113]]\n"
          ]
        },
        {
          "metadata": {
            "tags": null
          },
          "name": "stderr",
          "output_type": "stream",
          "text": [
            "Epoch 65: 100%|███████████████████████████████████████████████████████| 8/8 [02:17<00:00, 17.18s/it]\n"
          ]
        },
        {
          "metadata": {
            "tags": null
          },
          "name": "stdout",
          "output_type": "stream",
          "text": [
            "Average Loss =  tensor([10.1927], device='cuda:0', grad_fn=<DivBackward0>)\n"
          ]
        },
        {
          "metadata": {
            "tags": null
          },
          "name": "stderr",
          "output_type": "stream",
          "text": [
            "Validating 65: 100%|██████████████████████████████████████████████████| 2/2 [00:29<00:00, 14.62s/it]\n"
          ]
        },
        {
          "metadata": {
            "tags": null
          },
          "name": "stdout",
          "output_type": "stream",
          "text": [
            "              precision    recall  f1-score   support\n",
            "\n",
            "           0       0.68      0.91      0.78        23\n",
            "           1       0.91      0.73      0.81       409\n",
            "           2       0.90      0.90      0.90        60\n",
            "           3       0.55      0.91      0.69       138\n",
            "           4       0.42      0.94      0.58        86\n",
            "           5       0.83      0.76      0.80       691\n",
            "           6       0.69      0.32      0.44       103\n",
            "           7       1.00      0.93      0.96       115\n",
            "\n",
            "    accuracy                           0.77      1625\n",
            "   macro avg       0.75      0.80      0.74      1625\n",
            "weighted avg       0.81      0.77      0.77      1625\n",
            "\n",
            "Confusion Matrix: \n",
            " [[ 21   0   0   0   0   1   1   0]\n",
            " [  1 297   0   1  14  95   1   0]\n",
            " [  0   1  54   2   3   0   0   0]\n",
            " [  0   0   0 126   2   4   6   0]\n",
            " [  0   1   0   1  81   3   0   0]\n",
            " [  4  25   6  32  90 527   7   0]\n",
            " [  0   1   0  66   1   2  33   0]\n",
            " [  5   0   0   1   0   2   0 107]]\n"
          ]
        },
        {
          "output_type": "stream",
          "name": "stderr",
          "text": [
            "Epoch 66: 100%|███████████████████████████████████████████████████████| 8/8 [02:18<00:00, 17.31s/it]\n"
          ]
        },
        {
          "output_type": "stream",
          "name": "stdout",
          "text": [
            "Average Loss =  tensor([10.0081], device='cuda:0', grad_fn=<DivBackward0>)\n"
          ]
        },
        {
          "output_type": "stream",
          "name": "stderr",
          "text": [
            "Validating 66: 100%|██████████████████████████████████████████████████| 2/2 [00:29<00:00, 14.93s/it]\n"
          ]
        },
        {
          "output_type": "stream",
          "name": "stdout",
          "text": [
            "              precision    recall  f1-score   support\n",
            "\n",
            "           0       0.84      0.91      0.87        23\n",
            "           1       0.91      0.89      0.90       409\n",
            "           2       0.82      0.92      0.87        60\n",
            "           3       0.60      0.78      0.68       138\n",
            "           4       0.60      0.91      0.72        86\n",
            "           5       0.93      0.82      0.87       691\n",
            "           6       0.54      0.51      0.52       103\n",
            "           7       0.97      0.97      0.97       115\n",
            "\n",
            "    accuracy                           0.83      1625\n",
            "   macro avg       0.78      0.84      0.80      1625\n",
            "weighted avg       0.85      0.83      0.84      1625\n",
            "\n",
            "Confusion Matrix: \n",
            " [[ 21   0   0   0   0   1   1   0]\n",
            " [  0 363   3   1   6  33   2   1]\n",
            " [  0   1  55   0   0   2   2   0]\n",
            " [  0   1   0 108   3   4  22   0]\n",
            " [  0   0   1   2  78   2   3   0]\n",
            " [  4  32   8  23  41 565  16   2]\n",
            " [  0   1   0  46   2   1  53   0]\n",
            " [  0   1   0   0   0   2   0 112]]\n"
          ]
        },
        {
          "output_type": "stream",
          "name": "stderr",
          "text": [
            "Epoch 67: 100%|███████████████████████████████████████████████████████| 8/8 [02:15<00:00, 16.95s/it]\n"
          ]
        },
        {
          "output_type": "stream",
          "name": "stdout",
          "text": [
            "Average Loss =  tensor([10.0963], device='cuda:0', grad_fn=<DivBackward0>)\n"
          ]
        },
        {
          "output_type": "stream",
          "name": "stderr",
          "text": [
            "Validating 67: 100%|██████████████████████████████████████████████████| 2/2 [00:29<00:00, 14.62s/it]\n"
          ]
        },
        {
          "output_type": "stream",
          "name": "stdout",
          "text": [
            "              precision    recall  f1-score   support\n",
            "\n",
            "           0       0.81      0.91      0.86        23\n",
            "           1       0.91      0.88      0.89       409\n",
            "           2       0.75      0.92      0.83        60\n",
            "           3       0.68      0.78      0.72       138\n",
            "           4       0.64      0.92      0.76        86\n",
            "           5       0.90      0.87      0.88       691\n",
            "           6       0.72      0.48      0.57       103\n",
            "           7       0.99      0.97      0.98       115\n",
            "\n",
            "    accuracy                           0.85      1625\n",
            "   macro avg       0.80      0.84      0.81      1625\n",
            "weighted avg       0.86      0.85      0.85      1625\n",
            "\n",
            "Confusion Matrix: \n",
            " [[ 21   0   0   0   0   2   0   0]\n",
            " [  0 359   7   0   5  37   0   1]\n",
            " [  0   1  55   0   1   2   1   0]\n",
            " [  0   2   0 108   3  12  13   0]\n",
            " [  0   1   1   0  79   5   0   0]\n",
            " [  4  32  10   8  34 598   5   0]\n",
            " [  0   0   0  44   1   9  49   0]\n",
            " [  1   1   0   0   0   2   0 111]]\n"
          ]
        },
        {
          "output_type": "stream",
          "name": "stderr",
          "text": [
            "Epoch 68: 100%|███████████████████████████████████████████████████████| 8/8 [02:18<00:00, 17.26s/it]\n"
          ]
        },
        {
          "output_type": "stream",
          "name": "stdout",
          "text": [
            "Average Loss =  tensor([9.8509], device='cuda:0', grad_fn=<DivBackward0>)\n"
          ]
        },
        {
          "output_type": "stream",
          "name": "stderr",
          "text": [
            "Validating 68: 100%|██████████████████████████████████████████████████| 2/2 [00:29<00:00, 14.91s/it]\n"
          ]
        },
        {
          "output_type": "stream",
          "name": "stdout",
          "text": [
            "              precision    recall  f1-score   support\n",
            "\n",
            "           0       0.81      0.91      0.86        23\n",
            "           1       0.87      0.93      0.90       409\n",
            "           2       0.90      0.92      0.91        60\n",
            "           3       0.73      0.73      0.73       138\n",
            "           4       0.70      0.94      0.81        86\n",
            "           5       0.94      0.84      0.89       691\n",
            "           6       0.62      0.67      0.64       103\n",
            "           7       0.97      0.98      0.98       115\n",
            "\n",
            "    accuracy                           0.86      1625\n",
            "   macro avg       0.82      0.87      0.84      1625\n",
            "weighted avg       0.87      0.86      0.86      1625\n",
            "\n",
            "Confusion Matrix: \n",
            " [[ 21   0   0   0   0   1   0   1]\n",
            " [  1 380   1   0   7  20   0   0]\n",
            " [  0   1  55   0   1   2   1   0]\n",
            " [  0   3   0 101   2   5  27   0]\n",
            " [  0   1   1   0  81   3   0   0]\n",
            " [  4  50   4  11  24 582  15   1]\n",
            " [  0   1   0  27   0   5  69   1]\n",
            " [  0   0   0   0   0   2   0 113]]\n"
          ]
        },
        {
          "output_type": "stream",
          "name": "stderr",
          "text": [
            "Epoch 69: 100%|███████████████████████████████████████████████████████| 8/8 [02:17<00:00, 17.19s/it]\n"
          ]
        },
        {
          "output_type": "stream",
          "name": "stdout",
          "text": [
            "Average Loss =  tensor([9.7189], device='cuda:0', grad_fn=<DivBackward0>)\n"
          ]
        },
        {
          "output_type": "stream",
          "name": "stderr",
          "text": [
            "Validating 69: 100%|██████████████████████████████████████████████████| 2/2 [00:29<00:00, 14.54s/it]\n"
          ]
        },
        {
          "output_type": "stream",
          "name": "stdout",
          "text": [
            "              precision    recall  f1-score   support\n",
            "\n",
            "           0       0.72      0.91      0.81        23\n",
            "           1       0.88      0.93      0.91       409\n",
            "           2       0.86      0.93      0.90        60\n",
            "           3       0.69      0.83      0.76       138\n",
            "           4       0.64      0.94      0.76        86\n",
            "           5       0.95      0.85      0.89       691\n",
            "           6       0.75      0.55      0.64       103\n",
            "           7       0.98      0.97      0.98       115\n",
            "\n",
            "    accuracy                           0.87      1625\n",
            "   macro avg       0.81      0.87      0.83      1625\n",
            "weighted avg       0.88      0.87      0.87      1625\n",
            "\n",
            "Confusion Matrix: \n",
            " [[ 21   0   0   0   0   1   0   1]\n",
            " [  1 381   2   1   6  18   0   0]\n",
            " [  0   0  56   0   1   2   1   0]\n",
            " [  1   2   0 115   3   4  13   0]\n",
            " [  0   1   1   0  81   3   0   0]\n",
            " [  5  45   6  14  32 584   5   0]\n",
            " [  1   2   0  36   3   3  57   1]\n",
            " [  0   1   0   0   0   2   0 112]]\n"
          ]
        },
        {
          "output_type": "stream",
          "name": "stderr",
          "text": [
            "Epoch 70: 100%|███████████████████████████████████████████████████████| 8/8 [02:15<00:00, 16.92s/it]\n"
          ]
        },
        {
          "output_type": "stream",
          "name": "stdout",
          "text": [
            "Average Loss =  tensor([9.7837], device='cuda:0', grad_fn=<DivBackward0>)\n"
          ]
        },
        {
          "output_type": "stream",
          "name": "stderr",
          "text": [
            "Validating 70: 100%|██████████████████████████████████████████████████| 2/2 [00:28<00:00, 14.45s/it]\n"
          ]
        },
        {
          "output_type": "stream",
          "name": "stdout",
          "text": [
            "              precision    recall  f1-score   support\n",
            "\n",
            "           0       0.72      0.91      0.81        23\n",
            "           1       0.93      0.90      0.92       409\n",
            "           2       0.85      0.92      0.88        60\n",
            "           3       0.67      0.41      0.51       138\n",
            "           4       0.46      0.95      0.62        86\n",
            "           5       0.95      0.80      0.87       691\n",
            "           6       0.48      0.85      0.62       103\n",
            "           7       1.00      0.97      0.98       115\n",
            "\n",
            "    accuracy                           0.82      1625\n",
            "   macro avg       0.76      0.84      0.77      1625\n",
            "weighted avg       0.86      0.82      0.83      1625\n",
            "\n",
            "Confusion Matrix: \n",
            " [[ 21   0   0   0   0   1   1   0]\n",
            " [  1 369   1   3  18  16   1   0]\n",
            " [  0   0  55   0   2   2   1   0]\n",
            " [  1   0   0  56   3   5  73   0]\n",
            " [  0   1   0   1  82   2   0   0]\n",
            " [  5  24   9  14  69 551  19   0]\n",
            " [  0   1   0   8   3   3  88   0]\n",
            " [  1   0   0   1   1   1   0 111]]\n"
          ]
        },
        {
          "output_type": "stream",
          "name": "stderr",
          "text": [
            "Epoch 71: 100%|███████████████████████████████████████████████████████| 8/8 [02:17<00:00, 17.14s/it]\n"
          ]
        },
        {
          "output_type": "stream",
          "name": "stdout",
          "text": [
            "Average Loss =  tensor([9.7023], device='cuda:0', grad_fn=<DivBackward0>)\n"
          ]
        },
        {
          "output_type": "stream",
          "name": "stderr",
          "text": [
            "Validating 71: 100%|██████████████████████████████████████████████████| 2/2 [00:28<00:00, 14.20s/it]\n"
          ]
        },
        {
          "output_type": "stream",
          "name": "stdout",
          "text": [
            "              precision    recall  f1-score   support\n",
            "\n",
            "           0       0.91      0.91      0.91        23\n",
            "           1       0.86      0.94      0.90       409\n",
            "           2       0.76      0.92      0.83        60\n",
            "           3       0.77      0.80      0.78       138\n",
            "           4       0.79      0.94      0.86        86\n",
            "           5       0.95      0.86      0.90       691\n",
            "           6       0.71      0.70      0.70       103\n",
            "           7       0.99      0.97      0.98       115\n",
            "\n",
            "    accuracy                           0.88      1625\n",
            "   macro avg       0.84      0.88      0.86      1625\n",
            "weighted avg       0.88      0.88      0.88      1625\n",
            "\n",
            "Confusion Matrix: \n",
            " [[ 21   0   0   0   0   2   0   0]\n",
            " [  0 383   7   0   4  14   0   1]\n",
            " [  0   1  55   0   2   2   0   0]\n",
            " [  0   3   0 111   2   4  18   0]\n",
            " [  0   1   1   0  81   3   0   0]\n",
            " [  2  53   9  11  12 592  12   0]\n",
            " [  0   2   0  23   2   4  72   0]\n",
            " [  0   1   0   0   0   2   0 112]]\n"
          ]
        },
        {
          "output_type": "stream",
          "name": "stderr",
          "text": [
            "Epoch 72: 100%|███████████████████████████████████████████████████████| 8/8 [02:16<00:00, 17.11s/it]\n"
          ]
        },
        {
          "output_type": "stream",
          "name": "stdout",
          "text": [
            "Average Loss =  tensor([9.6651], device='cuda:0', grad_fn=<DivBackward0>)\n"
          ]
        },
        {
          "output_type": "stream",
          "name": "stderr",
          "text": [
            "Validating 72: 100%|██████████████████████████████████████████████████| 2/2 [00:28<00:00, 14.17s/it]\n"
          ]
        },
        {
          "output_type": "stream",
          "name": "stdout",
          "text": [
            "              precision    recall  f1-score   support\n",
            "\n",
            "           0       0.88      0.91      0.89        23\n",
            "           1       0.94      0.92      0.93       409\n",
            "           2       0.81      0.92      0.86        60\n",
            "           3       0.80      0.77      0.78       138\n",
            "           4       0.77      0.95      0.85        86\n",
            "           5       0.93      0.90      0.91       691\n",
            "           6       0.72      0.75      0.73       103\n",
            "           7       0.99      0.97      0.98       115\n",
            "\n",
            "    accuracy                           0.89      1625\n",
            "   macro avg       0.85      0.89      0.87      1625\n",
            "weighted avg       0.90      0.89      0.90      1625\n",
            "\n",
            "Confusion Matrix: \n",
            " [[ 21   0   0   0   0   2   0   0]\n",
            " [  0 378   4   0   4  22   0   1]\n",
            " [  0   0  55   0   2   3   0   0]\n",
            " [  0   0   0 106   4   9  19   0]\n",
            " [  0   0   1   0  82   3   0   0]\n",
            " [  3  24   8   8  14 623  11   0]\n",
            " [  0   0   0  19   1   6  77   0]\n",
            " [  0   0   0   0   0   3   0 112]]\n"
          ]
        },
        {
          "output_type": "stream",
          "name": "stderr",
          "text": [
            "Epoch 73: 100%|███████████████████████████████████████████████████████| 8/8 [02:15<00:00, 16.88s/it]\n"
          ]
        },
        {
          "output_type": "stream",
          "name": "stdout",
          "text": [
            "Average Loss =  tensor([9.4238], device='cuda:0', grad_fn=<DivBackward0>)\n"
          ]
        },
        {
          "output_type": "stream",
          "name": "stderr",
          "text": [
            "Validating 73: 100%|██████████████████████████████████████████████████| 2/2 [00:28<00:00, 14.24s/it]\n"
          ]
        },
        {
          "output_type": "stream",
          "name": "stdout",
          "text": [
            "              precision    recall  f1-score   support\n",
            "\n",
            "           0       0.78      0.91      0.84        23\n",
            "           1       0.94      0.93      0.93       409\n",
            "           2       0.79      0.92      0.85        60\n",
            "           3       0.68      0.71      0.70       138\n",
            "           4       0.52      0.95      0.67        86\n",
            "           5       0.98      0.82      0.89       691\n",
            "           6       0.65      0.88      0.75       103\n",
            "           7       1.00      0.97      0.99       115\n",
            "\n",
            "    accuracy                           0.86      1625\n",
            "   macro avg       0.79      0.89      0.83      1625\n",
            "weighted avg       0.89      0.86      0.87      1625\n",
            "\n",
            "Confusion Matrix: \n",
            " [[ 21   0   0   1   0   0   1   0]\n",
            " [  1 379   2   7  12   7   1   0]\n",
            " [  0   0  55   1   3   0   1   0]\n",
            " [  1   2   0  98   3   0  34   0]\n",
            " [  0   0   1   2  82   1   0   0]\n",
            " [  4  20  12  27  52 565  11   0]\n",
            " [  0   1   0   6   4   1  91   0]\n",
            " [  0   0   0   2   1   0   0 112]]\n"
          ]
        },
        {
          "output_type": "stream",
          "name": "stderr",
          "text": [
            "Epoch 74: 100%|███████████████████████████████████████████████████████| 8/8 [02:18<00:00, 17.29s/it]\n"
          ]
        },
        {
          "output_type": "stream",
          "name": "stdout",
          "text": [
            "Average Loss =  tensor([9.4583], device='cuda:0', grad_fn=<DivBackward0>)\n"
          ]
        },
        {
          "output_type": "stream",
          "name": "stderr",
          "text": [
            "Validating 74: 100%|██████████████████████████████████████████████████| 2/2 [00:28<00:00, 14.29s/it]\n"
          ]
        },
        {
          "output_type": "stream",
          "name": "stdout",
          "text": [
            "              precision    recall  f1-score   support\n",
            "\n",
            "           0       0.88      0.91      0.89        23\n",
            "           1       0.94      0.93      0.93       409\n",
            "           2       0.90      0.92      0.91        60\n",
            "           3       0.87      0.74      0.80       138\n",
            "           4       0.69      0.95      0.80        86\n",
            "           5       0.94      0.89      0.91       691\n",
            "           6       0.68      0.89      0.77       103\n",
            "           7       1.00      0.97      0.99       115\n",
            "\n",
            "    accuracy                           0.90      1625\n",
            "   macro avg       0.86      0.90      0.88      1625\n",
            "weighted avg       0.91      0.90      0.90      1625\n",
            "\n",
            "Confusion Matrix: \n",
            " [[ 21   0   0   0   0   2   0   0]\n",
            " [  1 380   1   1   3  21   2   0]\n",
            " [  0   1  55   0   2   1   1   0]\n",
            " [  0   2   0 102   1   8  25   0]\n",
            " [  0   1   0   1  82   2   0   0]\n",
            " [  2  22   5   7  26 614  15   0]\n",
            " [  0   0   0   6   3   2  92   0]\n",
            " [  0   0   0   0   1   2   0 112]]\n"
          ]
        },
        {
          "output_type": "stream",
          "name": "stderr",
          "text": [
            "Epoch 75: 100%|███████████████████████████████████████████████████████| 8/8 [02:14<00:00, 16.80s/it]\n"
          ]
        },
        {
          "output_type": "stream",
          "name": "stdout",
          "text": [
            "Average Loss =  tensor([9.3684], device='cuda:0', grad_fn=<DivBackward0>)\n"
          ]
        },
        {
          "output_type": "stream",
          "name": "stderr",
          "text": [
            "Validating 75: 100%|██████████████████████████████████████████████████| 2/2 [00:28<00:00, 14.17s/it]\n"
          ]
        },
        {
          "output_type": "stream",
          "name": "stdout",
          "text": [
            "              precision    recall  f1-score   support\n",
            "\n",
            "           0       0.84      0.91      0.87        23\n",
            "           1       0.96      0.90      0.93       409\n",
            "           2       0.86      0.93      0.90        60\n",
            "           3       0.64      0.94      0.76       138\n",
            "           4       0.90      0.92      0.91        86\n",
            "           5       0.94      0.91      0.92       691\n",
            "           6       0.82      0.62      0.71       103\n",
            "           7       0.98      0.97      0.98       115\n",
            "\n",
            "    accuracy                           0.90      1625\n",
            "   macro avg       0.87      0.89      0.87      1625\n",
            "weighted avg       0.91      0.90      0.90      1625\n",
            "\n",
            "Confusion Matrix: \n",
            " [[ 21   0   0   1   0   1   0   0]\n",
            " [  1 369   1   7   2  28   1   0]\n",
            " [  0   0  56   0   0   3   1   0]\n",
            " [  0   1   0 130   0   3   4   0]\n",
            " [  0   0   1   2  79   3   1   0]\n",
            " [  3  13   7  27   7 626   7   1]\n",
            " [  0   0   0  34   0   4  64   1]\n",
            " [  0   0   0   2   0   1   0 112]]\n"
          ]
        },
        {
          "output_type": "stream",
          "name": "stderr",
          "text": [
            "Epoch 76: 100%|███████████████████████████████████████████████████████| 8/8 [02:12<00:00, 16.57s/it]\n"
          ]
        },
        {
          "output_type": "stream",
          "name": "stdout",
          "text": [
            "Average Loss =  tensor([9.3627], device='cuda:0', grad_fn=<DivBackward0>)\n"
          ]
        },
        {
          "output_type": "stream",
          "name": "stderr",
          "text": [
            "Validating 76: 100%|██████████████████████████████████████████████████| 2/2 [00:28<00:00, 14.28s/it]\n"
          ]
        },
        {
          "output_type": "stream",
          "name": "stdout",
          "text": [
            "              precision    recall  f1-score   support\n",
            "\n",
            "           0       0.64      0.91      0.75        23\n",
            "           1       0.94      0.92      0.93       409\n",
            "           2       0.81      0.92      0.86        60\n",
            "           3       0.87      0.78      0.82       138\n",
            "           4       0.78      0.95      0.86        86\n",
            "           5       0.95      0.89      0.92       691\n",
            "           6       0.69      0.91      0.78       103\n",
            "           7       0.99      0.97      0.98       115\n",
            "\n",
            "    accuracy                           0.90      1625\n",
            "   macro avg       0.83      0.91      0.86      1625\n",
            "weighted avg       0.91      0.90      0.90      1625\n",
            "\n",
            "Confusion Matrix: \n",
            " [[ 21   0   0   1   0   1   0   0]\n",
            " [  1 378   2   2   2  21   3   0]\n",
            " [  0   1  55   0   2   1   1   0]\n",
            " [  3   2   0 107   1   2  23   0]\n",
            " [  0   0   1   1  82   2   0   0]\n",
            " [  5  20  10   8  16 615  16   1]\n",
            " [  2   0   0   3   2   2  94   0]\n",
            " [  1   1   0   1   0   1   0 111]]\n"
          ]
        },
        {
          "output_type": "stream",
          "name": "stderr",
          "text": [
            "Epoch 77: 100%|███████████████████████████████████████████████████████| 8/8 [02:16<00:00, 17.02s/it]\n"
          ]
        },
        {
          "output_type": "stream",
          "name": "stdout",
          "text": [
            "Average Loss =  tensor([9.1827], device='cuda:0', grad_fn=<DivBackward0>)\n"
          ]
        },
        {
          "output_type": "stream",
          "name": "stderr",
          "text": [
            "Validating 77: 100%|██████████████████████████████████████████████████| 2/2 [00:28<00:00, 14.39s/it]\n"
          ]
        },
        {
          "output_type": "stream",
          "name": "stdout",
          "text": [
            "              precision    recall  f1-score   support\n",
            "\n",
            "           0       0.95      0.91      0.93        23\n",
            "           1       0.91      0.92      0.92       409\n",
            "           2       0.76      0.93      0.84        60\n",
            "           3       0.93      0.83      0.87       138\n",
            "           4       0.73      0.95      0.83        86\n",
            "           5       0.94      0.89      0.92       691\n",
            "           6       0.81      0.88      0.84       103\n",
            "           7       0.99      0.97      0.98       115\n",
            "\n",
            "    accuracy                           0.90      1625\n",
            "   macro avg       0.88      0.91      0.89      1625\n",
            "weighted avg       0.91      0.90      0.90      1625\n",
            "\n",
            "Confusion Matrix: \n",
            " [[ 21   0   0   1   0   1   0   0]\n",
            " [  0 378   3   1   2  24   1   0]\n",
            " [  0   1  56   0   2   1   0   0]\n",
            " [  0   3   0 114   2   4  15   0]\n",
            " [  0   0   1   0  82   3   0   0]\n",
            " [  1  31  14   5  19 615   5   1]\n",
            " [  0   2   0   2   5   3  91   0]\n",
            " [  0   1   0   0   0   2   1 111]]\n"
          ]
        },
        {
          "output_type": "stream",
          "name": "stderr",
          "text": [
            "Epoch 78: 100%|███████████████████████████████████████████████████████| 8/8 [02:13<00:00, 16.74s/it]\n"
          ]
        },
        {
          "output_type": "stream",
          "name": "stdout",
          "text": [
            "Average Loss =  tensor([9.2836], device='cuda:0', grad_fn=<DivBackward0>)\n"
          ]
        },
        {
          "output_type": "stream",
          "name": "stderr",
          "text": [
            "Validating 78: 100%|██████████████████████████████████████████████████| 2/2 [00:29<00:00, 14.82s/it]\n"
          ]
        },
        {
          "output_type": "stream",
          "name": "stdout",
          "text": [
            "              precision    recall  f1-score   support\n",
            "\n",
            "           0       0.78      0.91      0.84        23\n",
            "           1       0.95      0.90      0.92       409\n",
            "           2       0.93      0.92      0.92        60\n",
            "           3       0.76      0.91      0.83       138\n",
            "           4       0.78      0.93      0.85        86\n",
            "           5       0.94      0.89      0.92       691\n",
            "           6       0.80      0.91      0.85       103\n",
            "           7       0.98      0.97      0.98       115\n",
            "\n",
            "    accuracy                           0.91      1625\n",
            "   macro avg       0.87      0.92      0.89      1625\n",
            "weighted avg       0.91      0.91      0.91      1625\n",
            "\n",
            "Confusion Matrix: \n",
            " [[ 21   0   0   1   0   1   0   0]\n",
            " [  0 368   1   6   2  29   2   1]\n",
            " [  0   0  55   0   3   1   1   0]\n",
            " [  1   2   0 126   0   2   7   0]\n",
            " [  0   1   0   2  80   1   2   0]\n",
            " [  4  17   3  25  15 615  11   1]\n",
            " [  1   1   0   4   2   1  94   0]\n",
            " [  0   0   0   1   1   1   0 112]]\n"
          ]
        },
        {
          "output_type": "stream",
          "name": "stderr",
          "text": [
            "Epoch 79: 100%|███████████████████████████████████████████████████████| 8/8 [02:13<00:00, 16.68s/it]\n"
          ]
        },
        {
          "output_type": "stream",
          "name": "stdout",
          "text": [
            "Average Loss =  tensor([9.0577], device='cuda:0', grad_fn=<DivBackward0>)\n"
          ]
        },
        {
          "output_type": "stream",
          "name": "stderr",
          "text": [
            "Validating 79: 100%|██████████████████████████████████████████████████| 2/2 [00:30<00:00, 15.06s/it]\n"
          ]
        },
        {
          "output_type": "stream",
          "name": "stdout",
          "text": [
            "              precision    recall  f1-score   support\n",
            "\n",
            "           0       0.81      0.91      0.86        23\n",
            "           1       0.92      0.94      0.93       409\n",
            "           2       0.84      0.93      0.88        60\n",
            "           3       0.89      0.91      0.90       138\n",
            "           4       0.88      0.95      0.92        86\n",
            "           5       0.95      0.90      0.92       691\n",
            "           6       0.84      0.91      0.87       103\n",
            "           7       0.98      0.97      0.98       115\n",
            "\n",
            "    accuracy                           0.92      1625\n",
            "   macro avg       0.89      0.93      0.91      1625\n",
            "weighted avg       0.92      0.92      0.92      1625\n",
            "\n",
            "Confusion Matrix: \n",
            " [[ 21   0   0   0   0   2   0   0]\n",
            " [  0 384   1   0   0  21   2   1]\n",
            " [  0   0  56   0   1   2   1   0]\n",
            " [  0   3   0 125   0   2   8   0]\n",
            " [  0   1   0   0  82   3   0   0]\n",
            " [  5  26  10  12   9 621   7   1]\n",
            " [  0   2   0   3   1   3  94   0]\n",
            " [  0   1   0   0   0   2   0 112]]\n"
          ]
        },
        {
          "output_type": "stream",
          "name": "stderr",
          "text": [
            "Epoch 80:  50%|███████████████████████████▌                           | 4/8 [01:14<01:14, 18.59s/it]"
          ]
        }
      ],
      "source": [
        "import tqdm\n",
        "import torch\n",
        "import torch.nn as nn\n",
        "import torch.nn.functional as F\n",
        "from torch.utils import data\n",
        "from sklearn.metrics import f1_score\n",
        "from sklearn.metrics import classification_report\n",
        "from sklearn.metrics import confusion_matrix\n",
        "\n",
        "# from models import ERC_MMN\n",
        "# from pickle_loader import load_erc\n",
        "\n",
        "batch_size = 64\n",
        "seq_len = 15\n",
        "seq2_len = seq_len\n",
        "emb_size = 768\n",
        "hidden_size = 768\n",
        "batch_first = True\n",
        "\n",
        "device = torch.device(\"cuda\" if torch.cuda.is_available() else \"cpu\")\n",
        "\n",
        "pickle_dir = 'drive/MyDrive/ediref/Pickles/MaSaC'\n",
        "\n",
        "idx2utt, utt2idx, idx2emo, emo2idx, idx2speaker,\\\n",
        "    speaker2idx, weight_matrix, my_dataset_train, my_dataset_test,\\\n",
        "    final_speaker_info, final_speaker_dialogues, final_speaker_emotions,\\\n",
        "    final_speaker_indices, final_utt_len = load_erc(pickle_dir)\n",
        "\n",
        "weight_matrix = weight_matrix.to(device)\n",
        "train_cnt = len(my_dataset_train)\n",
        "\n",
        "def get_train_test_loader(bs):\n",
        "    train_data_iter = data.DataLoader(my_dataset_train,batch_size=bs)\n",
        "    test_data_iter = data.DataLoader(my_dataset_test,batch_size=bs,drop_last=True)\n",
        "\n",
        "    return train_data_iter, test_data_iter\n",
        "\n",
        "def train(model, train_data_loader, epochs):\n",
        "    class_weights1 = torch.FloatTensor(weights1).to(device)\n",
        "    criterion1 = nn.CrossEntropyLoss(weight=class_weights1,reduction='none').to(device)\n",
        "\n",
        "    optimizer = torch.optim.Adam(model.parameters(),lr=1e-3,weight_decay=1e-5)\n",
        "    max_f1_1 = 0\n",
        "\n",
        "    try:\n",
        "\n",
        "      for epoch in range(epochs):\n",
        "          # print(\"\\n\\n-------Epoch {}-------\\n\\n\".format(epoch+1))\n",
        "          model.train()\n",
        "\n",
        "          avg_loss = 0\n",
        "\n",
        "          y_true1 = []\n",
        "          y_pred1 = []\n",
        "\n",
        "          for i_batch, sample_batched in tqdm.tqdm(enumerate(train_data_loader), ncols=100, total=len(train_data_loader), desc=f'Epoch {epoch}'):\n",
        "              dialogue_ids = sample_batched[0].tolist()\n",
        "              inputs = sample_batched[1].to(device)\n",
        "              targets1 = sample_batched[2].to(device)\n",
        "\n",
        "              optimizer.zero_grad()\n",
        "\n",
        "              _, outputs = model(dialogue_ids, final_speaker_info, final_speaker_dialogues, final_speaker_emotions, final_speaker_indices, inputs)\n",
        "\n",
        "              loss = 0\n",
        "              for b in range(outputs.size()[0]):\n",
        "                loss1 = 0\n",
        "                for s in range(final_utt_len[dialogue_ids[b]]):\n",
        "                  pred1 = torch.unsqueeze(outputs[b][s],dim=0).to(device)\n",
        "                  truth1 = torch.LongTensor([targets1[b][s].item()]).to(device)\n",
        "\n",
        "                  pred_emo = torch.argmax(F.softmax(pred1,-1),-1)\n",
        "\n",
        "                  y_pred1.append(pred_emo.item())\n",
        "                  y_true1.append(truth1.item())\n",
        "\n",
        "                  loss1 += criterion1(pred1,truth1)\n",
        "\n",
        "                loss1 /= final_utt_len[dialogue_ids[b]]\n",
        "                loss += loss1\n",
        "\n",
        "              loss /= batch_size\n",
        "              avg_loss += loss\n",
        "\n",
        "              loss.backward()\n",
        "              optimizer.step()\n",
        "\n",
        "          avg_loss /= len(train_data_loader)\n",
        "          print(\"Average Loss = \",avg_loss)\n",
        "          f1_1,v_loss = validate(model,data_iter_test,epoch)\n",
        "\n",
        "          # if f1_1 > max_f1_1:\n",
        "          #     print(f\"Saving model at epoch {epoch}\")\n",
        "          #     max_f1_1 = f1_1\n",
        "          # torch.save({\n",
        "          #   'model_state_dict': model.state_dict(),\n",
        "          #   'model': model\n",
        "          #   }, '../Models/MaSaC_ERC_MMN.pkl')\n",
        "    except Exception as e:\n",
        "      print('Error in train', e)\n",
        "    finally:\n",
        "      pass\n",
        "      # torch.save({\n",
        "      #   'model_state_dict': model.state_dict(),\n",
        "      #   'model': model\n",
        "      #   }, '../Models/MaSaC_ERC_MMN.pkl')\n",
        "\n",
        "    return model\n",
        "\n",
        "def validate(model, test_data_loader,epoch):\n",
        "    # print(\"\\n\\n***VALIDATION ({})***\\n\\n\".format(epoch))\n",
        "    class_weights1 = torch.FloatTensor(weights1).to(device)\n",
        "    criterion1 = nn.CrossEntropyLoss(weight=class_weights1,reduction='none')\n",
        "\n",
        "    model.eval()\n",
        "\n",
        "    with torch.no_grad():\n",
        "      avg_loss = 0\n",
        "\n",
        "      y_true1 = []\n",
        "      y_pred1 = []\n",
        "\n",
        "      for i_batch, sample_batched in tqdm.tqdm(enumerate(test_data_loader), ncols=100, total=len(test_data_loader), desc=f'Validating {epoch}'):\n",
        "            dialogue_ids = sample_batched[0].tolist()\n",
        "            dialogue_ids = [train_cnt+d for d in dialogue_ids]\n",
        "            inputs = sample_batched[1].to(device)\n",
        "            targets1 = sample_batched[2].to(device)\n",
        "\n",
        "            _, outputs = model(dialogue_ids, final_speaker_info, final_speaker_dialogues, final_speaker_emotions, final_speaker_indices, inputs, mode=\"valid\")\n",
        "\n",
        "            loss = 0\n",
        "            for b in range(outputs.size()[0]):\n",
        "              loss1 = 0\n",
        "              for s in range(final_utt_len[dialogue_ids[b]]):\n",
        "                pred1 = torch.unsqueeze(outputs[b][s],dim=0).to(device)\n",
        "                truth1 = torch.LongTensor([targets1[b][s].item()]).to(device)\n",
        "\n",
        "                pred_emo = torch.argmax(F.softmax(pred1,-1),-1)\n",
        "\n",
        "                y_pred1.append(pred_emo.item())\n",
        "                y_true1.append(truth1.item())\n",
        "\n",
        "                loss1 += criterion1(pred1,truth1)\n",
        "\n",
        "              loss1 /= final_utt_len[dialogue_ids[b]]\n",
        "              loss += loss1\n",
        "\n",
        "            loss /= batch_size\n",
        "            avg_loss += loss\n",
        "\n",
        "      avg_loss /= len(test_data_loader)\n",
        "\n",
        "      class_report = classification_report(y_true1,y_pred1)\n",
        "      conf_mat1 = confusion_matrix(y_true1,y_pred1)\n",
        "\n",
        "      print(class_report)\n",
        "      print(\"Confusion Matrix: \\n\",conf_mat1)\n",
        "\n",
        "      wtd_f1 = f1_score(y_true1,y_pred1,average=\"weighted\")\n",
        "      return wtd_f1, avg_loss\n",
        "\n",
        "n_emotions = 8\n",
        "model = ERC_MMN(hidden_size,weight_matrix,utt2idx,batch_size,seq_len, n_emotions=n_emotions).to(device)\n",
        "# weights1 = [1.0]*n_emotions\n",
        "weights1 = [57.3859649122807,5.379934210526316,19.58682634730539,11.377391304347826,16.034313725490197,2.2101351351351353,11.558303886925795,17.7289972899729]\n",
        "data_iter_train, data_iter_test = get_train_test_loader(batch_size)\n",
        "\n",
        "model = train(model, data_iter_train, epochs = 100)"
      ]
    },
    {
      "cell_type": "code",
      "source": [
        "torch.save({\n",
        "            'model_state_dict': model.state_dict(),\n",
        "            'model': model\n",
        "            }, 'drive/MyDrive/ediref/Models/MaSaC_ERC_MMN.pkl')"
      ],
      "metadata": {
        "colab": {
          "base_uri": "https://localhost:8080/",
          "height": 232
        },
        "id": "8z8cJ7cJPEhC",
        "outputId": "220d8abb-0681-41d3-a166-0e81424038b0"
      },
      "execution_count": null,
      "outputs": [
        {
          "output_type": "error",
          "ename": "NameError",
          "evalue": "ignored",
          "traceback": [
            "\u001b[0;31m---------------------------------------------------------------------------\u001b[0m",
            "\u001b[0;31mNameError\u001b[0m                                 Traceback (most recent call last)",
            "\u001b[0;32m<ipython-input-1-9f96e4c7309e>\u001b[0m in \u001b[0;36m<cell line: 1>\u001b[0;34m()\u001b[0m\n\u001b[0;32m----> 1\u001b[0;31m torch.save({\n\u001b[0m\u001b[1;32m      2\u001b[0m             \u001b[0;34m'model_state_dict'\u001b[0m\u001b[0;34m:\u001b[0m \u001b[0mmodel\u001b[0m\u001b[0;34m.\u001b[0m\u001b[0mstate_dict\u001b[0m\u001b[0;34m(\u001b[0m\u001b[0;34m)\u001b[0m\u001b[0;34m,\u001b[0m\u001b[0;34m\u001b[0m\u001b[0;34m\u001b[0m\u001b[0m\n\u001b[1;32m      3\u001b[0m             \u001b[0;34m'model'\u001b[0m\u001b[0;34m:\u001b[0m \u001b[0mmodel\u001b[0m\u001b[0;34m\u001b[0m\u001b[0;34m\u001b[0m\u001b[0m\n\u001b[1;32m      4\u001b[0m             }, 'drive/MyDrive/ediref/Models/MaSaC_ERC_MMN.pkl')\n",
            "\u001b[0;31mNameError\u001b[0m: name 'torch' is not defined"
          ]
        }
      ]
    }
  ]
}