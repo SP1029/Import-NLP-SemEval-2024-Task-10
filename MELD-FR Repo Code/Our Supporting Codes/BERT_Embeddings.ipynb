{
 "cells": [
  {
   "cell_type": "code",
   "execution_count": null,
   "metadata": {},
   "outputs": [],
   "source": [
    "# Code to convert Sentences to BERT Embeddings\n",
    "# Update the file paths to proceed"
   ]
  },
  {
   "cell_type": "code",
   "execution_count": null,
   "metadata": {},
   "outputs": [],
   "source": [
    "file_train = \"MELD_train_efr.json\"\n",
    "file_val = \"MELD_val_efr.json\""
   ]
  },
  {
   "cell_type": "code",
   "execution_count": null,
   "metadata": {},
   "outputs": [],
   "source": [
    "import json\n",
    "import pickle\n",
    "import nlp_utils as nu\n",
    "import torch\n",
    "from transformers import BertTokenizer, BertModel"
   ]
  },
  {
   "cell_type": "code",
   "execution_count": null,
   "metadata": {},
   "outputs": [],
   "source": [
    "# OPTIONAL: if you want to have more information on what's happening, activate the logger as follows\n",
    "import logging\n",
    "#logging.basicConfig(level=logging.INFO)\n",
    "\n",
    "import matplotlib.pyplot as plt\n",
    "# % matplotlib inline\n",
    "\n",
    "# Load pre-trained model tokenizer (vocabulary)\n",
    "tokenizer = BertTokenizer.from_pretrained('bert-base-uncased')\n"
   ]
  },
  {
   "cell_type": "code",
   "execution_count": null,
   "metadata": {},
   "outputs": [],
   "source": [
    "# Load pre-trained model (weights)\n",
    "model = BertModel.from_pretrained('bert-base-uncased',\n",
    "                                  output_hidden_states = True, # Whether the model returns all hidden-states.\n",
    "                                  )"
   ]
  },
  {
   "cell_type": "code",
   "execution_count": null,
   "metadata": {},
   "outputs": [],
   "source": [
    "def get_sen_embed(utt):\n",
    "    # Run the text through BERT, and collect all of the hidden states produced\n",
    "    # from all 12 layers. \n",
    "    with torch.no_grad():\n",
    "\n",
    "        # Define a new example sentence with multiple meanings of the word \"bank\"\n",
    "        text = utt\n",
    "\n",
    "        # Add the special tokens.\n",
    "        marked_text = \"[CLS] \" + text + \" [SEP]\"\n",
    "\n",
    "        # Split the sentence into tokens.\n",
    "        tokenized_text = tokenizer.tokenize(marked_text)\n",
    "\n",
    "        # Map the token strings to their vocabulary indeces.\n",
    "        indexed_tokens = tokenizer.convert_tokens_to_ids(tokenized_text)\n",
    "\n",
    "        # Mark each of the 22 tokens as belonging to sentence \"1\".\n",
    "        segments_ids = [1] * len(tokenized_text)\n",
    "\n",
    "        # Convert inputs to PyTorch tensors\n",
    "        tokens_tensor = torch.tensor([indexed_tokens])\n",
    "        segments_tensors = torch.tensor([segments_ids])\n",
    "\n",
    "        outputs = model(tokens_tensor, segments_tensors)\n",
    "        hidden_states = outputs[2]\n",
    "\n",
    "    # Concatenate the tensors for all layers. We use `stack` here to\n",
    "    # create a new dimension in the tensor.\n",
    "    token_embeddings = torch.stack(hidden_states, dim=0)\n",
    "\n",
    "    # Remove dimension 1, the \"batches\".\n",
    "    token_embeddings = torch.squeeze(token_embeddings, dim=1)\n",
    "\n",
    "    # Swap dimensions 0 and 1.\n",
    "    token_embeddings = token_embeddings.permute(1,0,2)\n",
    "\n",
    "    # Stores the token vectors, with shape [22 x 3,072]\n",
    "    token_vecs_cat = []\n",
    "\n",
    "    # `token_embeddings` is a [22 x 12 x 768] tensor.\n",
    "\n",
    "    # For each token in the sentence...\n",
    "    # Stores the token vectors, with shape [22 x 768]\n",
    "    token_vecs_sum = []\n",
    "\n",
    "    # `token_embeddings` is a [22 x 12 x 768] tensor.\n",
    "\n",
    "    # For each token in the sentence...\n",
    "    for token in token_embeddings:\n",
    "\n",
    "        # `token` is a [12 x 768] tensor\n",
    "\n",
    "        # Sum the vectors from the last four layers.\n",
    "        sum_vec = torch.sum(token[-4:], dim=0)\n",
    "        \n",
    "        # Use `sum_vec` to represent `token`.\n",
    "        token_vecs_sum.append(sum_vec)\n",
    "\n",
    "    # `hidden_states` has shape [13 x 1 x 22 x 768]\n",
    "\n",
    "    # `token_vecs` is a tensor with shape [22 x 768]\n",
    "    token_vecs = hidden_states[-2][0]\n",
    "\n",
    "    # Calculate the average of all 22 token vectors.\n",
    "    sentence_embedding = torch.mean(token_vecs, dim=0)\n",
    "    \n",
    "    return sentence_embedding"
   ]
  },
  {
   "cell_type": "code",
   "execution_count": null,
   "metadata": {},
   "outputs": [],
   "source": [
    "# Add BERT Embeddings from a file to ans_dict\n",
    "def add_bert_embeddings(filename, ans_dict):\n",
    "\n",
    "    # Read File\n",
    "    with open(filename, 'r') as file:\n",
    "            dataset = json.load(file)\n",
    "\n",
    "    N = len(dataset)\n",
    "\n",
    "    # Reading the data\n",
    "\n",
    "    episodes_list = []\n",
    "    speakers_list = []\n",
    "    utterances_list = []\n",
    "    triggers_list = []\n",
    "    emotions_list = []\n",
    "\n",
    "    for i in range(len(dataset)):\n",
    "            episodes_list.append(dataset[i]['episode'])\n",
    "            speakers_list.append(dataset[i]['speakers'])\n",
    "            utterances_list.append(dataset[i]['utterances'])\n",
    "            triggers_list.append(dataset[i]['triggers'])\n",
    "            emotions_list.append(dataset[i]['emotions'])\n",
    "\n",
    "    for i in range(N):\n",
    "        for j in range(len(utterances_list[i])):\n",
    "            pp_utt = nu.preprocess_text(utterances_list[i][j])\n",
    "            utt_emb = get_sen_embed(pp_utt)\n",
    "            ans_dict[pp_utt] = utt_emb\n",
    "        if i%10==0:\n",
    "          print(i)"
   ]
  },
  {
   "cell_type": "code",
   "execution_count": null,
   "metadata": {},
   "outputs": [],
   "source": [
    "# Add the embeddings for files\n",
    "\n",
    "ans_dict = {}\n",
    "add_bert_embeddings(file_train, ans_dict)\n",
    "add_bert_embeddings(file_train, ans_dict)"
   ]
  },
  {
   "cell_type": "code",
   "execution_count": null,
   "metadata": {},
   "outputs": [],
   "source": [
    "# Save the file\n",
    "\n",
    "with open('sent2emb.pickle', 'wb') as handle:\n",
    "    pickle.dump(ans_dict, handle, protocol=pickle.HIGHEST_PROTOCOL)"
   ]
  }
 ],
 "metadata": {
  "language_info": {
   "name": "python"
  }
 },
 "nbformat": 4,
 "nbformat_minor": 2
}
