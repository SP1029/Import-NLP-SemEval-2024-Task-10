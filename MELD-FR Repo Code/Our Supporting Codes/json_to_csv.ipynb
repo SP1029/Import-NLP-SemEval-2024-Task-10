{
 "cells": [
  {
   "cell_type": "code",
   "execution_count": 36,
   "metadata": {},
   "outputs": [],
   "source": [
    "# Code Convert Jsons to expected csv format\n",
    "# Update the file initials to proceed"
   ]
  },
  {
   "cell_type": "code",
   "execution_count": 37,
   "metadata": {},
   "outputs": [],
   "source": [
    "# File Initials\n",
    "\n",
    "file_initials = \"MELD_train_efr\"\n",
    "is_erc = False"
   ]
  },
  {
   "cell_type": "code",
   "execution_count": 38,
   "metadata": {},
   "outputs": [],
   "source": [
    "# Import Libraries\n",
    "\n",
    "import json\n",
    "import pandas as pd"
   ]
  },
  {
   "cell_type": "code",
   "execution_count": 39,
   "metadata": {},
   "outputs": [],
   "source": [
    "# Read File\n",
    "\n",
    "file_name = file_initials + \".json\"\n",
    "with open(file_name, 'r') as file:\n",
    "        dataset = json.load(file)"
   ]
  },
  {
   "cell_type": "code",
   "execution_count": 40,
   "metadata": {},
   "outputs": [],
   "source": [
    "# Reading the data\n",
    "\n",
    "episodes_list = []\n",
    "speakers_list = []\n",
    "utterances_list = []\n",
    "triggers_list = []\n",
    "emotions_list = []\n",
    "\n",
    "for i in range(len(dataset)):\n",
    "        episodes_list.append(dataset[i]['episode'])\n",
    "        speakers_list.append(dataset[i]['speakers'])\n",
    "        utterances_list.append(dataset[i]['utterances'])\n",
    "        if is_erc==False:\n",
    "                triggers_list.append(dataset[i]['triggers'])\n",
    "        emotions_list.append(dataset[i]['emotions'])  \n",
    "    \n",
    "N = len(dataset)"
   ]
  },
  {
   "cell_type": "code",
   "execution_count": 41,
   "metadata": {},
   "outputs": [],
   "source": [
    "# Change the headings\n",
    "if is_erc==False:\n",
    "    headings = [\"Dialogue_Id\", \"Speaker\", \"Emotion_name\", \"Utterance\", \"Annotate(0/1)\"]\n",
    "else:\n",
    "    headings = [\"Dialogue_Id\", \"Speaker\", \"Emotion_name\", \"Utterance\"]"
   ]
  },
  {
   "cell_type": "code",
   "execution_count": 42,
   "metadata": {},
   "outputs": [],
   "source": [
    "data = [[],[],[],[],[]]"
   ]
  },
  {
   "cell_type": "code",
   "execution_count": 43,
   "metadata": {},
   "outputs": [],
   "source": [
    "if is_erc==False:\n",
    "    data = [[],[],[],[],[]]\n",
    "else:\n",
    "    data = [[],[],[],[]]\n",
    "prev_first_sen = None\n",
    "d_id = -1\n",
    "for i in range(N):\n",
    "    if prev_first_sen!=utterances_list[i][0]:\n",
    "        d_id+=1\n",
    "        prev_first_sen = utterances_list[i][0]\n",
    "        \n",
    "    for j in range(len(utterances_list[i])):\n",
    "        data[0].append(d_id)\n",
    "        data[1].append(speakers_list[i][j])\n",
    "        data[2].append(emotions_list[i][j])\n",
    "        data[3].append(utterances_list[i][j])\n",
    "        if is_erc==False:\n",
    "            data[4].append(triggers_list[i][j])\n",
    "        \n",
    "    data[0].append(\"\")\n",
    "    data[1].append(\"\")\n",
    "    data[2].append(\"\")\n",
    "    data[3].append(\"\")\n",
    "    if is_erc==False:\n",
    "        data[4].append(\"\")\n",
    "                       "
   ]
  },
  {
   "cell_type": "code",
   "execution_count": 44,
   "metadata": {},
   "outputs": [],
   "source": [
    "df = pd.DataFrame(data)\n",
    "df = df.transpose()\n",
    "df.columns = headings\n",
    "df.to_csv(file_initials + \".csv\", index=False)"
   ]
  }
 ],
 "metadata": {
  "kernelspec": {
   "display_name": "env",
   "language": "python",
   "name": "python3"
  },
  "language_info": {
   "codemirror_mode": {
    "name": "ipython",
    "version": 3
   },
   "file_extension": ".py",
   "mimetype": "text/x-python",
   "name": "python",
   "nbconvert_exporter": "python",
   "pygments_lexer": "ipython3",
   "version": "3.10.11"
  },
  "orig_nbformat": 4
 },
 "nbformat": 4,
 "nbformat_minor": 2
}
