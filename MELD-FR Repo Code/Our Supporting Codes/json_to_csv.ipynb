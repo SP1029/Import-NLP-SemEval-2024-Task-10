{
 "cells": [
  {
   "cell_type": "code",
   "execution_count": 27,
   "metadata": {},
   "outputs": [],
   "source": [
    "# Code Convert Jsons to expected csv format\n",
    "# Update the file initials to proceed"
   ]
  },
  {
   "cell_type": "code",
   "execution_count": 28,
   "metadata": {},
   "outputs": [],
   "source": [
    "# File Initials\n",
    "\n",
    "file_initials = \"MELD_train_efr\"\n",
    "is_erc = True"
   ]
  },
  {
   "cell_type": "code",
   "execution_count": 29,
   "metadata": {},
   "outputs": [],
   "source": [
    "# Import Libraries\n",
    "\n",
    "import json\n",
    "import pandas as pd"
   ]
  },
  {
   "cell_type": "code",
   "execution_count": 30,
   "metadata": {},
   "outputs": [],
   "source": [
    "# Read File\n",
    "\n",
    "file_name = '../Original Repo/Data/' + file_initials + \".json\"\n",
    "with open(file_name, 'r') as file:\n",
    "        dataset = json.load(file)"
   ]
  },
  {
   "cell_type": "code",
   "execution_count": 31,
   "metadata": {},
   "outputs": [],
   "source": [
    "# Reading the data\n",
    "\n",
    "episodes_list = []\n",
    "speakers_list = []\n",
    "utterances_list = []\n",
    "triggers_list = []\n",
    "emotions_list = []\n",
    "\n",
    "for i in range(len(dataset)):\n",
    "        episodes_list.append(dataset[i]['episode'])\n",
    "        speakers_list.append(dataset[i]['speakers'])\n",
    "        utterances_list.append(dataset[i]['utterances'])\n",
    "        if is_erc==False:\n",
    "                triggers_list.append(dataset[i]['triggers'])\n",
    "        emotions_list.append(dataset[i]['emotions'])  \n",
    "    \n",
    "N = len(dataset)"
   ]
  },
  {
   "cell_type": "code",
   "execution_count": 32,
   "metadata": {},
   "outputs": [],
   "source": [
    "# Change the headings\n",
    "if is_erc==False:\n",
    "    headings = [\"Dialogue_Id\", \"Speaker\", \"Emotion_name\", \"Utterance\", \"Annotate(0/1)\"]\n",
    "else:\n",
    "    headings = [\"Dialogue_Id\", \"Speaker\", \"Emotion_name\", \"Utterance\"]"
   ]
  },
  {
   "cell_type": "code",
   "execution_count": 33,
   "metadata": {},
   "outputs": [],
   "source": [
    "data = [[],[],[],[],[]]"
   ]
  },
  {
   "cell_type": "code",
   "execution_count": 34,
   "metadata": {},
   "outputs": [],
   "source": [
    "if is_erc==False:\n",
    "    data = [[],[],[],[],[]]\n",
    "else:\n",
    "    data = [[],[],[],[]]\n",
    "prev_first_sen = None\n",
    "d_id = -1\n",
    "for i in range(N):\n",
    "    if prev_first_sen!=utterances_list[i][0]:\n",
    "        d_id+=1\n",
    "        prev_first_sen = utterances_list[i][0]\n",
    "        \n",
    "    for j in range(len(utterances_list[i])):\n",
    "        data[0].append(d_id)\n",
    "        data[1].append(speakers_list[i][j])\n",
    "        data[2].append(emotions_list[i][j])\n",
    "        data[3].append(utterances_list[i][j])\n",
    "        if is_erc==False:\n",
    "            data[4].append(triggers_list[i][j])\n",
    "        \n",
    "    data[0].append(\"\")\n",
    "    data[1].append(\"\")\n",
    "    data[2].append(\"\")\n",
    "    data[3].append(\"\")\n",
    "    if is_erc==False:\n",
    "        data[4].append(\"\")\n",
    "                       "
   ]
  },
  {
   "cell_type": "code",
   "execution_count": 35,
   "metadata": {},
   "outputs": [
    {
     "data": {
      "text/html": [
       "<div>\n",
       "<style scoped>\n",
       "    .dataframe tbody tr th:only-of-type {\n",
       "        vertical-align: middle;\n",
       "    }\n",
       "\n",
       "    .dataframe tbody tr th {\n",
       "        vertical-align: top;\n",
       "    }\n",
       "\n",
       "    .dataframe thead th {\n",
       "        text-align: right;\n",
       "    }\n",
       "</style>\n",
       "<table border=\"1\" class=\"dataframe\">\n",
       "  <thead>\n",
       "    <tr style=\"text-align: right;\">\n",
       "      <th></th>\n",
       "      <th>Dialogue_Id</th>\n",
       "      <th>Speaker</th>\n",
       "      <th>Emotion_name</th>\n",
       "      <th>Utterance</th>\n",
       "    </tr>\n",
       "  </thead>\n",
       "  <tbody>\n",
       "    <tr>\n",
       "      <th>0</th>\n",
       "      <td>0</td>\n",
       "      <td>Chandler</td>\n",
       "      <td>neutral</td>\n",
       "      <td>also I was the point person on my company's tr...</td>\n",
       "    </tr>\n",
       "    <tr>\n",
       "      <th>1</th>\n",
       "      <td>0</td>\n",
       "      <td>The Interviewer</td>\n",
       "      <td>neutral</td>\n",
       "      <td>You must've had your hands full.</td>\n",
       "    </tr>\n",
       "    <tr>\n",
       "      <th>2</th>\n",
       "      <td>0</td>\n",
       "      <td>Chandler</td>\n",
       "      <td>neutral</td>\n",
       "      <td>That I did. That I did.</td>\n",
       "    </tr>\n",
       "    <tr>\n",
       "      <th>3</th>\n",
       "      <td>0</td>\n",
       "      <td>The Interviewer</td>\n",
       "      <td>neutral</td>\n",
       "      <td>So let's talk a little bit about your duties.</td>\n",
       "    </tr>\n",
       "    <tr>\n",
       "      <th>4</th>\n",
       "      <td>0</td>\n",
       "      <td>Chandler</td>\n",
       "      <td>surprise</td>\n",
       "      <td>My duties?  All right.</td>\n",
       "    </tr>\n",
       "    <tr>\n",
       "      <th>...</th>\n",
       "      <td>...</td>\n",
       "      <td>...</td>\n",
       "      <td>...</td>\n",
       "      <td>...</td>\n",
       "    </tr>\n",
       "    <tr>\n",
       "      <th>38995</th>\n",
       "      <td>832</td>\n",
       "      <td>Chandler</td>\n",
       "      <td>neutral</td>\n",
       "      <td>You or me?</td>\n",
       "    </tr>\n",
       "    <tr>\n",
       "      <th>38996</th>\n",
       "      <td>832</td>\n",
       "      <td>Ross</td>\n",
       "      <td>neutral</td>\n",
       "      <td>I got it. Uh, Joey, women don't have Adam's ap...</td>\n",
       "    </tr>\n",
       "    <tr>\n",
       "      <th>38997</th>\n",
       "      <td>832</td>\n",
       "      <td>Joey</td>\n",
       "      <td>surprise</td>\n",
       "      <td>You guys are messing with me, right?</td>\n",
       "    </tr>\n",
       "    <tr>\n",
       "      <th>38998</th>\n",
       "      <td>832</td>\n",
       "      <td>All</td>\n",
       "      <td>neutral</td>\n",
       "      <td>Yeah.</td>\n",
       "    </tr>\n",
       "    <tr>\n",
       "      <th>38999</th>\n",
       "      <td></td>\n",
       "      <td></td>\n",
       "      <td></td>\n",
       "      <td></td>\n",
       "    </tr>\n",
       "  </tbody>\n",
       "</table>\n",
       "<p>39000 rows × 4 columns</p>\n",
       "</div>"
      ],
      "text/plain": [
       "      Dialogue_Id          Speaker Emotion_name  \\\n",
       "0               0         Chandler      neutral   \n",
       "1               0  The Interviewer      neutral   \n",
       "2               0         Chandler      neutral   \n",
       "3               0  The Interviewer      neutral   \n",
       "4               0         Chandler     surprise   \n",
       "...           ...              ...          ...   \n",
       "38995         832         Chandler      neutral   \n",
       "38996         832             Ross      neutral   \n",
       "38997         832             Joey     surprise   \n",
       "38998         832              All      neutral   \n",
       "38999                                             \n",
       "\n",
       "                                               Utterance  \n",
       "0      also I was the point person on my company's tr...  \n",
       "1                       You must've had your hands full.  \n",
       "2                                That I did. That I did.  \n",
       "3          So let's talk a little bit about your duties.  \n",
       "4                                 My duties?  All right.  \n",
       "...                                                  ...  \n",
       "38995                                         You or me?  \n",
       "38996  I got it. Uh, Joey, women don't have Adam's ap...  \n",
       "38997               You guys are messing with me, right?  \n",
       "38998                                              Yeah.  \n",
       "38999                                                     \n",
       "\n",
       "[39000 rows x 4 columns]"
      ]
     },
     "metadata": {},
     "output_type": "display_data"
    }
   ],
   "source": [
    "df = pd.DataFrame(data)\n",
    "df = df.transpose()\n",
    "df.columns = headings\n",
    "df.to_csv(file_initials + \".csv\", index=False)\n",
    "\n",
    "display(df)"
   ]
  },
  {
   "cell_type": "code",
   "execution_count": 26,
   "metadata": {},
   "outputs": [],
   "source": [
    "df.drop_duplicates().to_csv('MELD_train_erc.csv', index=False)"
   ]
  },
  {
   "cell_type": "code",
   "execution_count": 7,
   "metadata": {},
   "outputs": [
    {
     "data": {
      "text/plain": [
       "'c:\\\\Users\\\\divya\\\\Documents\\\\IITK\\\\Assignments\\\\CS779 - SNLP\\\\Emotion-Flip-Reasoning\\\\Import-NLP-SemEval-2024-Task-10\\\\MELD-FR Repo Code\\\\some.csv'"
      ]
     },
     "execution_count": 7,
     "metadata": {},
     "output_type": "execute_result"
    }
   ],
   "source": [
    "import os\n",
    "os.path.join(os.path.split(os.getcwd())[0], 'some.csv')"
   ]
  }
 ],
 "metadata": {
  "kernelspec": {
   "display_name": "env",
   "language": "python",
   "name": "python3"
  },
  "language_info": {
   "codemirror_mode": {
    "name": "ipython",
    "version": 3
   },
   "file_extension": ".py",
   "mimetype": "text/x-python",
   "name": "python",
   "nbconvert_exporter": "python",
   "pygments_lexer": "ipython3",
   "version": "3.9.17"
  },
  "orig_nbformat": 4
 },
 "nbformat": 4,
 "nbformat_minor": 2
}
