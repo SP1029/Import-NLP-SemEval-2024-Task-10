{
 "cells": [
  {
   "cell_type": "code",
   "execution_count": 1,
   "metadata": {},
   "outputs": [
    {
     "name": "stdout",
     "output_type": "stream",
     "text": [
      "Requirement already satisfied: selenium in c:\\shubham\\b-tech\\study\\academics\\semester_5\\cs779\\practical\\env\\lib\\site-packages (4.14.0)\n",
      "Requirement already satisfied: urllib3[socks]<3,>=1.26 in c:\\shubham\\b-tech\\study\\academics\\semester_5\\cs779\\practical\\env\\lib\\site-packages (from selenium) (1.26.13)\n",
      "Requirement already satisfied: trio~=0.17 in c:\\shubham\\b-tech\\study\\academics\\semester_5\\cs779\\practical\\env\\lib\\site-packages (from selenium) (0.22.2)\n",
      "Requirement already satisfied: trio-websocket~=0.9 in c:\\shubham\\b-tech\\study\\academics\\semester_5\\cs779\\practical\\env\\lib\\site-packages (from selenium) (0.11.1)\n",
      "Requirement already satisfied: certifi>=2021.10.8 in c:\\shubham\\b-tech\\study\\academics\\semester_5\\cs779\\practical\\env\\lib\\site-packages (from selenium) (2022.12.7)\n",
      "Requirement already satisfied: attrs>=20.1.0 in c:\\shubham\\b-tech\\study\\academics\\semester_5\\cs779\\practical\\env\\lib\\site-packages (from trio~=0.17->selenium) (23.1.0)\n",
      "Requirement already satisfied: sortedcontainers in c:\\shubham\\b-tech\\study\\academics\\semester_5\\cs779\\practical\\env\\lib\\site-packages (from trio~=0.17->selenium) (2.4.0)\n",
      "Requirement already satisfied: idna in c:\\shubham\\b-tech\\study\\academics\\semester_5\\cs779\\practical\\env\\lib\\site-packages (from trio~=0.17->selenium) (3.4)\n",
      "Requirement already satisfied: outcome in c:\\shubham\\b-tech\\study\\academics\\semester_5\\cs779\\practical\\env\\lib\\site-packages (from trio~=0.17->selenium) (1.3.0)\n",
      "Requirement already satisfied: sniffio in c:\\shubham\\b-tech\\study\\academics\\semester_5\\cs779\\practical\\env\\lib\\site-packages (from trio~=0.17->selenium) (1.3.0)\n",
      "Requirement already satisfied: cffi>=1.14 in c:\\shubham\\b-tech\\study\\academics\\semester_5\\cs779\\practical\\env\\lib\\site-packages (from trio~=0.17->selenium) (1.16.0)\n",
      "Requirement already satisfied: exceptiongroup>=1.0.0rc9 in c:\\shubham\\b-tech\\study\\academics\\semester_5\\cs779\\practical\\env\\lib\\site-packages (from trio~=0.17->selenium) (1.1.3)\n",
      "Requirement already satisfied: wsproto>=0.14 in c:\\shubham\\b-tech\\study\\academics\\semester_5\\cs779\\practical\\env\\lib\\site-packages (from trio-websocket~=0.9->selenium) (1.2.0)\n",
      "Requirement already satisfied: PySocks!=1.5.7,<2.0,>=1.5.6 in c:\\shubham\\b-tech\\study\\academics\\semester_5\\cs779\\practical\\env\\lib\\site-packages (from urllib3[socks]<3,>=1.26->selenium) (1.7.1)\n",
      "Requirement already satisfied: pycparser in c:\\shubham\\b-tech\\study\\academics\\semester_5\\cs779\\practical\\env\\lib\\site-packages (from cffi>=1.14->trio~=0.17->selenium) (2.21)\n",
      "Requirement already satisfied: h11<1,>=0.9.0 in c:\\shubham\\b-tech\\study\\academics\\semester_5\\cs779\\practical\\env\\lib\\site-packages (from wsproto>=0.14->trio-websocket~=0.9->selenium) (0.14.0)\n",
      "Note: you may need to restart the kernel to use updated packages.\n",
      "Note: you may need to restart the kernel to use updated packages.\n"
     ]
    },
    {
     "name": "stderr",
     "output_type": "stream",
     "text": [
      "ERROR: Could not find a version that satisfies the requirement time (from versions: none)\n",
      "ERROR: No matching distribution found for time\n"
     ]
    }
   ],
   "source": [
    "# Installing Libraries\n",
    "\n",
    "%pip install selenium\n",
    "%pip install time"
   ]
  },
  {
   "cell_type": "code",
   "execution_count": 2,
   "metadata": {},
   "outputs": [],
   "source": [
    "# Enter your username i.e. C:\\Users\\stude\\AppData\\ In this case it would be 'stude'\n",
    "username = \"stude\""
   ]
  },
  {
   "cell_type": "code",
   "execution_count": 3,
   "metadata": {},
   "outputs": [],
   "source": [
    "# Set it to false if you don't want the operations being done in Chrome to be visible\n",
    "view_operation = True"
   ]
  },
  {
   "cell_type": "code",
   "execution_count": 4,
   "metadata": {},
   "outputs": [
    {
     "name": "stdout",
     "output_type": "stream",
     "text": [
      "46\n"
     ]
    }
   ],
   "source": [
    "# Enter your queries in the format specified below:\n",
    "# Each query must be a different element of the list\n",
    "# Ensure to use \\n if you want to type on multiple lines\n",
    "\n",
    "import json\n",
    "# Read File\n",
    "\n",
    "file_name = \"MaSaC_val_erc.json\"\n",
    "with open(file_name, 'r') as file:\n",
    "        dataset = json.load(file)\n",
    "# Number of episodes in dataset\n",
    "\n",
    "N = len(dataset)\n",
    "print(N)\n",
    "# Reading the data\n",
    "\n",
    "episodes_list = []\n",
    "speakers_list = []\n",
    "utterances_list = []\n",
    "emotions_list = []\n",
    "\n",
    "for i in range(len(dataset)):\n",
    "        episodes_list.append(dataset[i]['episode'])\n",
    "        speakers_list.append(dataset[i]['speakers'])\n",
    "        utterances_list.append(dataset[i]['utterances'])\n",
    "        emotions_list.append(dataset[i]['emotions'])  \n",
    "    \n",
    "base_prompt = \\\n",
    "'''Perform ERC given sentences\n",
    "The emotion labels MUST be the most accurate in this world.\n",
    "It is fine if you take time but labels must be correct.\n",
    "Assign an emotion label out of labels = [\"neutral\", \"anger\", \"surprise\", \"fear\", \"joy\", \"contempt\", \"sadness\", \"disgust\"]\n",
    "The output should not contain anything except the list of emotion labels\n",
    "The output should not contain input sentences\n",
    "The output should not contain any explanation\n",
    "The output should NOT NOT NOT NOT NOT contain any additional text like text from you like \"Here is the list of emotion labels for the provided sentences:\"\n",
    "Only a python  list of emotions\n",
    "OUTPUT SAMPLE:\n",
    "[\"fear\",\"neutral\",\"sadness\",\"neutral\",\"fear\"]\n",
    "\n",
    "Now your INPUT is:\n",
    "\n",
    "'''\n",
    "# Reading the data\n",
    "prompts = []\n",
    "for i in range(len(dataset)):\n",
    "        sp = \"Speakers: \" + str(speakers_list[i]) + \"\\n\\n\"\n",
    "        utt  = \"Utterances: \" + str(utterances_list[i])\n",
    "        prompts.append(base_prompt + sp + utt)\n",
    "    \n",
    "# Reading the data\n",
    "prompts = []\n",
    "for i in range(len(dataset)):\n",
    "        sp = \"Speakers: \" + str(speakers_list[i]) + \"\\n\\n\"\n",
    "        utt  = \"Utterances: \" + str(utterances_list[i])\n",
    "        prompts.append(base_prompt + sp + utt)\n",
    "\n",
    "queries = prompts"
   ]
  },
  {
   "cell_type": "code",
   "execution_count": 5,
   "metadata": {},
   "outputs": [],
   "source": [
    "# Setting Variables\n",
    "\n",
    "chrome_path = 'C:\\\\Users\\\\' + username + '\\\\AppData\\\\Local\\\\Google\\\\Chrome\\\\User Data'"
   ]
  },
  {
   "cell_type": "code",
   "execution_count": 6,
   "metadata": {},
   "outputs": [],
   "source": [
    "# Importing Libraries\n",
    "\n",
    "import time\n",
    "from selenium import webdriver\n",
    "from selenium.webdriver.common.by import By\n",
    "from selenium.webdriver.common.keys import Keys\n",
    "from selenium.webdriver import ActionChains"
   ]
  },
  {
   "cell_type": "code",
   "execution_count": 7,
   "metadata": {},
   "outputs": [],
   "source": [
    "# Opening Chrome with your profile\n",
    "\n",
    "my_options = webdriver.ChromeOptions() \n",
    "userdatadir = chrome_path\n",
    "if view_operation==False:\n",
    "    my_options.add_experimental_option(\"excludeSwitches\", ['enable-automation'])\n",
    "my_options.add_argument(f\"--user-data-dir={userdatadir}\")\n",
    "driver = webdriver.Chrome(options=my_options)"
   ]
  },
  {
   "cell_type": "code",
   "execution_count": 8,
   "metadata": {},
   "outputs": [],
   "source": [
    "# Opening Website\n",
    "\n",
    "driver.get('https://chat.openai.com/')"
   ]
  },
  {
   "cell_type": "code",
   "execution_count": 9,
   "metadata": {},
   "outputs": [],
   "source": [
    "# Waiting Functions Definations\n",
    "            \n",
    "# Waits for response to be typed\n",
    "def wait_response(driver):\n",
    "    flag = False\n",
    "    \n",
    "    while flag==False:\n",
    "        time.sleep(0.1)\n",
    "        try:\n",
    "            text = driver.find_element(by=By.XPATH, value=\"/html/body/div[1]/div[1]/div[2]/main/div[1]/div[2]/form/div/div[1]/div/div[2]/div/button/div\").text\n",
    "        except:\n",
    "            flag = False\n",
    "        else:\n",
    "            flag =  text=='Regenerate'"
   ]
  },
  {
   "cell_type": "code",
   "execution_count": 10,
   "metadata": {},
   "outputs": [],
   "source": [
    "# Typing Function for query posting since for a new-line \"shift + enter\" is needed when browser is full screen\n",
    "\n",
    "def enter_query(query, prompt_box,driver):\n",
    "    ip_str = \"\"\n",
    "    for ch in query:\n",
    "        if ch!='\\n':\n",
    "            ip_str = ip_str + ch\n",
    "        else:\n",
    "            prompt_box.send_keys(ip_str)\n",
    "            ActionChains(driver)\\\n",
    "                .key_down(Keys.SHIFT)\\\n",
    "                .send_keys(Keys.ENTER)\\\n",
    "                .key_up(Keys.SHIFT)\\\n",
    "                .perform()\n",
    "            ip_str = \"\"\n",
    "    prompt_box.send_keys(ip_str)\n"
   ]
  },
  {
   "cell_type": "code",
   "execution_count": 11,
   "metadata": {},
   "outputs": [],
   "source": [
    "# Counter to keep track on number of queries posted\n",
    "# Used in bringing back the correct response corresponding to the query\n",
    "\n",
    "gbl_count = 0"
   ]
  },
  {
   "cell_type": "code",
   "execution_count": 12,
   "metadata": {},
   "outputs": [],
   "source": [
    "\n",
    "# Function to post query and get the response element back\n",
    "\n",
    "def make_query(driver, query, gbl_count):\n",
    "\n",
    "    i = gbl_count\n",
    "    \n",
    "    # Load Buttons\n",
    "    prompt_box = driver.find_element(by=By.CSS_SELECTOR, value=\"#prompt-textarea\")\n",
    "\n",
    "    # Make Query        \n",
    "    enter_query(query, prompt_box, driver)\n",
    "    \n",
    "    # Wait prompt end\n",
    "    prompt_box.send_keys(\"\\n\")\n",
    "    \n",
    "    # Wait for response to finish\n",
    "    wait_response(driver)\n",
    "    \n",
    "    # Return Response Element\n",
    "    response_element = driver.find_element(by=By.XPATH, value=f\"/html/body/div[1]/div[1]/div[2]/main/div[1]/div[1]/div/div/div/div[{2*gbl_count}]/div/div/div[2]/div/div[1]/div/div\")\n",
    "    return response_element"
   ]
  },
  {
   "cell_type": "code",
   "execution_count": 13,
   "metadata": {},
   "outputs": [
    {
     "name": "stdout",
     "output_type": "stream",
     "text": [
      "Response to Query 1 is:\n",
      "<p>Here's the list of emotion labels for the provided sentences:</p><p>[\"surprise\", \"joy\", \"anger\", \"contempt\", \"sadness\", \"contempt\", \"contempt\", \"contempt\", \"contempt\", \"neutral\", \"neutral\", \"neutral\"]</p><p>Please note that the emotion labels have been assigned based on the content of the sentences, as per your instructions.</p>\n",
      "Response to Query 2 is:\n",
      "<p>Here's the list of emotion labels for the provided sentences:</p><p>[\"neutral\", \"surprise\", \"neutral\", \"neutral\", \"neutral\", \"neutral\", \"neutral\", \"neutral\", \"neutral\", \"neutral\", \"neutral\", \"neutral\", \"neutral\", \"neutral\", \"neutral\", \"neutral\", \"neutral\", \"neutral\", \"neutral\", \"neutral\", \"neutral\", \"neutral\", \"neutral\", \"neutral\", \"neutral\", \"neutral\", \"neutral\", \"neutral\", \"neutral\", \"neutral\", \"neutral\", \"neutral\", \"neutral\", \"neutral\", \"neutral\", \"neutral\", \"neutral\", \"neutral\", \"neutral\", \"neutral\", \"neutral\", \"neutral\", \"neutral\", \"neutral\", \"neutral\", \"neutral\"]</p><p>Please note that the emotion labels have been assigned based on the content of the sentences, as per your instructions.</p>\n",
      "Response to Query 3 is:\n",
      "<p>Here's the list of emotion labels for the provided sentences:</p><p>[\"surprise\", \"neutral\", \"neutral\", \"surprise\", \"neutral\", \"fear\", \"fear\", \"neutral\", \"neutral\", \"joy\", \"neutral\", \"joy\", \"surprise\", \"neutral\", \"neutral\", \"neutral\", \"neutral\", \"neutral\", \"neutral\", \"neutral\"]</p><p>Please note that the emotion labels have been assigned based on the content of the sentences, as per your instructions.</p>\n",
      "Response to Query 4 is:\n",
      "<p>Here's the list of emotion labels for the provided sentences:</p><p>[\"neutral\", \"neutral\", \"neutral\", \"neutral\", \"neutral\", \"neutral\", \"neutral\", \"neutral\", \"neutral\", \"neutral\", \"neutral\", \"neutral\"]</p><p>Please note that the emotion labels have been assigned based on the content of the sentences, as per your instructions.</p>\n",
      "Response to Query 5 is:\n",
      "<p>Here's the list of emotion labels for the provided sentences:</p><p>[\"joy\", \"joy\", \"fear\", \"neutral\", \"neutral\", \"sadness\", \"neutral\", \"neutral\", \"neutral\", \"fear\", \"neutral\", \"fear\", \"neutral\", \"fear\", \"neutral\", \"fear\", \"neutral\", \"fear\", \"neutral\", \"joy\", \"fear\", \"neutral\", \"sadness\", \"fear\", \"neutral\", \"sadness\", \"sadness\", \"sadness\", \"sadness\", \"neutral\", \"neutral\", \"sadness\", \"neutral\", \"neutral\", \"neutral\", \"sadness\", \"neutral\", \"sadness\", \"neutral\"]</p><p>Please note that the emotion labels have been assigned based on the content of the sentences, as per your instructions.</p>\n"
     ]
    }
   ],
   "source": [
    "# Main Function\n",
    "\n",
    "for i in range(5):\n",
    "        \n",
    "    # Store Response \n",
    "    gbl_count = gbl_count + 1\n",
    "    response_element = make_query(driver, queries[i], gbl_count)\n",
    "    \n",
    "    if response_element.text == \"Something went wrong. If this issue persists please contact us through our help center at help.openai.com.\":\n",
    "        print(f\"Error Occurred at {i+1}th Query\")\n",
    "        break\n",
    "    \n",
    "    html_resp = response_element.get_attribute('innerHTML')\n",
    "    print(\"Response to Query \" + str(i+1) + \" is:\")\n",
    "    print(html_resp)\n",
    "    f = open(f\"response_{i+1}.txt\", \"w\")\n",
    "    f.write(html_resp)\n",
    "    f.close()"
   ]
  },
  {
   "cell_type": "code",
   "execution_count": null,
   "metadata": {},
   "outputs": [],
   "source": []
  }
 ],
 "metadata": {
  "kernelspec": {
   "display_name": "Python 3",
   "language": "python",
   "name": "python3"
  },
  "language_info": {
   "codemirror_mode": {
    "name": "ipython",
    "version": 3
   },
   "file_extension": ".py",
   "mimetype": "text/x-python",
   "name": "python",
   "nbconvert_exporter": "python",
   "pygments_lexer": "ipython3",
   "version": "3.10.11"
  },
  "orig_nbformat": 4
 },
 "nbformat": 4,
 "nbformat_minor": 2
}
